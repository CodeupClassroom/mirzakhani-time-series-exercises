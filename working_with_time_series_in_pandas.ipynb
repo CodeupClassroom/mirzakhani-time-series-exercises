{
 "cells": [
  {
   "cell_type": "markdown",
   "id": "8b4e6250-df6b-4055-9009-639e3ccef009",
   "metadata": {},
   "source": [
    "# Working With Time Series in Pandas\n",
    "\n",
    "## Imports"
   ]
  },
  {
   "cell_type": "code",
   "execution_count": 1,
   "id": "92e9de37-1d72-4281-ab93-3a806a0a0846",
   "metadata": {},
   "outputs": [],
   "source": [
    "import pandas as pd\n",
    "\n",
    "import matplotlib.pyplot as plt\n",
    "plt.rcParams[\"figure.figsize\"] = (16,9)\n",
    "plt.rcParams[\"font.size\"] = 15\n",
    "\n",
    "import warnings\n",
    "warnings.filterwarnings('ignore')"
   ]
  },
  {
   "cell_type": "markdown",
   "id": "d632b3f6-a0f4-41b4-aa62-16e582851bdc",
   "metadata": {},
   "source": [
    "## Converting to DateTime Type"
   ]
  },
  {
   "cell_type": "code",
   "execution_count": 2,
   "id": "c905242d",
   "metadata": {},
   "outputs": [],
   "source": [
    "date = 'Jan 1 1970'"
   ]
  },
  {
   "cell_type": "markdown",
   "id": "120c4501-0225-4c30-96b9-a37fcd0a80a1",
   "metadata": {},
   "source": [
    "![I have a Date!](https://media2.giphy.com/media/W2heDDJSLC0thGO7Ld/giphy.gif?cid=ecf05e472da7nf00vbh7xp4lqxyszvszjojoc2qw3uthsz4s&rid=giphy.gif&ct=g)\n",
    "\n",
    "### But how do I get pandas to understand it and work with it"
   ]
  },
  {
   "cell_type": "code",
   "execution_count": 3,
   "id": "f86d0308-0168-42b9-929f-31eb3e9755a3",
   "metadata": {},
   "outputs": [
    {
     "data": {
      "text/plain": [
       "Timestamp('1970-01-01 00:00:00')"
      ]
     },
     "execution_count": 3,
     "metadata": {},
     "output_type": "execute_result"
    }
   ],
   "source": [
    "pd.to_datetime('Jan 1 1970')"
   ]
  },
  {
   "cell_type": "markdown",
   "id": "a076c573-c575-42cc-99f9-a43508ad08d7",
   "metadata": {},
   "source": [
    "### But sometime pandas isn't able to infer the format of our date"
   ]
  },
  {
   "cell_type": "code",
   "execution_count": 6,
   "id": "2db61eb9-f51d-44a0-b796-663f27db5f48",
   "metadata": {},
   "outputs": [
    {
     "name": "stdout",
     "output_type": "stream",
     "text": [
      "ValueError Unknown string format: Jan:1:1970\n"
     ]
    }
   ],
   "source": [
    "try:\n",
    "    pd.to_datetime('Jan:1:1970')\n",
    "except ValueError as e:\n",
    "    print('ValueError', e)"
   ]
  },
  {
   "cell_type": "markdown",
   "id": "3f95283c-8235-4dac-b200-97d307aba4c0",
   "metadata": {},
   "source": [
    "### So we need to tell pandas what the format is"
   ]
  },
  {
   "cell_type": "code",
   "execution_count": 7,
   "id": "341f67db-90b9-427d-93a8-e69be9dd9a74",
   "metadata": {},
   "outputs": [
    {
     "data": {
      "text/plain": [
       "Timestamp('1970-01-01 00:00:00')"
      ]
     },
     "execution_count": 7,
     "metadata": {},
     "output_type": "execute_result"
    }
   ],
   "source": [
    "pd.to_datetime('Jan:1:1970', format='%b:%d:%Y')"
   ]
  },
  {
   "cell_type": "markdown",
   "id": "584a2318-58c4-4c15-b9b4-c963cd3e75a1",
   "metadata": {},
   "source": [
    "#### There are all sorts of format codes and you can find them here: [Python date format codes](https://docs.python.org/3/library/datetime.html#strftime-and-strptime-behavior)"
   ]
  },
  {
   "cell_type": "markdown",
   "id": "6fec5c9f-2e40-4973-b56b-7d64df7a25a1",
   "metadata": {},
   "source": [
    "### Now what about a whole column of dates?"
   ]
  },
  {
   "cell_type": "code",
   "execution_count": 8,
   "id": "a4ad16d3-f57a-408c-964e-9a1a71a69306",
   "metadata": {},
   "outputs": [
    {
     "data": {
      "text/html": [
       "<div>\n",
       "<style scoped>\n",
       "    .dataframe tbody tr th:only-of-type {\n",
       "        vertical-align: middle;\n",
       "    }\n",
       "\n",
       "    .dataframe tbody tr th {\n",
       "        vertical-align: top;\n",
       "    }\n",
       "\n",
       "    .dataframe thead th {\n",
       "        text-align: right;\n",
       "    }\n",
       "</style>\n",
       "<table border=\"1\" class=\"dataframe\">\n",
       "  <thead>\n",
       "    <tr style=\"text-align: right;\">\n",
       "      <th></th>\n",
       "      <th>date</th>\n",
       "      <th>coffee_consumption</th>\n",
       "    </tr>\n",
       "  </thead>\n",
       "  <tbody>\n",
       "    <tr>\n",
       "      <th>0</th>\n",
       "      <td>2019-01-01</td>\n",
       "      <td>14.301915</td>\n",
       "    </tr>\n",
       "    <tr>\n",
       "      <th>1</th>\n",
       "      <td>2019-01-02</td>\n",
       "      <td>12.905900</td>\n",
       "    </tr>\n",
       "    <tr>\n",
       "      <th>2</th>\n",
       "      <td>2019-01-03</td>\n",
       "      <td>10.046015</td>\n",
       "    </tr>\n",
       "    <tr>\n",
       "      <th>3</th>\n",
       "      <td>2019-01-04</td>\n",
       "      <td>6.354805</td>\n",
       "    </tr>\n",
       "    <tr>\n",
       "      <th>4</th>\n",
       "      <td>2019-01-07</td>\n",
       "      <td>8.545563</td>\n",
       "    </tr>\n",
       "    <tr>\n",
       "      <th>...</th>\n",
       "      <td>...</td>\n",
       "      <td>...</td>\n",
       "    </tr>\n",
       "    <tr>\n",
       "      <th>256</th>\n",
       "      <td>2019-12-25</td>\n",
       "      <td>12.250875</td>\n",
       "    </tr>\n",
       "    <tr>\n",
       "      <th>257</th>\n",
       "      <td>2019-12-26</td>\n",
       "      <td>7.513206</td>\n",
       "    </tr>\n",
       "    <tr>\n",
       "      <th>258</th>\n",
       "      <td>2019-12-27</td>\n",
       "      <td>9.464345</td>\n",
       "    </tr>\n",
       "    <tr>\n",
       "      <th>259</th>\n",
       "      <td>2019-12-30</td>\n",
       "      <td>14.623106</td>\n",
       "    </tr>\n",
       "    <tr>\n",
       "      <th>260</th>\n",
       "      <td>2019-12-31</td>\n",
       "      <td>10.168315</td>\n",
       "    </tr>\n",
       "  </tbody>\n",
       "</table>\n",
       "<p>261 rows × 2 columns</p>\n",
       "</div>"
      ],
      "text/plain": [
       "           date  coffee_consumption\n",
       "0    2019-01-01           14.301915\n",
       "1    2019-01-02           12.905900\n",
       "2    2019-01-03           10.046015\n",
       "3    2019-01-04            6.354805\n",
       "4    2019-01-07            8.545563\n",
       "..          ...                 ...\n",
       "256  2019-12-25           12.250875\n",
       "257  2019-12-26            7.513206\n",
       "258  2019-12-27            9.464345\n",
       "259  2019-12-30           14.623106\n",
       "260  2019-12-31           10.168315\n",
       "\n",
       "[261 rows x 2 columns]"
      ]
     },
     "execution_count": 8,
     "metadata": {},
     "output_type": "execute_result"
    }
   ],
   "source": [
    "url = \"https://gist.githubusercontent.com/ryanorsinger/b309f8db19e0ca71b213d4877d835e77/raw/f5841017310e2f4ca070b313529ceec2375336ba/coffee_consumption.csv\"\n",
    "df = pd.read_csv(url)\n",
    "df"
   ]
  },
  {
   "cell_type": "code",
   "execution_count": 9,
   "id": "53064412-a94c-4b09-80bd-d6867f913df8",
   "metadata": {},
   "outputs": [
    {
     "data": {
      "text/plain": [
       "date                   object\n",
       "coffee_consumption    float64\n",
       "dtype: object"
      ]
     },
     "execution_count": 9,
     "metadata": {},
     "output_type": "execute_result"
    }
   ],
   "source": [
    "df.dtypes"
   ]
  },
  {
   "cell_type": "code",
   "execution_count": 10,
   "id": "fa9095f5-218f-4f65-9a42-72caecaee41c",
   "metadata": {},
   "outputs": [
    {
     "data": {
      "text/plain": [
       "str"
      ]
     },
     "execution_count": 10,
     "metadata": {},
     "output_type": "execute_result"
    }
   ],
   "source": [
    "type(df.iloc[1]['date'])"
   ]
  },
  {
   "cell_type": "code",
   "execution_count": 11,
   "id": "97021960-b59d-4bc5-92f2-4f796578ee40",
   "metadata": {},
   "outputs": [
    {
     "data": {
      "text/plain": [
       "date                  datetime64[ns]\n",
       "coffee_consumption           float64\n",
       "dtype: object"
      ]
     },
     "execution_count": 11,
     "metadata": {},
     "output_type": "execute_result"
    }
   ],
   "source": [
    "df.date = pd.to_datetime(df.date)\n",
    "df.dtypes"
   ]
  },
  {
   "cell_type": "markdown",
   "id": "4f342a9c-c377-4f16-b7e2-2ea463499d59",
   "metadata": {},
   "source": [
    "## Working with DateTime Series"
   ]
  },
  {
   "cell_type": "code",
   "execution_count": 12,
   "id": "ab15b436-4e1b-4a4f-9f70-94e0a3cba5ea",
   "metadata": {},
   "outputs": [
    {
     "data": {
      "text/plain": [
       "0     2019-01-01\n",
       "1     2019-01-02\n",
       "2     2019-01-03\n",
       "3     2019-01-04\n",
       "4     2019-01-07\n",
       "         ...    \n",
       "256   2019-12-25\n",
       "257   2019-12-26\n",
       "258   2019-12-27\n",
       "259   2019-12-30\n",
       "260   2019-12-31\n",
       "Name: date, Length: 261, dtype: datetime64[ns]"
      ]
     },
     "execution_count": 12,
     "metadata": {},
     "output_type": "execute_result"
    }
   ],
   "source": [
    "df.date"
   ]
  },
  {
   "cell_type": "markdown",
   "id": "f25359e1-ada3-4974-928e-c4bffd07d162",
   "metadata": {},
   "source": [
    "### `.dt` allows us to extract parts of the date"
   ]
  },
  {
   "cell_type": "code",
   "execution_count": 13,
   "id": "c935cb67-c33b-4b9d-9034-bdf675204a82",
   "metadata": {},
   "outputs": [
    {
     "data": {
      "text/plain": [
       "0      2019\n",
       "1      2019\n",
       "2      2019\n",
       "3      2019\n",
       "4      2019\n",
       "       ... \n",
       "256    2019\n",
       "257    2019\n",
       "258    2019\n",
       "259    2019\n",
       "260    2019\n",
       "Name: date, Length: 261, dtype: int64"
      ]
     },
     "execution_count": 13,
     "metadata": {},
     "output_type": "execute_result"
    }
   ],
   "source": [
    "df.date.dt.year"
   ]
  },
  {
   "cell_type": "code",
   "execution_count": 14,
   "id": "53cbfdae-241a-4dbb-b99d-387a561f2b1e",
   "metadata": {},
   "outputs": [
    {
     "data": {
      "text/plain": [
       "0       1\n",
       "1       1\n",
       "2       1\n",
       "3       1\n",
       "4       1\n",
       "       ..\n",
       "256    12\n",
       "257    12\n",
       "258    12\n",
       "259    12\n",
       "260    12\n",
       "Name: date, Length: 261, dtype: int64"
      ]
     },
     "execution_count": 14,
     "metadata": {},
     "output_type": "execute_result"
    }
   ],
   "source": [
    "df.date.dt.month"
   ]
  },
  {
   "cell_type": "code",
   "execution_count": 15,
   "id": "5bf5fac7-358c-4878-8905-574207da306f",
   "metadata": {},
   "outputs": [
    {
     "data": {
      "text/plain": [
       "0       1\n",
       "1       2\n",
       "2       3\n",
       "3       4\n",
       "4       7\n",
       "       ..\n",
       "256    25\n",
       "257    26\n",
       "258    27\n",
       "259    30\n",
       "260    31\n",
       "Name: date, Length: 261, dtype: int64"
      ]
     },
     "execution_count": 15,
     "metadata": {},
     "output_type": "execute_result"
    }
   ],
   "source": [
    "df.date.dt.day"
   ]
  },
  {
   "cell_type": "code",
   "execution_count": 16,
   "id": "61855045-5c26-4f28-8d53-b77f1ee1502d",
   "metadata": {},
   "outputs": [
    {
     "data": {
      "text/plain": [
       "0        Tuesday\n",
       "1      Wednesday\n",
       "2       Thursday\n",
       "3         Friday\n",
       "4         Monday\n",
       "         ...    \n",
       "256    Wednesday\n",
       "257     Thursday\n",
       "258       Friday\n",
       "259       Monday\n",
       "260      Tuesday\n",
       "Name: date, Length: 261, dtype: object"
      ]
     },
     "execution_count": 16,
     "metadata": {},
     "output_type": "execute_result"
    }
   ],
   "source": [
    "df.date.dt.day_name()"
   ]
  },
  {
   "cell_type": "code",
   "execution_count": 18,
   "id": "10804280",
   "metadata": {},
   "outputs": [
    {
     "ename": "ParserError",
     "evalue": "day is out of range for month: Feb 29 2021",
     "output_type": "error",
     "traceback": [
      "\u001b[0;31m---------------------------------------------------------------------------\u001b[0m",
      "\u001b[0;31mValueError\u001b[0m                                Traceback (most recent call last)",
      "\u001b[0;32m/opt/homebrew/anaconda3/lib/python3.9/site-packages/dateutil/parser/_parser.py\u001b[0m in \u001b[0;36mparse\u001b[0;34m(self, timestr, default, ignoretz, tzinfos, **kwargs)\u001b[0m\n\u001b[1;32m    648\u001b[0m         \u001b[0;32mtry\u001b[0m\u001b[0;34m:\u001b[0m\u001b[0;34m\u001b[0m\u001b[0;34m\u001b[0m\u001b[0m\n\u001b[0;32m--> 649\u001b[0;31m             \u001b[0mret\u001b[0m \u001b[0;34m=\u001b[0m \u001b[0mself\u001b[0m\u001b[0;34m.\u001b[0m\u001b[0m_build_naive\u001b[0m\u001b[0;34m(\u001b[0m\u001b[0mres\u001b[0m\u001b[0;34m,\u001b[0m \u001b[0mdefault\u001b[0m\u001b[0;34m)\u001b[0m\u001b[0;34m\u001b[0m\u001b[0;34m\u001b[0m\u001b[0m\n\u001b[0m\u001b[1;32m    650\u001b[0m         \u001b[0;32mexcept\u001b[0m \u001b[0mValueError\u001b[0m \u001b[0;32mas\u001b[0m \u001b[0me\u001b[0m\u001b[0;34m:\u001b[0m\u001b[0;34m\u001b[0m\u001b[0;34m\u001b[0m\u001b[0m\n",
      "\u001b[0;32m/opt/homebrew/anaconda3/lib/python3.9/site-packages/dateutil/parser/_parser.py\u001b[0m in \u001b[0;36m_build_naive\u001b[0;34m(self, res, default)\u001b[0m\n\u001b[1;32m   1234\u001b[0m \u001b[0;34m\u001b[0m\u001b[0m\n\u001b[0;32m-> 1235\u001b[0;31m         \u001b[0mnaive\u001b[0m \u001b[0;34m=\u001b[0m \u001b[0mdefault\u001b[0m\u001b[0;34m.\u001b[0m\u001b[0mreplace\u001b[0m\u001b[0;34m(\u001b[0m\u001b[0;34m**\u001b[0m\u001b[0mrepl\u001b[0m\u001b[0;34m)\u001b[0m\u001b[0;34m\u001b[0m\u001b[0;34m\u001b[0m\u001b[0m\n\u001b[0m\u001b[1;32m   1236\u001b[0m \u001b[0;34m\u001b[0m\u001b[0m\n",
      "\u001b[0;31mValueError\u001b[0m: day is out of range for month",
      "\nThe above exception was the direct cause of the following exception:\n",
      "\u001b[0;31mParserError\u001b[0m                               Traceback (most recent call last)",
      "\u001b[0;32m/opt/homebrew/anaconda3/lib/python3.9/site-packages/pandas/_libs/tslib.pyx\u001b[0m in \u001b[0;36mpandas._libs.tslib.array_to_datetime\u001b[0;34m()\u001b[0m\n",
      "\u001b[0;32m/opt/homebrew/anaconda3/lib/python3.9/site-packages/pandas/_libs/tslibs/parsing.pyx\u001b[0m in \u001b[0;36mpandas._libs.tslibs.parsing.parse_datetime_string\u001b[0;34m()\u001b[0m\n",
      "\u001b[0;32m/opt/homebrew/anaconda3/lib/python3.9/site-packages/dateutil/parser/_parser.py\u001b[0m in \u001b[0;36mparse\u001b[0;34m(timestr, parserinfo, **kwargs)\u001b[0m\n\u001b[1;32m   1367\u001b[0m     \u001b[0;32melse\u001b[0m\u001b[0;34m:\u001b[0m\u001b[0;34m\u001b[0m\u001b[0;34m\u001b[0m\u001b[0m\n\u001b[0;32m-> 1368\u001b[0;31m         \u001b[0;32mreturn\u001b[0m \u001b[0mDEFAULTPARSER\u001b[0m\u001b[0;34m.\u001b[0m\u001b[0mparse\u001b[0m\u001b[0;34m(\u001b[0m\u001b[0mtimestr\u001b[0m\u001b[0;34m,\u001b[0m \u001b[0;34m**\u001b[0m\u001b[0mkwargs\u001b[0m\u001b[0;34m)\u001b[0m\u001b[0;34m\u001b[0m\u001b[0;34m\u001b[0m\u001b[0m\n\u001b[0m\u001b[1;32m   1369\u001b[0m \u001b[0;34m\u001b[0m\u001b[0m\n",
      "\u001b[0;32m/opt/homebrew/anaconda3/lib/python3.9/site-packages/dateutil/parser/_parser.py\u001b[0m in \u001b[0;36mparse\u001b[0;34m(self, timestr, default, ignoretz, tzinfos, **kwargs)\u001b[0m\n\u001b[1;32m    650\u001b[0m         \u001b[0;32mexcept\u001b[0m \u001b[0mValueError\u001b[0m \u001b[0;32mas\u001b[0m \u001b[0me\u001b[0m\u001b[0;34m:\u001b[0m\u001b[0;34m\u001b[0m\u001b[0;34m\u001b[0m\u001b[0m\n\u001b[0;32m--> 651\u001b[0;31m             \u001b[0msix\u001b[0m\u001b[0;34m.\u001b[0m\u001b[0mraise_from\u001b[0m\u001b[0;34m(\u001b[0m\u001b[0mParserError\u001b[0m\u001b[0;34m(\u001b[0m\u001b[0mstr\u001b[0m\u001b[0;34m(\u001b[0m\u001b[0me\u001b[0m\u001b[0;34m)\u001b[0m \u001b[0;34m+\u001b[0m \u001b[0;34m\": %s\"\u001b[0m\u001b[0;34m,\u001b[0m \u001b[0mtimestr\u001b[0m\u001b[0;34m)\u001b[0m\u001b[0;34m,\u001b[0m \u001b[0me\u001b[0m\u001b[0;34m)\u001b[0m\u001b[0;34m\u001b[0m\u001b[0;34m\u001b[0m\u001b[0m\n\u001b[0m\u001b[1;32m    652\u001b[0m \u001b[0;34m\u001b[0m\u001b[0m\n",
      "\u001b[0;32m/opt/homebrew/anaconda3/lib/python3.9/site-packages/six.py\u001b[0m in \u001b[0;36mraise_from\u001b[0;34m(value, from_value)\u001b[0m\n",
      "\u001b[0;31mParserError\u001b[0m: day is out of range for month: Feb 29 2021",
      "\nDuring handling of the above exception, another exception occurred:\n",
      "\u001b[0;31mTypeError\u001b[0m                                 Traceback (most recent call last)",
      "\u001b[0;32m/opt/homebrew/anaconda3/lib/python3.9/site-packages/pandas/_libs/tslib.pyx\u001b[0m in \u001b[0;36mpandas._libs.tslib.array_to_datetime\u001b[0;34m()\u001b[0m\n",
      "\u001b[0;31mTypeError\u001b[0m: invalid string coercion to datetime",
      "\nDuring handling of the above exception, another exception occurred:\n",
      "\u001b[0;31mValueError\u001b[0m                                Traceback (most recent call last)",
      "\u001b[0;32m/opt/homebrew/anaconda3/lib/python3.9/site-packages/dateutil/parser/_parser.py\u001b[0m in \u001b[0;36mparse\u001b[0;34m(self, timestr, default, ignoretz, tzinfos, **kwargs)\u001b[0m\n\u001b[1;32m    648\u001b[0m         \u001b[0;32mtry\u001b[0m\u001b[0;34m:\u001b[0m\u001b[0;34m\u001b[0m\u001b[0;34m\u001b[0m\u001b[0m\n\u001b[0;32m--> 649\u001b[0;31m             \u001b[0mret\u001b[0m \u001b[0;34m=\u001b[0m \u001b[0mself\u001b[0m\u001b[0;34m.\u001b[0m\u001b[0m_build_naive\u001b[0m\u001b[0;34m(\u001b[0m\u001b[0mres\u001b[0m\u001b[0;34m,\u001b[0m \u001b[0mdefault\u001b[0m\u001b[0;34m)\u001b[0m\u001b[0;34m\u001b[0m\u001b[0;34m\u001b[0m\u001b[0m\n\u001b[0m\u001b[1;32m    650\u001b[0m         \u001b[0;32mexcept\u001b[0m \u001b[0mValueError\u001b[0m \u001b[0;32mas\u001b[0m \u001b[0me\u001b[0m\u001b[0;34m:\u001b[0m\u001b[0;34m\u001b[0m\u001b[0;34m\u001b[0m\u001b[0m\n",
      "\u001b[0;32m/opt/homebrew/anaconda3/lib/python3.9/site-packages/dateutil/parser/_parser.py\u001b[0m in \u001b[0;36m_build_naive\u001b[0;34m(self, res, default)\u001b[0m\n\u001b[1;32m   1234\u001b[0m \u001b[0;34m\u001b[0m\u001b[0m\n\u001b[0;32m-> 1235\u001b[0;31m         \u001b[0mnaive\u001b[0m \u001b[0;34m=\u001b[0m \u001b[0mdefault\u001b[0m\u001b[0;34m.\u001b[0m\u001b[0mreplace\u001b[0m\u001b[0;34m(\u001b[0m\u001b[0;34m**\u001b[0m\u001b[0mrepl\u001b[0m\u001b[0;34m)\u001b[0m\u001b[0;34m\u001b[0m\u001b[0;34m\u001b[0m\u001b[0m\n\u001b[0m\u001b[1;32m   1236\u001b[0m \u001b[0;34m\u001b[0m\u001b[0m\n",
      "\u001b[0;31mValueError\u001b[0m: day is out of range for month",
      "\nThe above exception was the direct cause of the following exception:\n",
      "\u001b[0;31mParserError\u001b[0m                               Traceback (most recent call last)",
      "\u001b[0;32m/var/folders/_s/m1cww9j91y38hm9dfmjwpp1c0000gp/T/ipykernel_92052/3615596726.py\u001b[0m in \u001b[0;36m<module>\u001b[0;34m\u001b[0m\n\u001b[1;32m      1\u001b[0m \u001b[0mtest_date\u001b[0m \u001b[0;34m=\u001b[0m \u001b[0;34m'Feb 29 2021'\u001b[0m\u001b[0;34m\u001b[0m\u001b[0;34m\u001b[0m\u001b[0m\n\u001b[0;32m----> 2\u001b[0;31m \u001b[0mpd\u001b[0m\u001b[0;34m.\u001b[0m\u001b[0mto_datetime\u001b[0m\u001b[0;34m(\u001b[0m\u001b[0mtest_date\u001b[0m\u001b[0;34m)\u001b[0m\u001b[0;34m\u001b[0m\u001b[0;34m\u001b[0m\u001b[0m\n\u001b[0m",
      "\u001b[0;32m/opt/homebrew/anaconda3/lib/python3.9/site-packages/pandas/core/tools/datetimes.py\u001b[0m in \u001b[0;36mto_datetime\u001b[0;34m(arg, errors, dayfirst, yearfirst, utc, format, exact, unit, infer_datetime_format, origin, cache)\u001b[0m\n\u001b[1;32m    912\u001b[0m             \u001b[0mresult\u001b[0m \u001b[0;34m=\u001b[0m \u001b[0mconvert_listlike\u001b[0m\u001b[0;34m(\u001b[0m\u001b[0marg\u001b[0m\u001b[0;34m,\u001b[0m \u001b[0mformat\u001b[0m\u001b[0;34m)\u001b[0m\u001b[0;34m\u001b[0m\u001b[0;34m\u001b[0m\u001b[0m\n\u001b[1;32m    913\u001b[0m     \u001b[0;32melse\u001b[0m\u001b[0;34m:\u001b[0m\u001b[0;34m\u001b[0m\u001b[0;34m\u001b[0m\u001b[0m\n\u001b[0;32m--> 914\u001b[0;31m         \u001b[0mresult\u001b[0m \u001b[0;34m=\u001b[0m \u001b[0mconvert_listlike\u001b[0m\u001b[0;34m(\u001b[0m\u001b[0mnp\u001b[0m\u001b[0;34m.\u001b[0m\u001b[0marray\u001b[0m\u001b[0;34m(\u001b[0m\u001b[0;34m[\u001b[0m\u001b[0marg\u001b[0m\u001b[0;34m]\u001b[0m\u001b[0;34m)\u001b[0m\u001b[0;34m,\u001b[0m \u001b[0mformat\u001b[0m\u001b[0;34m)\u001b[0m\u001b[0;34m[\u001b[0m\u001b[0;36m0\u001b[0m\u001b[0;34m]\u001b[0m\u001b[0;34m\u001b[0m\u001b[0;34m\u001b[0m\u001b[0m\n\u001b[0m\u001b[1;32m    915\u001b[0m \u001b[0;34m\u001b[0m\u001b[0m\n\u001b[1;32m    916\u001b[0m     \u001b[0;31m#  error: Incompatible return value type (got \"Union[Timestamp, NaTType,\u001b[0m\u001b[0;34m\u001b[0m\u001b[0;34m\u001b[0m\u001b[0m\n",
      "\u001b[0;32m/opt/homebrew/anaconda3/lib/python3.9/site-packages/pandas/core/tools/datetimes.py\u001b[0m in \u001b[0;36m_convert_listlike_datetimes\u001b[0;34m(arg, format, name, tz, unit, errors, infer_datetime_format, dayfirst, yearfirst, exact)\u001b[0m\n\u001b[1;32m    399\u001b[0m     \u001b[0;32massert\u001b[0m \u001b[0mformat\u001b[0m \u001b[0;32mis\u001b[0m \u001b[0;32mNone\u001b[0m \u001b[0;32mor\u001b[0m \u001b[0minfer_datetime_format\u001b[0m\u001b[0;34m\u001b[0m\u001b[0;34m\u001b[0m\u001b[0m\n\u001b[1;32m    400\u001b[0m     \u001b[0mutc\u001b[0m \u001b[0;34m=\u001b[0m \u001b[0mtz\u001b[0m \u001b[0;34m==\u001b[0m \u001b[0;34m\"utc\"\u001b[0m\u001b[0;34m\u001b[0m\u001b[0;34m\u001b[0m\u001b[0m\n\u001b[0;32m--> 401\u001b[0;31m     result, tz_parsed = objects_to_datetime64ns(\n\u001b[0m\u001b[1;32m    402\u001b[0m         \u001b[0marg\u001b[0m\u001b[0;34m,\u001b[0m\u001b[0;34m\u001b[0m\u001b[0;34m\u001b[0m\u001b[0m\n\u001b[1;32m    403\u001b[0m         \u001b[0mdayfirst\u001b[0m\u001b[0;34m=\u001b[0m\u001b[0mdayfirst\u001b[0m\u001b[0;34m,\u001b[0m\u001b[0;34m\u001b[0m\u001b[0;34m\u001b[0m\u001b[0m\n",
      "\u001b[0;32m/opt/homebrew/anaconda3/lib/python3.9/site-packages/pandas/core/arrays/datetimes.py\u001b[0m in \u001b[0;36mobjects_to_datetime64ns\u001b[0;34m(data, dayfirst, yearfirst, utc, errors, require_iso8601, allow_object, allow_mixed)\u001b[0m\n\u001b[1;32m   2191\u001b[0m             \u001b[0;32mreturn\u001b[0m \u001b[0mvalues\u001b[0m\u001b[0;34m.\u001b[0m\u001b[0mview\u001b[0m\u001b[0;34m(\u001b[0m\u001b[0;34m\"i8\"\u001b[0m\u001b[0;34m)\u001b[0m\u001b[0;34m,\u001b[0m \u001b[0mtz_parsed\u001b[0m\u001b[0;34m\u001b[0m\u001b[0;34m\u001b[0m\u001b[0m\n\u001b[1;32m   2192\u001b[0m         \u001b[0;32mexcept\u001b[0m \u001b[0;34m(\u001b[0m\u001b[0mValueError\u001b[0m\u001b[0;34m,\u001b[0m \u001b[0mTypeError\u001b[0m\u001b[0;34m)\u001b[0m\u001b[0;34m:\u001b[0m\u001b[0;34m\u001b[0m\u001b[0;34m\u001b[0m\u001b[0m\n\u001b[0;32m-> 2193\u001b[0;31m             \u001b[0;32mraise\u001b[0m \u001b[0merr\u001b[0m\u001b[0;34m\u001b[0m\u001b[0;34m\u001b[0m\u001b[0m\n\u001b[0m\u001b[1;32m   2194\u001b[0m \u001b[0;34m\u001b[0m\u001b[0m\n\u001b[1;32m   2195\u001b[0m     \u001b[0;32mif\u001b[0m \u001b[0mtz_parsed\u001b[0m \u001b[0;32mis\u001b[0m \u001b[0;32mnot\u001b[0m \u001b[0;32mNone\u001b[0m\u001b[0;34m:\u001b[0m\u001b[0;34m\u001b[0m\u001b[0;34m\u001b[0m\u001b[0m\n",
      "\u001b[0;32m/opt/homebrew/anaconda3/lib/python3.9/site-packages/pandas/core/arrays/datetimes.py\u001b[0m in \u001b[0;36mobjects_to_datetime64ns\u001b[0;34m(data, dayfirst, yearfirst, utc, errors, require_iso8601, allow_object, allow_mixed)\u001b[0m\n\u001b[1;32m   2173\u001b[0m     \u001b[0morder\u001b[0m\u001b[0;34m:\u001b[0m \u001b[0mLiteral\u001b[0m\u001b[0;34m[\u001b[0m\u001b[0;34m\"F\"\u001b[0m\u001b[0;34m,\u001b[0m \u001b[0;34m\"C\"\u001b[0m\u001b[0;34m]\u001b[0m \u001b[0;34m=\u001b[0m \u001b[0;34m\"F\"\u001b[0m \u001b[0;32mif\u001b[0m \u001b[0mflags\u001b[0m\u001b[0;34m.\u001b[0m\u001b[0mf_contiguous\u001b[0m \u001b[0;32melse\u001b[0m \u001b[0;34m\"C\"\u001b[0m\u001b[0;34m\u001b[0m\u001b[0;34m\u001b[0m\u001b[0m\n\u001b[1;32m   2174\u001b[0m     \u001b[0;32mtry\u001b[0m\u001b[0;34m:\u001b[0m\u001b[0;34m\u001b[0m\u001b[0;34m\u001b[0m\u001b[0m\n\u001b[0;32m-> 2175\u001b[0;31m         result, tz_parsed = tslib.array_to_datetime(\n\u001b[0m\u001b[1;32m   2176\u001b[0m             \u001b[0mdata\u001b[0m\u001b[0;34m.\u001b[0m\u001b[0mravel\u001b[0m\u001b[0;34m(\u001b[0m\u001b[0;34m\"K\"\u001b[0m\u001b[0;34m)\u001b[0m\u001b[0;34m,\u001b[0m\u001b[0;34m\u001b[0m\u001b[0;34m\u001b[0m\u001b[0m\n\u001b[1;32m   2177\u001b[0m             \u001b[0merrors\u001b[0m\u001b[0;34m=\u001b[0m\u001b[0merrors\u001b[0m\u001b[0;34m,\u001b[0m\u001b[0;34m\u001b[0m\u001b[0;34m\u001b[0m\u001b[0m\n",
      "\u001b[0;32m/opt/homebrew/anaconda3/lib/python3.9/site-packages/pandas/_libs/tslib.pyx\u001b[0m in \u001b[0;36mpandas._libs.tslib.array_to_datetime\u001b[0;34m()\u001b[0m\n",
      "\u001b[0;32m/opt/homebrew/anaconda3/lib/python3.9/site-packages/pandas/_libs/tslib.pyx\u001b[0m in \u001b[0;36mpandas._libs.tslib.array_to_datetime\u001b[0;34m()\u001b[0m\n",
      "\u001b[0;32m/opt/homebrew/anaconda3/lib/python3.9/site-packages/pandas/_libs/tslib.pyx\u001b[0m in \u001b[0;36mpandas._libs.tslib._array_to_datetime_object\u001b[0;34m()\u001b[0m\n",
      "\u001b[0;32m/opt/homebrew/anaconda3/lib/python3.9/site-packages/pandas/_libs/tslib.pyx\u001b[0m in \u001b[0;36mpandas._libs.tslib._array_to_datetime_object\u001b[0;34m()\u001b[0m\n",
      "\u001b[0;32m/opt/homebrew/anaconda3/lib/python3.9/site-packages/pandas/_libs/tslibs/parsing.pyx\u001b[0m in \u001b[0;36mpandas._libs.tslibs.parsing.parse_datetime_string\u001b[0;34m()\u001b[0m\n",
      "\u001b[0;32m/opt/homebrew/anaconda3/lib/python3.9/site-packages/dateutil/parser/_parser.py\u001b[0m in \u001b[0;36mparse\u001b[0;34m(timestr, parserinfo, **kwargs)\u001b[0m\n\u001b[1;32m   1366\u001b[0m         \u001b[0;32mreturn\u001b[0m \u001b[0mparser\u001b[0m\u001b[0;34m(\u001b[0m\u001b[0mparserinfo\u001b[0m\u001b[0;34m)\u001b[0m\u001b[0;34m.\u001b[0m\u001b[0mparse\u001b[0m\u001b[0;34m(\u001b[0m\u001b[0mtimestr\u001b[0m\u001b[0;34m,\u001b[0m \u001b[0;34m**\u001b[0m\u001b[0mkwargs\u001b[0m\u001b[0;34m)\u001b[0m\u001b[0;34m\u001b[0m\u001b[0;34m\u001b[0m\u001b[0m\n\u001b[1;32m   1367\u001b[0m     \u001b[0;32melse\u001b[0m\u001b[0;34m:\u001b[0m\u001b[0;34m\u001b[0m\u001b[0;34m\u001b[0m\u001b[0m\n\u001b[0;32m-> 1368\u001b[0;31m         \u001b[0;32mreturn\u001b[0m \u001b[0mDEFAULTPARSER\u001b[0m\u001b[0;34m.\u001b[0m\u001b[0mparse\u001b[0m\u001b[0;34m(\u001b[0m\u001b[0mtimestr\u001b[0m\u001b[0;34m,\u001b[0m \u001b[0;34m**\u001b[0m\u001b[0mkwargs\u001b[0m\u001b[0;34m)\u001b[0m\u001b[0;34m\u001b[0m\u001b[0;34m\u001b[0m\u001b[0m\n\u001b[0m\u001b[1;32m   1369\u001b[0m \u001b[0;34m\u001b[0m\u001b[0m\n\u001b[1;32m   1370\u001b[0m \u001b[0;34m\u001b[0m\u001b[0m\n",
      "\u001b[0;32m/opt/homebrew/anaconda3/lib/python3.9/site-packages/dateutil/parser/_parser.py\u001b[0m in \u001b[0;36mparse\u001b[0;34m(self, timestr, default, ignoretz, tzinfos, **kwargs)\u001b[0m\n\u001b[1;32m    649\u001b[0m             \u001b[0mret\u001b[0m \u001b[0;34m=\u001b[0m \u001b[0mself\u001b[0m\u001b[0;34m.\u001b[0m\u001b[0m_build_naive\u001b[0m\u001b[0;34m(\u001b[0m\u001b[0mres\u001b[0m\u001b[0;34m,\u001b[0m \u001b[0mdefault\u001b[0m\u001b[0;34m)\u001b[0m\u001b[0;34m\u001b[0m\u001b[0;34m\u001b[0m\u001b[0m\n\u001b[1;32m    650\u001b[0m         \u001b[0;32mexcept\u001b[0m \u001b[0mValueError\u001b[0m \u001b[0;32mas\u001b[0m \u001b[0me\u001b[0m\u001b[0;34m:\u001b[0m\u001b[0;34m\u001b[0m\u001b[0;34m\u001b[0m\u001b[0m\n\u001b[0;32m--> 651\u001b[0;31m             \u001b[0msix\u001b[0m\u001b[0;34m.\u001b[0m\u001b[0mraise_from\u001b[0m\u001b[0;34m(\u001b[0m\u001b[0mParserError\u001b[0m\u001b[0;34m(\u001b[0m\u001b[0mstr\u001b[0m\u001b[0;34m(\u001b[0m\u001b[0me\u001b[0m\u001b[0;34m)\u001b[0m \u001b[0;34m+\u001b[0m \u001b[0;34m\": %s\"\u001b[0m\u001b[0;34m,\u001b[0m \u001b[0mtimestr\u001b[0m\u001b[0;34m)\u001b[0m\u001b[0;34m,\u001b[0m \u001b[0me\u001b[0m\u001b[0;34m)\u001b[0m\u001b[0;34m\u001b[0m\u001b[0;34m\u001b[0m\u001b[0m\n\u001b[0m\u001b[1;32m    652\u001b[0m \u001b[0;34m\u001b[0m\u001b[0m\n\u001b[1;32m    653\u001b[0m         \u001b[0;32mif\u001b[0m \u001b[0;32mnot\u001b[0m \u001b[0mignoretz\u001b[0m\u001b[0;34m:\u001b[0m\u001b[0;34m\u001b[0m\u001b[0;34m\u001b[0m\u001b[0m\n",
      "\u001b[0;32m/opt/homebrew/anaconda3/lib/python3.9/site-packages/six.py\u001b[0m in \u001b[0;36mraise_from\u001b[0;34m(value, from_value)\u001b[0m\n",
      "\u001b[0;31mParserError\u001b[0m: day is out of range for month: Feb 29 2021"
     ]
    }
   ],
   "source": [
    "test_date = 'Feb 29 2021'\n",
    "pd.to_datetime(test_date)"
   ]
  },
  {
   "cell_type": "markdown",
   "id": "0ed55004-8d41-4a0a-b778-7a59598ebb20",
   "metadata": {},
   "source": [
    "### Since they are returned as a Series, we can add them back as columns"
   ]
  },
  {
   "cell_type": "code",
<<<<<<< HEAD
   "execution_count": 17,
=======
   "execution_count": 19,
>>>>>>> 373b953267b28adbd845fecc534482013c65f095
   "id": "d8567288-d000-4afe-9611-3c098d6ec9d6",
   "metadata": {},
   "outputs": [
    {
     "data": {
      "text/html": [
       "<div>\n",
       "<style scoped>\n",
       "    .dataframe tbody tr th:only-of-type {\n",
       "        vertical-align: middle;\n",
       "    }\n",
       "\n",
       "    .dataframe tbody tr th {\n",
       "        vertical-align: top;\n",
       "    }\n",
       "\n",
       "    .dataframe thead th {\n",
       "        text-align: right;\n",
       "    }\n",
       "</style>\n",
       "<table border=\"1\" class=\"dataframe\">\n",
       "  <thead>\n",
       "    <tr style=\"text-align: right;\">\n",
       "      <th></th>\n",
       "      <th>date</th>\n",
       "      <th>coffee_consumption</th>\n",
       "      <th>year</th>\n",
       "    </tr>\n",
       "  </thead>\n",
       "  <tbody>\n",
       "    <tr>\n",
       "      <th>0</th>\n",
       "      <td>2019-01-01</td>\n",
       "      <td>14.301915</td>\n",
       "      <td>2019</td>\n",
       "    </tr>\n",
       "    <tr>\n",
       "      <th>1</th>\n",
       "      <td>2019-01-02</td>\n",
       "      <td>12.905900</td>\n",
       "      <td>2019</td>\n",
       "    </tr>\n",
       "    <tr>\n",
       "      <th>2</th>\n",
       "      <td>2019-01-03</td>\n",
       "      <td>10.046015</td>\n",
       "      <td>2019</td>\n",
       "    </tr>\n",
       "    <tr>\n",
       "      <th>3</th>\n",
       "      <td>2019-01-04</td>\n",
       "      <td>6.354805</td>\n",
       "      <td>2019</td>\n",
       "    </tr>\n",
       "    <tr>\n",
       "      <th>4</th>\n",
       "      <td>2019-01-07</td>\n",
       "      <td>8.545563</td>\n",
       "      <td>2019</td>\n",
       "    </tr>\n",
       "    <tr>\n",
       "      <th>...</th>\n",
       "      <td>...</td>\n",
       "      <td>...</td>\n",
       "      <td>...</td>\n",
       "    </tr>\n",
       "    <tr>\n",
       "      <th>256</th>\n",
       "      <td>2019-12-25</td>\n",
       "      <td>12.250875</td>\n",
       "      <td>2019</td>\n",
       "    </tr>\n",
       "    <tr>\n",
       "      <th>257</th>\n",
       "      <td>2019-12-26</td>\n",
       "      <td>7.513206</td>\n",
       "      <td>2019</td>\n",
       "    </tr>\n",
       "    <tr>\n",
       "      <th>258</th>\n",
       "      <td>2019-12-27</td>\n",
       "      <td>9.464345</td>\n",
       "      <td>2019</td>\n",
       "    </tr>\n",
       "    <tr>\n",
       "      <th>259</th>\n",
       "      <td>2019-12-30</td>\n",
       "      <td>14.623106</td>\n",
       "      <td>2019</td>\n",
       "    </tr>\n",
       "    <tr>\n",
       "      <th>260</th>\n",
       "      <td>2019-12-31</td>\n",
       "      <td>10.168315</td>\n",
       "      <td>2019</td>\n",
       "    </tr>\n",
       "  </tbody>\n",
       "</table>\n",
       "<p>261 rows × 3 columns</p>\n",
       "</div>"
      ],
      "text/plain": [
       "          date  coffee_consumption  year\n",
       "0   2019-01-01           14.301915  2019\n",
       "1   2019-01-02           12.905900  2019\n",
       "2   2019-01-03           10.046015  2019\n",
       "3   2019-01-04            6.354805  2019\n",
       "4   2019-01-07            8.545563  2019\n",
       "..         ...                 ...   ...\n",
       "256 2019-12-25           12.250875  2019\n",
       "257 2019-12-26            7.513206  2019\n",
       "258 2019-12-27            9.464345  2019\n",
       "259 2019-12-30           14.623106  2019\n",
       "260 2019-12-31           10.168315  2019\n",
       "\n",
       "[261 rows x 3 columns]"
      ]
     },
<<<<<<< HEAD
     "execution_count": 17,
=======
     "execution_count": 19,
>>>>>>> 373b953267b28adbd845fecc534482013c65f095
     "metadata": {},
     "output_type": "execute_result"
    }
   ],
   "source": [
    "df['year'] = df.date.dt.year\n",
    "df"
   ]
  },
  {
   "cell_type": "code",
<<<<<<< HEAD
   "execution_count": 18,
=======
   "execution_count": 20,
>>>>>>> 373b953267b28adbd845fecc534482013c65f095
   "id": "5f7d72ba-e6d0-4986-b860-7d5a89ddf440",
   "metadata": {},
   "outputs": [
    {
     "data": {
      "text/html": [
       "<div>\n",
       "<style scoped>\n",
       "    .dataframe tbody tr th:only-of-type {\n",
       "        vertical-align: middle;\n",
       "    }\n",
       "\n",
       "    .dataframe tbody tr th {\n",
       "        vertical-align: top;\n",
       "    }\n",
       "\n",
       "    .dataframe thead th {\n",
       "        text-align: right;\n",
       "    }\n",
       "</style>\n",
       "<table border=\"1\" class=\"dataframe\">\n",
       "  <thead>\n",
       "    <tr style=\"text-align: right;\">\n",
       "      <th></th>\n",
       "      <th>date</th>\n",
       "      <th>coffee_consumption</th>\n",
       "      <th>year</th>\n",
       "      <th>month</th>\n",
       "      <th>day</th>\n",
       "      <th>weekday</th>\n",
       "    </tr>\n",
       "  </thead>\n",
       "  <tbody>\n",
       "    <tr>\n",
       "      <th>0</th>\n",
       "      <td>2019-01-01</td>\n",
       "      <td>14.301915</td>\n",
       "      <td>2019</td>\n",
       "      <td>1</td>\n",
       "      <td>1</td>\n",
       "      <td>Tuesday</td>\n",
       "    </tr>\n",
       "    <tr>\n",
       "      <th>1</th>\n",
       "      <td>2019-01-02</td>\n",
       "      <td>12.905900</td>\n",
       "      <td>2019</td>\n",
       "      <td>1</td>\n",
       "      <td>2</td>\n",
       "      <td>Wednesday</td>\n",
       "    </tr>\n",
       "    <tr>\n",
       "      <th>2</th>\n",
       "      <td>2019-01-03</td>\n",
       "      <td>10.046015</td>\n",
       "      <td>2019</td>\n",
       "      <td>1</td>\n",
       "      <td>3</td>\n",
       "      <td>Thursday</td>\n",
       "    </tr>\n",
       "    <tr>\n",
       "      <th>3</th>\n",
       "      <td>2019-01-04</td>\n",
       "      <td>6.354805</td>\n",
       "      <td>2019</td>\n",
       "      <td>1</td>\n",
       "      <td>4</td>\n",
       "      <td>Friday</td>\n",
       "    </tr>\n",
       "    <tr>\n",
       "      <th>4</th>\n",
       "      <td>2019-01-07</td>\n",
       "      <td>8.545563</td>\n",
       "      <td>2019</td>\n",
       "      <td>1</td>\n",
       "      <td>7</td>\n",
       "      <td>Monday</td>\n",
       "    </tr>\n",
       "  </tbody>\n",
       "</table>\n",
       "</div>"
      ],
      "text/plain": [
       "        date  coffee_consumption  year  month  day    weekday\n",
       "0 2019-01-01           14.301915  2019      1    1    Tuesday\n",
       "1 2019-01-02           12.905900  2019      1    2  Wednesday\n",
       "2 2019-01-03           10.046015  2019      1    3   Thursday\n",
       "3 2019-01-04            6.354805  2019      1    4     Friday\n",
       "4 2019-01-07            8.545563  2019      1    7     Monday"
      ]
     },
<<<<<<< HEAD
     "execution_count": 18,
=======
     "execution_count": 20,
>>>>>>> 373b953267b28adbd845fecc534482013c65f095
     "metadata": {},
     "output_type": "execute_result"
    }
   ],
   "source": [
    "df['month'] = df.date.dt.month\n",
    "df['day'] = df.date.dt.day\n",
    "df['weekday'] = df.date.dt.day_name()\n",
    "df.head()"
   ]
  },
  {
   "cell_type": "markdown",
   "id": "c36c09f8-933e-4e59-b586-9abf3bfbf20b",
   "metadata": {},
   "source": [
    "## Working with more complicated data"
   ]
  },
  {
   "cell_type": "code",
<<<<<<< HEAD
   "execution_count": 19,
=======
   "execution_count": 21,
>>>>>>> 373b953267b28adbd845fecc534482013c65f095
   "id": "014cd4f5-6821-4dd8-b4d6-3d8aa6ab7151",
   "metadata": {},
   "outputs": [
    {
     "data": {
      "text/html": [
       "<div>\n",
       "<style scoped>\n",
       "    .dataframe tbody tr th:only-of-type {\n",
       "        vertical-align: middle;\n",
       "    }\n",
       "\n",
       "    .dataframe tbody tr th {\n",
       "        vertical-align: top;\n",
       "    }\n",
       "\n",
       "    .dataframe thead th {\n",
       "        text-align: right;\n",
       "    }\n",
       "</style>\n",
       "<table border=\"1\" class=\"dataframe\">\n",
       "  <thead>\n",
       "    <tr style=\"text-align: right;\">\n",
       "      <th></th>\n",
       "      <th>date</th>\n",
       "      <th>symbol</th>\n",
       "      <th>close</th>\n",
       "      <th>volume</th>\n",
       "    </tr>\n",
       "  </thead>\n",
       "  <tbody>\n",
       "    <tr>\n",
       "      <th>0</th>\n",
       "      <td>2020-03-13 12-PM</td>\n",
       "      <td>ETHUSD</td>\n",
       "      <td>128.71</td>\n",
       "      <td>3906590.52</td>\n",
       "    </tr>\n",
       "    <tr>\n",
       "      <th>1</th>\n",
       "      <td>2020-03-13 12-AM</td>\n",
       "      <td>ETHUSD</td>\n",
       "      <td>129.94</td>\n",
       "      <td>10329663.70</td>\n",
       "    </tr>\n",
       "    <tr>\n",
       "      <th>2</th>\n",
       "      <td>2020-03-13 11-AM</td>\n",
       "      <td>ETHUSD</td>\n",
       "      <td>119.51</td>\n",
       "      <td>3311080.29</td>\n",
       "    </tr>\n",
       "    <tr>\n",
       "      <th>3</th>\n",
       "      <td>2020-03-13 10-AM</td>\n",
       "      <td>ETHUSD</td>\n",
       "      <td>124.47</td>\n",
       "      <td>3483436.48</td>\n",
       "    </tr>\n",
       "    <tr>\n",
       "      <th>4</th>\n",
       "      <td>2020-03-13 09-AM</td>\n",
       "      <td>ETHUSD</td>\n",
       "      <td>124.08</td>\n",
       "      <td>2767584.44</td>\n",
       "    </tr>\n",
       "    <tr>\n",
       "      <th>...</th>\n",
       "      <td>...</td>\n",
       "      <td>...</td>\n",
       "      <td>...</td>\n",
       "      <td>...</td>\n",
       "    </tr>\n",
       "    <tr>\n",
       "      <th>23669</th>\n",
       "      <td>2017-07-01 05-PM</td>\n",
       "      <td>ETHUSD</td>\n",
       "      <td>272.57</td>\n",
       "      <td>1894983.33</td>\n",
       "    </tr>\n",
       "    <tr>\n",
       "      <th>23670</th>\n",
       "      <td>2017-07-01 04-PM</td>\n",
       "      <td>ETHUSD</td>\n",
       "      <td>265.74</td>\n",
       "      <td>1287300.75</td>\n",
       "    </tr>\n",
       "    <tr>\n",
       "      <th>23671</th>\n",
       "      <td>2017-07-01 03-PM</td>\n",
       "      <td>ETHUSD</td>\n",
       "      <td>268.79</td>\n",
       "      <td>1500282.55</td>\n",
       "    </tr>\n",
       "    <tr>\n",
       "      <th>23672</th>\n",
       "      <td>2017-07-01 02-PM</td>\n",
       "      <td>ETHUSD</td>\n",
       "      <td>274.83</td>\n",
       "      <td>1702536.85</td>\n",
       "    </tr>\n",
       "    <tr>\n",
       "      <th>23673</th>\n",
       "      <td>2017-07-01 01-PM</td>\n",
       "      <td>ETHUSD</td>\n",
       "      <td>275.01</td>\n",
       "      <td>3010787.99</td>\n",
       "    </tr>\n",
       "  </tbody>\n",
       "</table>\n",
       "<p>23674 rows × 4 columns</p>\n",
       "</div>"
      ],
      "text/plain": [
       "                   date  symbol   close       volume\n",
       "0      2020-03-13 12-PM  ETHUSD  128.71   3906590.52\n",
       "1      2020-03-13 12-AM  ETHUSD  129.94  10329663.70\n",
       "2      2020-03-13 11-AM  ETHUSD  119.51   3311080.29\n",
       "3      2020-03-13 10-AM  ETHUSD  124.47   3483436.48\n",
       "4      2020-03-13 09-AM  ETHUSD  124.08   2767584.44\n",
       "...                 ...     ...     ...          ...\n",
       "23669  2017-07-01 05-PM  ETHUSD  272.57   1894983.33\n",
       "23670  2017-07-01 04-PM  ETHUSD  265.74   1287300.75\n",
       "23671  2017-07-01 03-PM  ETHUSD  268.79   1500282.55\n",
       "23672  2017-07-01 02-PM  ETHUSD  274.83   1702536.85\n",
       "23673  2017-07-01 01-PM  ETHUSD  275.01   3010787.99\n",
       "\n",
       "[23674 rows x 4 columns]"
      ]
     },
<<<<<<< HEAD
     "execution_count": 19,
=======
     "execution_count": 21,
>>>>>>> 373b953267b28adbd845fecc534482013c65f095
     "metadata": {},
     "output_type": "execute_result"
    }
   ],
   "source": [
    "sheet_url = 'https://docs.google.com/spreadsheets/d/1kTrAFSrr-xP3REs0Lly0TdV4ekrHahBXLg9r5qKxmV8/edit#gid=0'\n",
    "csv_export_url = sheet_url.replace('/edit#gid=', '/export?format=csv&gid=')\n",
    "\n",
    "df = pd.read_csv(csv_export_url)\n",
    "df.columns = df.columns.str.lower()\n",
    "df"
   ]
  },
  {
   "cell_type": "code",
<<<<<<< HEAD
   "execution_count": 20,
=======
   "execution_count": 22,
>>>>>>> 373b953267b28adbd845fecc534482013c65f095
   "id": "75f16858-1110-4892-b914-dcda62b0a8a9",
   "metadata": {},
   "outputs": [
    {
     "name": "stdout",
     "output_type": "stream",
     "text": [
      "<class 'pandas.core.frame.DataFrame'>\n",
      "RangeIndex: 23674 entries, 0 to 23673\n",
      "Data columns (total 4 columns):\n",
      " #   Column  Non-Null Count  Dtype  \n",
      "---  ------  --------------  -----  \n",
      " 0   date    23674 non-null  object \n",
      " 1   symbol  23674 non-null  object \n",
      " 2   close   23674 non-null  float64\n",
      " 3   volume  23674 non-null  float64\n",
      "dtypes: float64(2), object(2)\n",
      "memory usage: 739.9+ KB\n"
     ]
    }
   ],
   "source": [
    "df.info()"
   ]
  },
  {
   "cell_type": "code",
<<<<<<< HEAD
   "execution_count": 21,
=======
   "execution_count": 23,
>>>>>>> 373b953267b28adbd845fecc534482013c65f095
   "id": "689e9e97-9abc-4d0e-b2b0-10d7110e886f",
   "metadata": {},
   "outputs": [
    {
     "data": {
      "text/plain": [
       "<AxesSubplot:>"
      ]
     },
<<<<<<< HEAD
     "execution_count": 21,
=======
     "execution_count": 23,
>>>>>>> 373b953267b28adbd845fecc534482013c65f095
     "metadata": {},
     "output_type": "execute_result"
    },
    {
     "data": {
      "image/png": "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\n",
      "text/plain": [
       "<Figure size 1152x648 with 1 Axes>"
      ]
     },
     "metadata": {
      "needs_background": "light"
     },
     "output_type": "display_data"
    }
   ],
   "source": [
    "df.close.plot()"
   ]
  },
  {
   "cell_type": "markdown",
   "id": "97293d7e-e2d8-4030-afb8-6e63807e292b",
   "metadata": {},
   "source": [
    "### How do we make pandas time aware so we can utilize the built in functionality for time series analysis?\n",
    "\n",
    "#### 3 steps\n",
    "\n",
    "* Convert 'date/time' column to datetime object in Pandas (pd.to_datetime())\n",
    "* Set the datetime column as Index\n",
    "* Sort the datetime index\n",
    "\n",
    "### Convert to datetime"
   ]
  },
  {
   "cell_type": "code",
<<<<<<< HEAD
   "execution_count": 22,
=======
   "execution_count": 24,
>>>>>>> 373b953267b28adbd845fecc534482013c65f095
   "id": "8634913f-2b7b-490d-af8e-ae0a37c1e853",
   "metadata": {},
   "outputs": [
    {
     "data": {
      "text/plain": [
       "date       object\n",
       "symbol     object\n",
       "close     float64\n",
       "volume    float64\n",
       "dtype: object"
      ]
     },
<<<<<<< HEAD
     "execution_count": 22,
=======
     "execution_count": 24,
>>>>>>> 373b953267b28adbd845fecc534482013c65f095
     "metadata": {},
     "output_type": "execute_result"
    }
   ],
   "source": [
    "df.dtypes"
   ]
  },
  {
   "cell_type": "code",
<<<<<<< HEAD
   "execution_count": 23,
=======
   "execution_count": 25,
>>>>>>> 373b953267b28adbd845fecc534482013c65f095
   "id": "39677f20-a54b-4f8b-b0a1-728cd1057d69",
   "metadata": {},
   "outputs": [
    {
     "name": "stdout",
     "output_type": "stream",
     "text": [
      "ValueError Unknown string format: 2020-03-13 12-PM\n"
     ]
    }
   ],
   "source": [
    "try:\n",
    "    pd.to_datetime(df.date)\n",
    "except ValueError as e:\n",
    "    print('ValueError', e)"
   ]
  },
  {
   "cell_type": "markdown",
   "id": "83f5bdd2-80f5-40b3-bb49-9e054365640d",
   "metadata": {},
   "source": [
    "#### So what is happening?\n",
    "\n",
    "Pandas is telling us it is unable to infer what our date format is.\n",
    "\n",
    "2020-03-13 12-PM is what our date looks like.\n",
    "\n",
    "It is made up of several parts:\n",
    "\n",
    "* a 4 digit year: `%Y`\n",
    "* followed by a hyphen `-`\n",
    "* a two digit month: `%m`\n",
    "* followed by a hyphen `-`\n",
    "* a two digit day: `%d`\n",
    "* a space ` `\n",
    "* a 12-hour clock number: `%I`\n",
    "* a hyphen `-`\n",
    "* an AM/PM `%p`\n",
    "\n",
    "With this info we can now build our format string:\n",
    "\n",
    "`2020-03-13 12-PM`\n",
    "\n",
    "`%Y-%m-%d %I-%p`"
   ]
  },
  {
   "cell_type": "code",
<<<<<<< HEAD
   "execution_count": 24,
=======
   "execution_count": 26,
>>>>>>> 373b953267b28adbd845fecc534482013c65f095
   "id": "9686c77a-d50c-4402-b618-44dd4f30ac97",
   "metadata": {},
   "outputs": [
    {
     "data": {
      "text/plain": [
       "Timestamp('2020-03-13 12:00:00')"
      ]
     },
<<<<<<< HEAD
     "execution_count": 24,
=======
     "execution_count": 26,
>>>>>>> 373b953267b28adbd845fecc534482013c65f095
     "metadata": {},
     "output_type": "execute_result"
    }
   ],
   "source": [
    "pd.to_datetime('2020-03-13 12-PM', format='%Y-%m-%d %I-%p')"
   ]
  },
  {
   "cell_type": "code",
<<<<<<< HEAD
   "execution_count": 25,
=======
   "execution_count": 27,
>>>>>>> 373b953267b28adbd845fecc534482013c65f095
   "id": "66e80b79-34e6-4972-816e-4c6912d4547f",
   "metadata": {},
   "outputs": [],
   "source": [
    "df.date = pd.to_datetime(df.date, format='%Y-%m-%d %I-%p')"
   ]
  },
  {
   "cell_type": "code",
<<<<<<< HEAD
   "execution_count": 26,
=======
   "execution_count": 28,
>>>>>>> 373b953267b28adbd845fecc534482013c65f095
   "id": "60970a08-bc12-406b-ac9e-f73e9b41805c",
   "metadata": {},
   "outputs": [
    {
     "data": {
      "text/html": [
       "<div>\n",
       "<style scoped>\n",
       "    .dataframe tbody tr th:only-of-type {\n",
       "        vertical-align: middle;\n",
       "    }\n",
       "\n",
       "    .dataframe tbody tr th {\n",
       "        vertical-align: top;\n",
       "    }\n",
       "\n",
       "    .dataframe thead th {\n",
       "        text-align: right;\n",
       "    }\n",
       "</style>\n",
       "<table border=\"1\" class=\"dataframe\">\n",
       "  <thead>\n",
       "    <tr style=\"text-align: right;\">\n",
       "      <th></th>\n",
       "      <th>date</th>\n",
       "      <th>symbol</th>\n",
       "      <th>close</th>\n",
       "      <th>volume</th>\n",
       "    </tr>\n",
       "  </thead>\n",
       "  <tbody>\n",
       "    <tr>\n",
       "      <th>0</th>\n",
       "      <td>2020-03-13 12:00:00</td>\n",
       "      <td>ETHUSD</td>\n",
       "      <td>128.71</td>\n",
       "      <td>3906590.52</td>\n",
       "    </tr>\n",
       "    <tr>\n",
       "      <th>1</th>\n",
       "      <td>2020-03-13 00:00:00</td>\n",
       "      <td>ETHUSD</td>\n",
       "      <td>129.94</td>\n",
       "      <td>10329663.70</td>\n",
       "    </tr>\n",
       "    <tr>\n",
       "      <th>2</th>\n",
       "      <td>2020-03-13 11:00:00</td>\n",
       "      <td>ETHUSD</td>\n",
       "      <td>119.51</td>\n",
       "      <td>3311080.29</td>\n",
       "    </tr>\n",
       "    <tr>\n",
       "      <th>3</th>\n",
       "      <td>2020-03-13 10:00:00</td>\n",
       "      <td>ETHUSD</td>\n",
       "      <td>124.47</td>\n",
       "      <td>3483436.48</td>\n",
       "    </tr>\n",
       "    <tr>\n",
       "      <th>4</th>\n",
       "      <td>2020-03-13 09:00:00</td>\n",
       "      <td>ETHUSD</td>\n",
       "      <td>124.08</td>\n",
       "      <td>2767584.44</td>\n",
       "    </tr>\n",
       "    <tr>\n",
       "      <th>...</th>\n",
       "      <td>...</td>\n",
       "      <td>...</td>\n",
       "      <td>...</td>\n",
       "      <td>...</td>\n",
       "    </tr>\n",
       "    <tr>\n",
       "      <th>23669</th>\n",
       "      <td>2017-07-01 17:00:00</td>\n",
       "      <td>ETHUSD</td>\n",
       "      <td>272.57</td>\n",
       "      <td>1894983.33</td>\n",
       "    </tr>\n",
       "    <tr>\n",
       "      <th>23670</th>\n",
       "      <td>2017-07-01 16:00:00</td>\n",
       "      <td>ETHUSD</td>\n",
       "      <td>265.74</td>\n",
       "      <td>1287300.75</td>\n",
       "    </tr>\n",
       "    <tr>\n",
       "      <th>23671</th>\n",
       "      <td>2017-07-01 15:00:00</td>\n",
       "      <td>ETHUSD</td>\n",
       "      <td>268.79</td>\n",
       "      <td>1500282.55</td>\n",
       "    </tr>\n",
       "    <tr>\n",
       "      <th>23672</th>\n",
       "      <td>2017-07-01 14:00:00</td>\n",
       "      <td>ETHUSD</td>\n",
       "      <td>274.83</td>\n",
       "      <td>1702536.85</td>\n",
       "    </tr>\n",
       "    <tr>\n",
       "      <th>23673</th>\n",
       "      <td>2017-07-01 13:00:00</td>\n",
       "      <td>ETHUSD</td>\n",
       "      <td>275.01</td>\n",
       "      <td>3010787.99</td>\n",
       "    </tr>\n",
       "  </tbody>\n",
       "</table>\n",
       "<p>23674 rows × 4 columns</p>\n",
       "</div>"
      ],
      "text/plain": [
       "                     date  symbol   close       volume\n",
       "0     2020-03-13 12:00:00  ETHUSD  128.71   3906590.52\n",
       "1     2020-03-13 00:00:00  ETHUSD  129.94  10329663.70\n",
       "2     2020-03-13 11:00:00  ETHUSD  119.51   3311080.29\n",
       "3     2020-03-13 10:00:00  ETHUSD  124.47   3483436.48\n",
       "4     2020-03-13 09:00:00  ETHUSD  124.08   2767584.44\n",
       "...                   ...     ...     ...          ...\n",
       "23669 2017-07-01 17:00:00  ETHUSD  272.57   1894983.33\n",
       "23670 2017-07-01 16:00:00  ETHUSD  265.74   1287300.75\n",
       "23671 2017-07-01 15:00:00  ETHUSD  268.79   1500282.55\n",
       "23672 2017-07-01 14:00:00  ETHUSD  274.83   1702536.85\n",
       "23673 2017-07-01 13:00:00  ETHUSD  275.01   3010787.99\n",
       "\n",
       "[23674 rows x 4 columns]"
      ]
     },
<<<<<<< HEAD
     "execution_count": 26,
=======
     "execution_count": 28,
>>>>>>> 373b953267b28adbd845fecc534482013c65f095
     "metadata": {},
     "output_type": "execute_result"
    }
   ],
   "source": [
    "df"
   ]
  },
  {
   "cell_type": "code",
<<<<<<< HEAD
   "execution_count": 27,
=======
   "execution_count": 29,
>>>>>>> 373b953267b28adbd845fecc534482013c65f095
   "id": "337d2ffd-ee38-4365-bff8-05e41c1f2f33",
   "metadata": {},
   "outputs": [
    {
     "data": {
      "text/plain": [
       "date      datetime64[ns]\n",
       "symbol            object\n",
       "close            float64\n",
       "volume           float64\n",
       "dtype: object"
      ]
     },
<<<<<<< HEAD
     "execution_count": 27,
=======
     "execution_count": 29,
>>>>>>> 373b953267b28adbd845fecc534482013c65f095
     "metadata": {},
     "output_type": "execute_result"
    }
   ],
   "source": [
    "df.dtypes"
   ]
  },
  {
   "cell_type": "markdown",
   "id": "f7f6e700-02dc-4d0b-8b2e-cf359d984d85",
   "metadata": {},
   "source": [
    "### Now we can set date to the index and sort the index"
   ]
  },
  {
   "cell_type": "code",
<<<<<<< HEAD
   "execution_count": 28,
=======
   "execution_count": 30,
>>>>>>> 373b953267b28adbd845fecc534482013c65f095
   "id": "791f8d90-8148-41c8-8f37-56f687a1d028",
   "metadata": {},
   "outputs": [
    {
     "data": {
      "text/html": [
       "<div>\n",
       "<style scoped>\n",
       "    .dataframe tbody tr th:only-of-type {\n",
       "        vertical-align: middle;\n",
       "    }\n",
       "\n",
       "    .dataframe tbody tr th {\n",
       "        vertical-align: top;\n",
       "    }\n",
       "\n",
       "    .dataframe thead th {\n",
       "        text-align: right;\n",
       "    }\n",
       "</style>\n",
       "<table border=\"1\" class=\"dataframe\">\n",
       "  <thead>\n",
       "    <tr style=\"text-align: right;\">\n",
       "      <th></th>\n",
       "      <th>symbol</th>\n",
       "      <th>close</th>\n",
       "      <th>volume</th>\n",
       "    </tr>\n",
       "    <tr>\n",
       "      <th>date</th>\n",
       "      <th></th>\n",
       "      <th></th>\n",
       "      <th></th>\n",
       "    </tr>\n",
       "  </thead>\n",
       "  <tbody>\n",
       "    <tr>\n",
       "      <th>2017-07-01 11:00:00</th>\n",
       "      <td>ETHUSD</td>\n",
       "      <td>257.13</td>\n",
       "      <td>679358.87</td>\n",
       "    </tr>\n",
       "    <tr>\n",
       "      <th>2017-07-01 12:00:00</th>\n",
       "      <td>ETHUSD</td>\n",
       "      <td>263.12</td>\n",
       "      <td>824362.87</td>\n",
       "    </tr>\n",
       "    <tr>\n",
       "      <th>2017-07-01 13:00:00</th>\n",
       "      <td>ETHUSD</td>\n",
       "      <td>275.01</td>\n",
       "      <td>3010787.99</td>\n",
       "    </tr>\n",
       "    <tr>\n",
       "      <th>2017-07-01 14:00:00</th>\n",
       "      <td>ETHUSD</td>\n",
       "      <td>274.83</td>\n",
       "      <td>1702536.85</td>\n",
       "    </tr>\n",
       "    <tr>\n",
       "      <th>2017-07-01 15:00:00</th>\n",
       "      <td>ETHUSD</td>\n",
       "      <td>268.79</td>\n",
       "      <td>1500282.55</td>\n",
       "    </tr>\n",
       "    <tr>\n",
       "      <th>...</th>\n",
       "      <td>...</td>\n",
       "      <td>...</td>\n",
       "      <td>...</td>\n",
       "    </tr>\n",
       "    <tr>\n",
       "      <th>2020-03-13 16:00:00</th>\n",
       "      <td>ETHUSD</td>\n",
       "      <td>127.57</td>\n",
       "      <td>4461424.71</td>\n",
       "    </tr>\n",
       "    <tr>\n",
       "      <th>2020-03-13 17:00:00</th>\n",
       "      <td>ETHUSD</td>\n",
       "      <td>133.80</td>\n",
       "      <td>2753450.92</td>\n",
       "    </tr>\n",
       "    <tr>\n",
       "      <th>2020-03-13 18:00:00</th>\n",
       "      <td>ETHUSD</td>\n",
       "      <td>128.93</td>\n",
       "      <td>4898735.81</td>\n",
       "    </tr>\n",
       "    <tr>\n",
       "      <th>2020-03-13 19:00:00</th>\n",
       "      <td>ETHUSD</td>\n",
       "      <td>134.03</td>\n",
       "      <td>7579741.09</td>\n",
       "    </tr>\n",
       "    <tr>\n",
       "      <th>2020-03-13 20:00:00</th>\n",
       "      <td>ETHUSD</td>\n",
       "      <td>124.85</td>\n",
       "      <td>1940673.93</td>\n",
       "    </tr>\n",
       "  </tbody>\n",
       "</table>\n",
       "<p>23674 rows × 3 columns</p>\n",
       "</div>"
      ],
      "text/plain": [
       "                     symbol   close      volume\n",
       "date                                           \n",
       "2017-07-01 11:00:00  ETHUSD  257.13   679358.87\n",
       "2017-07-01 12:00:00  ETHUSD  263.12   824362.87\n",
       "2017-07-01 13:00:00  ETHUSD  275.01  3010787.99\n",
       "2017-07-01 14:00:00  ETHUSD  274.83  1702536.85\n",
       "2017-07-01 15:00:00  ETHUSD  268.79  1500282.55\n",
       "...                     ...     ...         ...\n",
       "2020-03-13 16:00:00  ETHUSD  127.57  4461424.71\n",
       "2020-03-13 17:00:00  ETHUSD  133.80  2753450.92\n",
       "2020-03-13 18:00:00  ETHUSD  128.93  4898735.81\n",
       "2020-03-13 19:00:00  ETHUSD  134.03  7579741.09\n",
       "2020-03-13 20:00:00  ETHUSD  124.85  1940673.93\n",
       "\n",
       "[23674 rows x 3 columns]"
      ]
     },
<<<<<<< HEAD
     "execution_count": 28,
=======
     "execution_count": 30,
>>>>>>> 373b953267b28adbd845fecc534482013c65f095
     "metadata": {},
     "output_type": "execute_result"
    }
   ],
   "source": [
    "df = df.set_index('date').sort_index()\n",
    "df"
   ]
  },
  {
   "cell_type": "code",
<<<<<<< HEAD
   "execution_count": 29,
=======
   "execution_count": 31,
>>>>>>> 373b953267b28adbd845fecc534482013c65f095
   "id": "b2125de9-2920-49ae-ab43-e0d934d038eb",
   "metadata": {},
   "outputs": [
    {
     "data": {
      "text/plain": [
       "<AxesSubplot:xlabel='date'>"
      ]
     },
<<<<<<< HEAD
     "execution_count": 29,
=======
     "execution_count": 31,
>>>>>>> 373b953267b28adbd845fecc534482013c65f095
     "metadata": {},
     "output_type": "execute_result"
    },
    {
     "data": {
      "image/png": "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\n",
      "text/plain": [
       "<Figure size 1152x648 with 1 Axes>"
      ]
     },
     "metadata": {
      "needs_background": "light"
     },
     "output_type": "display_data"
    }
   ],
   "source": [
    "df.close.plot()"
   ]
  },
  {
   "cell_type": "markdown",
   "id": "f2c3ac49-98eb-4336-91a2-a55b640801c8",
   "metadata": {},
   "source": [
    "### Let's look at the the mean on each day of the week\n",
    "\n",
    "#### [Pandas datetimeIndex attributes](https://pandas.pydata.org/docs/reference/api/pandas.DatetimeIndex.html)"
   ]
  },
  {
   "cell_type": "code",
<<<<<<< HEAD
   "execution_count": 30,
=======
   "execution_count": 32,
>>>>>>> 373b953267b28adbd845fecc534482013c65f095
   "id": "ff18ce2e-c580-48d3-9ce3-b9fb0a057b04",
   "metadata": {},
   "outputs": [
    {
     "data": {
      "text/plain": [
       "Index(['Saturday', 'Saturday', 'Saturday', 'Saturday', 'Saturday', 'Saturday',\n",
       "       'Saturday', 'Saturday', 'Saturday', 'Saturday',\n",
       "       ...\n",
       "       'Friday', 'Friday', 'Friday', 'Friday', 'Friday', 'Friday', 'Friday',\n",
       "       'Friday', 'Friday', 'Friday'],\n",
       "      dtype='object', name='date', length=23674)"
      ]
     },
<<<<<<< HEAD
     "execution_count": 30,
=======
     "execution_count": 32,
>>>>>>> 373b953267b28adbd845fecc534482013c65f095
     "metadata": {},
     "output_type": "execute_result"
    }
   ],
   "source": [
    "df.index.day_name()"
   ]
  },
  {
   "cell_type": "code",
<<<<<<< HEAD
   "execution_count": 31,
=======
   "execution_count": 33,
>>>>>>> 373b953267b28adbd845fecc534482013c65f095
   "id": "146ad198-4189-4ebb-bad3-d6651ad5c03f",
   "metadata": {},
   "outputs": [],
   "source": [
    "df['weekday_name'] = df.index.day_name()"
   ]
  },
  {
   "cell_type": "code",
<<<<<<< HEAD
   "execution_count": 32,
=======
   "execution_count": 34,
>>>>>>> 373b953267b28adbd845fecc534482013c65f095
   "id": "168f535d-b983-4335-8b87-4253a8eb9ad6",
   "metadata": {},
   "outputs": [
    {
     "data": {
      "text/html": [
       "<div>\n",
       "<style scoped>\n",
       "    .dataframe tbody tr th:only-of-type {\n",
       "        vertical-align: middle;\n",
       "    }\n",
       "\n",
       "    .dataframe tbody tr th {\n",
       "        vertical-align: top;\n",
       "    }\n",
       "\n",
       "    .dataframe thead th {\n",
       "        text-align: right;\n",
       "    }\n",
       "</style>\n",
       "<table border=\"1\" class=\"dataframe\">\n",
       "  <thead>\n",
       "    <tr style=\"text-align: right;\">\n",
       "      <th></th>\n",
       "      <th>symbol</th>\n",
       "      <th>close</th>\n",
       "      <th>volume</th>\n",
       "      <th>weekday_name</th>\n",
       "    </tr>\n",
       "    <tr>\n",
       "      <th>date</th>\n",
       "      <th></th>\n",
       "      <th></th>\n",
       "      <th></th>\n",
       "      <th></th>\n",
       "    </tr>\n",
       "  </thead>\n",
       "  <tbody>\n",
       "    <tr>\n",
       "      <th>2017-07-01 11:00:00</th>\n",
       "      <td>ETHUSD</td>\n",
       "      <td>257.13</td>\n",
       "      <td>679358.87</td>\n",
       "      <td>Saturday</td>\n",
       "    </tr>\n",
       "    <tr>\n",
       "      <th>2017-07-01 12:00:00</th>\n",
       "      <td>ETHUSD</td>\n",
       "      <td>263.12</td>\n",
       "      <td>824362.87</td>\n",
       "      <td>Saturday</td>\n",
       "    </tr>\n",
       "    <tr>\n",
       "      <th>2017-07-01 13:00:00</th>\n",
       "      <td>ETHUSD</td>\n",
       "      <td>275.01</td>\n",
       "      <td>3010787.99</td>\n",
       "      <td>Saturday</td>\n",
       "    </tr>\n",
       "    <tr>\n",
       "      <th>2017-07-01 14:00:00</th>\n",
       "      <td>ETHUSD</td>\n",
       "      <td>274.83</td>\n",
       "      <td>1702536.85</td>\n",
       "      <td>Saturday</td>\n",
       "    </tr>\n",
       "    <tr>\n",
       "      <th>2017-07-01 15:00:00</th>\n",
       "      <td>ETHUSD</td>\n",
       "      <td>268.79</td>\n",
       "      <td>1500282.55</td>\n",
       "      <td>Saturday</td>\n",
       "    </tr>\n",
       "    <tr>\n",
       "      <th>...</th>\n",
       "      <td>...</td>\n",
       "      <td>...</td>\n",
       "      <td>...</td>\n",
       "      <td>...</td>\n",
       "    </tr>\n",
       "    <tr>\n",
       "      <th>2020-03-13 16:00:00</th>\n",
       "      <td>ETHUSD</td>\n",
       "      <td>127.57</td>\n",
       "      <td>4461424.71</td>\n",
       "      <td>Friday</td>\n",
       "    </tr>\n",
       "    <tr>\n",
       "      <th>2020-03-13 17:00:00</th>\n",
       "      <td>ETHUSD</td>\n",
       "      <td>133.80</td>\n",
       "      <td>2753450.92</td>\n",
       "      <td>Friday</td>\n",
       "    </tr>\n",
       "    <tr>\n",
       "      <th>2020-03-13 18:00:00</th>\n",
       "      <td>ETHUSD</td>\n",
       "      <td>128.93</td>\n",
       "      <td>4898735.81</td>\n",
       "      <td>Friday</td>\n",
       "    </tr>\n",
       "    <tr>\n",
       "      <th>2020-03-13 19:00:00</th>\n",
       "      <td>ETHUSD</td>\n",
       "      <td>134.03</td>\n",
       "      <td>7579741.09</td>\n",
       "      <td>Friday</td>\n",
       "    </tr>\n",
       "    <tr>\n",
       "      <th>2020-03-13 20:00:00</th>\n",
       "      <td>ETHUSD</td>\n",
       "      <td>124.85</td>\n",
       "      <td>1940673.93</td>\n",
       "      <td>Friday</td>\n",
       "    </tr>\n",
       "  </tbody>\n",
       "</table>\n",
       "<p>23674 rows × 4 columns</p>\n",
       "</div>"
      ],
      "text/plain": [
       "                     symbol   close      volume weekday_name\n",
       "date                                                        \n",
       "2017-07-01 11:00:00  ETHUSD  257.13   679358.87     Saturday\n",
       "2017-07-01 12:00:00  ETHUSD  263.12   824362.87     Saturday\n",
       "2017-07-01 13:00:00  ETHUSD  275.01  3010787.99     Saturday\n",
       "2017-07-01 14:00:00  ETHUSD  274.83  1702536.85     Saturday\n",
       "2017-07-01 15:00:00  ETHUSD  268.79  1500282.55     Saturday\n",
       "...                     ...     ...         ...          ...\n",
       "2020-03-13 16:00:00  ETHUSD  127.57  4461424.71       Friday\n",
       "2020-03-13 17:00:00  ETHUSD  133.80  2753450.92       Friday\n",
       "2020-03-13 18:00:00  ETHUSD  128.93  4898735.81       Friday\n",
       "2020-03-13 19:00:00  ETHUSD  134.03  7579741.09       Friday\n",
       "2020-03-13 20:00:00  ETHUSD  124.85  1940673.93       Friday\n",
       "\n",
       "[23674 rows x 4 columns]"
      ]
     },
<<<<<<< HEAD
     "execution_count": 32,
=======
     "execution_count": 34,
>>>>>>> 373b953267b28adbd845fecc534482013c65f095
     "metadata": {},
     "output_type": "execute_result"
    }
   ],
   "source": [
    "df"
   ]
  },
  {
   "cell_type": "code",
<<<<<<< HEAD
   "execution_count": 33,
=======
   "execution_count": 35,
>>>>>>> 373b953267b28adbd845fecc534482013c65f095
   "id": "8f4d87e5-ea41-41bc-a996-7309a53d864b",
   "metadata": {},
   "outputs": [
    {
     "data": {
      "text/html": [
       "<div>\n",
       "<style scoped>\n",
       "    .dataframe tbody tr th:only-of-type {\n",
       "        vertical-align: middle;\n",
       "    }\n",
       "\n",
       "    .dataframe tbody tr th {\n",
       "        vertical-align: top;\n",
       "    }\n",
       "\n",
       "    .dataframe thead th {\n",
       "        text-align: right;\n",
       "    }\n",
       "</style>\n",
       "<table border=\"1\" class=\"dataframe\">\n",
       "  <thead>\n",
       "    <tr style=\"text-align: right;\">\n",
       "      <th></th>\n",
       "      <th>close</th>\n",
       "      <th>volume</th>\n",
       "    </tr>\n",
       "    <tr>\n",
       "      <th>weekday_name</th>\n",
       "      <th></th>\n",
       "      <th></th>\n",
       "    </tr>\n",
       "  </thead>\n",
       "  <tbody>\n",
       "    <tr>\n",
       "      <th>Friday</th>\n",
       "      <td>321.134596</td>\n",
       "      <td>2.135718e+06</td>\n",
       "    </tr>\n",
       "    <tr>\n",
       "      <th>Monday</th>\n",
       "      <td>326.186823</td>\n",
       "      <td>1.913387e+06</td>\n",
       "    </tr>\n",
       "    <tr>\n",
       "      <th>Saturday</th>\n",
       "      <td>327.707441</td>\n",
       "      <td>1.455576e+06</td>\n",
       "    </tr>\n",
       "    <tr>\n",
       "      <th>Sunday</th>\n",
       "      <td>326.316418</td>\n",
       "      <td>1.453492e+06</td>\n",
       "    </tr>\n",
       "    <tr>\n",
       "      <th>Thursday</th>\n",
       "      <td>323.334524</td>\n",
       "      <td>2.250669e+06</td>\n",
       "    </tr>\n",
       "    <tr>\n",
       "      <th>Tuesday</th>\n",
       "      <td>325.189722</td>\n",
       "      <td>2.355955e+06</td>\n",
       "    </tr>\n",
       "    <tr>\n",
       "      <th>Wednesday</th>\n",
       "      <td>324.622361</td>\n",
       "      <td>2.510756e+06</td>\n",
       "    </tr>\n",
       "  </tbody>\n",
       "</table>\n",
       "</div>"
      ],
      "text/plain": [
       "                   close        volume\n",
       "weekday_name                          \n",
       "Friday        321.134596  2.135718e+06\n",
       "Monday        326.186823  1.913387e+06\n",
       "Saturday      327.707441  1.455576e+06\n",
       "Sunday        326.316418  1.453492e+06\n",
       "Thursday      323.334524  2.250669e+06\n",
       "Tuesday       325.189722  2.355955e+06\n",
       "Wednesday     324.622361  2.510756e+06"
      ]
     },
<<<<<<< HEAD
     "execution_count": 33,
=======
     "execution_count": 35,
>>>>>>> 373b953267b28adbd845fecc534482013c65f095
     "metadata": {},
     "output_type": "execute_result"
    }
   ],
   "source": [
    "df.groupby('weekday_name').mean()"
   ]
  },
  {
   "cell_type": "code",
<<<<<<< HEAD
   "execution_count": 34,
=======
   "execution_count": 36,
>>>>>>> 373b953267b28adbd845fecc534482013c65f095
   "id": "1e6120c2-d1b0-4064-aec2-1917eb5d20d9",
   "metadata": {},
   "outputs": [
    {
     "data": {
      "text/plain": [
       "<AxesSubplot:xlabel='weekday_name'>"
      ]
     },
<<<<<<< HEAD
     "execution_count": 34,
=======
     "execution_count": 36,
>>>>>>> 373b953267b28adbd845fecc534482013c65f095
     "metadata": {},
     "output_type": "execute_result"
    },
    {
     "data": {
      "image/png": "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\n",
      "text/plain": [
       "<Figure size 1152x648 with 1 Axes>"
      ]
     },
     "metadata": {
      "needs_background": "light"
     },
     "output_type": "display_data"
    }
   ],
   "source": [
    "df.groupby('weekday_name').mean().close.plot()"
   ]
  },
  {
   "cell_type": "code",
<<<<<<< HEAD
   "execution_count": 35,
=======
   "execution_count": 37,
>>>>>>> 373b953267b28adbd845fecc534482013c65f095
   "id": "93755fb7-f301-4bbb-8cad-3deb5adf0518",
   "metadata": {},
   "outputs": [
    {
     "data": {
      "text/plain": [
       "<AxesSubplot:xlabel='weekday_name'>"
      ]
     },
<<<<<<< HEAD
     "execution_count": 35,
=======
     "execution_count": 37,
>>>>>>> 373b953267b28adbd845fecc534482013c65f095
     "metadata": {},
     "output_type": "execute_result"
    },
    {
     "data": {
      "image/png": "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\n",
      "text/plain": [
       "<Figure size 1152x648 with 1 Axes>"
      ]
     },
     "metadata": {
      "needs_background": "light"
     },
     "output_type": "display_data"
    }
   ],
   "source": [
    "df.groupby('weekday_name').mean().volume.plot()"
   ]
  },
  {
   "cell_type": "markdown",
   "id": "420a0fae-ae26-4f97-82c1-07fd762f07e4",
   "metadata": {},
   "source": [
    "#### The days are out of order so let's fix that"
   ]
  },
  {
   "cell_type": "code",
<<<<<<< HEAD
   "execution_count": 36,
=======
   "execution_count": 38,
>>>>>>> 373b953267b28adbd845fecc534482013c65f095
   "id": "aa254425-1979-485e-8ca8-57767b52280e",
   "metadata": {},
   "outputs": [
    {
     "data": {
      "text/plain": [
       "DatetimeIndex(['2017-07-01 11:00:00', '2017-07-01 12:00:00',\n",
       "               '2017-07-01 13:00:00', '2017-07-01 14:00:00',\n",
       "               '2017-07-01 15:00:00', '2017-07-01 16:00:00',\n",
       "               '2017-07-01 17:00:00', '2017-07-01 18:00:00',\n",
       "               '2017-07-01 19:00:00', '2017-07-01 20:00:00',\n",
       "               ...\n",
       "               '2020-03-13 11:00:00', '2020-03-13 12:00:00',\n",
       "               '2020-03-13 13:00:00', '2020-03-13 14:00:00',\n",
       "               '2020-03-13 15:00:00', '2020-03-13 16:00:00',\n",
       "               '2020-03-13 17:00:00', '2020-03-13 18:00:00',\n",
       "               '2020-03-13 19:00:00', '2020-03-13 20:00:00'],\n",
       "              dtype='datetime64[ns]', name='date', length=23674, freq=None)"
      ]
     },
<<<<<<< HEAD
     "execution_count": 36,
=======
     "execution_count": 38,
>>>>>>> 373b953267b28adbd845fecc534482013c65f095
     "metadata": {},
     "output_type": "execute_result"
    }
   ],
   "source": [
    "df.index"
   ]
  },
  {
   "cell_type": "code",
<<<<<<< HEAD
   "execution_count": 37,
=======
   "execution_count": 39,
>>>>>>> 373b953267b28adbd845fecc534482013c65f095
   "id": "8175d561-e051-4bc5-be67-a1f335dc1150",
   "metadata": {},
   "outputs": [
    {
     "data": {
      "text/plain": [
       "Int64Index([5, 5, 5, 5, 5, 5, 5, 5, 5, 5,\n",
       "            ...\n",
       "            4, 4, 4, 4, 4, 4, 4, 4, 4, 4],\n",
       "           dtype='int64', name='date', length=23674)"
      ]
     },
<<<<<<< HEAD
     "execution_count": 37,
=======
     "execution_count": 39,
>>>>>>> 373b953267b28adbd845fecc534482013c65f095
     "metadata": {},
     "output_type": "execute_result"
    }
   ],
   "source": [
    "df.index.day_of_week"
   ]
  },
  {
   "cell_type": "code",
<<<<<<< HEAD
   "execution_count": 38,
=======
   "execution_count": 40,
>>>>>>> 373b953267b28adbd845fecc534482013c65f095
   "id": "a482f292-38c6-476f-89e8-d27dd4e64b79",
   "metadata": {},
   "outputs": [
    {
     "data": {
      "text/html": [
       "<div>\n",
       "<style scoped>\n",
       "    .dataframe tbody tr th:only-of-type {\n",
       "        vertical-align: middle;\n",
       "    }\n",
       "\n",
       "    .dataframe tbody tr th {\n",
       "        vertical-align: top;\n",
       "    }\n",
       "\n",
       "    .dataframe thead th {\n",
       "        text-align: right;\n",
       "    }\n",
       "</style>\n",
       "<table border=\"1\" class=\"dataframe\">\n",
       "  <thead>\n",
       "    <tr style=\"text-align: right;\">\n",
       "      <th></th>\n",
       "      <th>symbol</th>\n",
       "      <th>close</th>\n",
       "      <th>volume</th>\n",
       "      <th>weekday_name</th>\n",
       "      <th>weekday_number</th>\n",
       "    </tr>\n",
       "    <tr>\n",
       "      <th>date</th>\n",
       "      <th></th>\n",
       "      <th></th>\n",
       "      <th></th>\n",
       "      <th></th>\n",
       "      <th></th>\n",
       "    </tr>\n",
       "  </thead>\n",
       "  <tbody>\n",
       "    <tr>\n",
       "      <th>2017-07-01 11:00:00</th>\n",
       "      <td>ETHUSD</td>\n",
       "      <td>257.13</td>\n",
       "      <td>679358.87</td>\n",
       "      <td>Saturday</td>\n",
       "      <td>5</td>\n",
       "    </tr>\n",
       "    <tr>\n",
       "      <th>2017-07-01 12:00:00</th>\n",
       "      <td>ETHUSD</td>\n",
       "      <td>263.12</td>\n",
       "      <td>824362.87</td>\n",
       "      <td>Saturday</td>\n",
       "      <td>5</td>\n",
       "    </tr>\n",
       "    <tr>\n",
       "      <th>2017-07-01 13:00:00</th>\n",
       "      <td>ETHUSD</td>\n",
       "      <td>275.01</td>\n",
       "      <td>3010787.99</td>\n",
       "      <td>Saturday</td>\n",
       "      <td>5</td>\n",
       "    </tr>\n",
       "    <tr>\n",
       "      <th>2017-07-01 14:00:00</th>\n",
       "      <td>ETHUSD</td>\n",
       "      <td>274.83</td>\n",
       "      <td>1702536.85</td>\n",
       "      <td>Saturday</td>\n",
       "      <td>5</td>\n",
       "    </tr>\n",
       "    <tr>\n",
       "      <th>2017-07-01 15:00:00</th>\n",
       "      <td>ETHUSD</td>\n",
       "      <td>268.79</td>\n",
       "      <td>1500282.55</td>\n",
       "      <td>Saturday</td>\n",
       "      <td>5</td>\n",
       "    </tr>\n",
       "    <tr>\n",
       "      <th>...</th>\n",
       "      <td>...</td>\n",
       "      <td>...</td>\n",
       "      <td>...</td>\n",
       "      <td>...</td>\n",
       "      <td>...</td>\n",
       "    </tr>\n",
       "    <tr>\n",
       "      <th>2020-03-13 16:00:00</th>\n",
       "      <td>ETHUSD</td>\n",
       "      <td>127.57</td>\n",
       "      <td>4461424.71</td>\n",
       "      <td>Friday</td>\n",
       "      <td>4</td>\n",
       "    </tr>\n",
       "    <tr>\n",
       "      <th>2020-03-13 17:00:00</th>\n",
       "      <td>ETHUSD</td>\n",
       "      <td>133.80</td>\n",
       "      <td>2753450.92</td>\n",
       "      <td>Friday</td>\n",
       "      <td>4</td>\n",
       "    </tr>\n",
       "    <tr>\n",
       "      <th>2020-03-13 18:00:00</th>\n",
       "      <td>ETHUSD</td>\n",
       "      <td>128.93</td>\n",
       "      <td>4898735.81</td>\n",
       "      <td>Friday</td>\n",
       "      <td>4</td>\n",
       "    </tr>\n",
       "    <tr>\n",
       "      <th>2020-03-13 19:00:00</th>\n",
       "      <td>ETHUSD</td>\n",
       "      <td>134.03</td>\n",
       "      <td>7579741.09</td>\n",
       "      <td>Friday</td>\n",
       "      <td>4</td>\n",
       "    </tr>\n",
       "    <tr>\n",
       "      <th>2020-03-13 20:00:00</th>\n",
       "      <td>ETHUSD</td>\n",
       "      <td>124.85</td>\n",
       "      <td>1940673.93</td>\n",
       "      <td>Friday</td>\n",
       "      <td>4</td>\n",
       "    </tr>\n",
       "  </tbody>\n",
       "</table>\n",
       "<p>23674 rows × 5 columns</p>\n",
       "</div>"
      ],
      "text/plain": [
       "                     symbol   close      volume weekday_name  weekday_number\n",
       "date                                                                        \n",
       "2017-07-01 11:00:00  ETHUSD  257.13   679358.87     Saturday               5\n",
       "2017-07-01 12:00:00  ETHUSD  263.12   824362.87     Saturday               5\n",
       "2017-07-01 13:00:00  ETHUSD  275.01  3010787.99     Saturday               5\n",
       "2017-07-01 14:00:00  ETHUSD  274.83  1702536.85     Saturday               5\n",
       "2017-07-01 15:00:00  ETHUSD  268.79  1500282.55     Saturday               5\n",
       "...                     ...     ...         ...          ...             ...\n",
       "2020-03-13 16:00:00  ETHUSD  127.57  4461424.71       Friday               4\n",
       "2020-03-13 17:00:00  ETHUSD  133.80  2753450.92       Friday               4\n",
       "2020-03-13 18:00:00  ETHUSD  128.93  4898735.81       Friday               4\n",
       "2020-03-13 19:00:00  ETHUSD  134.03  7579741.09       Friday               4\n",
       "2020-03-13 20:00:00  ETHUSD  124.85  1940673.93       Friday               4\n",
       "\n",
       "[23674 rows x 5 columns]"
      ]
     },
<<<<<<< HEAD
     "execution_count": 38,
=======
     "execution_count": 40,
>>>>>>> 373b953267b28adbd845fecc534482013c65f095
     "metadata": {},
     "output_type": "execute_result"
    }
   ],
   "source": [
    "df['weekday_number'] = df.index.day_of_week\n",
    "df"
   ]
  },
  {
   "cell_type": "code",
<<<<<<< HEAD
   "execution_count": 39,
=======
   "execution_count": 41,
>>>>>>> 373b953267b28adbd845fecc534482013c65f095
   "id": "c3b9da66-6775-41d3-bbbb-d1f1314ee692",
   "metadata": {},
   "outputs": [
    {
     "data": {
      "text/html": [
       "<div>\n",
       "<style scoped>\n",
       "    .dataframe tbody tr th:only-of-type {\n",
       "        vertical-align: middle;\n",
       "    }\n",
       "\n",
       "    .dataframe tbody tr th {\n",
       "        vertical-align: top;\n",
       "    }\n",
       "\n",
       "    .dataframe thead th {\n",
       "        text-align: right;\n",
       "    }\n",
       "</style>\n",
       "<table border=\"1\" class=\"dataframe\">\n",
       "  <thead>\n",
       "    <tr style=\"text-align: right;\">\n",
       "      <th></th>\n",
       "      <th>close</th>\n",
       "      <th>volume</th>\n",
       "      <th>weekday_number</th>\n",
       "    </tr>\n",
       "    <tr>\n",
       "      <th>weekday_name</th>\n",
       "      <th></th>\n",
       "      <th></th>\n",
       "      <th></th>\n",
       "    </tr>\n",
       "  </thead>\n",
       "  <tbody>\n",
       "    <tr>\n",
       "      <th>Friday</th>\n",
       "      <td>321.134596</td>\n",
       "      <td>2.135718e+06</td>\n",
       "      <td>4.0</td>\n",
       "    </tr>\n",
       "    <tr>\n",
       "      <th>Monday</th>\n",
       "      <td>326.186823</td>\n",
       "      <td>1.913387e+06</td>\n",
       "      <td>0.0</td>\n",
       "    </tr>\n",
       "    <tr>\n",
       "      <th>Saturday</th>\n",
       "      <td>327.707441</td>\n",
       "      <td>1.455576e+06</td>\n",
       "      <td>5.0</td>\n",
       "    </tr>\n",
       "    <tr>\n",
       "      <th>Sunday</th>\n",
       "      <td>326.316418</td>\n",
       "      <td>1.453492e+06</td>\n",
       "      <td>6.0</td>\n",
       "    </tr>\n",
       "    <tr>\n",
       "      <th>Thursday</th>\n",
       "      <td>323.334524</td>\n",
       "      <td>2.250669e+06</td>\n",
       "      <td>3.0</td>\n",
       "    </tr>\n",
       "    <tr>\n",
       "      <th>Tuesday</th>\n",
       "      <td>325.189722</td>\n",
       "      <td>2.355955e+06</td>\n",
       "      <td>1.0</td>\n",
       "    </tr>\n",
       "    <tr>\n",
       "      <th>Wednesday</th>\n",
       "      <td>324.622361</td>\n",
       "      <td>2.510756e+06</td>\n",
       "      <td>2.0</td>\n",
       "    </tr>\n",
       "  </tbody>\n",
       "</table>\n",
       "</div>"
      ],
      "text/plain": [
       "                   close        volume  weekday_number\n",
       "weekday_name                                          \n",
       "Friday        321.134596  2.135718e+06             4.0\n",
       "Monday        326.186823  1.913387e+06             0.0\n",
       "Saturday      327.707441  1.455576e+06             5.0\n",
       "Sunday        326.316418  1.453492e+06             6.0\n",
       "Thursday      323.334524  2.250669e+06             3.0\n",
       "Tuesday       325.189722  2.355955e+06             1.0\n",
       "Wednesday     324.622361  2.510756e+06             2.0"
      ]
     },
<<<<<<< HEAD
     "execution_count": 39,
=======
     "execution_count": 41,
>>>>>>> 373b953267b28adbd845fecc534482013c65f095
     "metadata": {},
     "output_type": "execute_result"
    }
   ],
   "source": [
    "df.groupby('weekday_name').mean()"
   ]
  },
  {
   "cell_type": "code",
<<<<<<< HEAD
   "execution_count": 40,
=======
   "execution_count": 42,
>>>>>>> 373b953267b28adbd845fecc534482013c65f095
   "id": "dee0feb1-1513-4695-9c3a-facd7f94dd70",
   "metadata": {},
   "outputs": [
    {
     "data": {
      "text/html": [
       "<div>\n",
       "<style scoped>\n",
       "    .dataframe tbody tr th:only-of-type {\n",
       "        vertical-align: middle;\n",
       "    }\n",
       "\n",
       "    .dataframe tbody tr th {\n",
       "        vertical-align: top;\n",
       "    }\n",
       "\n",
       "    .dataframe thead th {\n",
       "        text-align: right;\n",
       "    }\n",
       "</style>\n",
       "<table border=\"1\" class=\"dataframe\">\n",
       "  <thead>\n",
       "    <tr style=\"text-align: right;\">\n",
       "      <th></th>\n",
       "      <th>close</th>\n",
       "      <th>volume</th>\n",
       "      <th>weekday_number</th>\n",
       "    </tr>\n",
       "    <tr>\n",
       "      <th>weekday_name</th>\n",
       "      <th></th>\n",
       "      <th></th>\n",
       "      <th></th>\n",
       "    </tr>\n",
       "  </thead>\n",
       "  <tbody>\n",
       "    <tr>\n",
       "      <th>Monday</th>\n",
       "      <td>326.186823</td>\n",
       "      <td>1.913387e+06</td>\n",
       "      <td>0.0</td>\n",
       "    </tr>\n",
       "    <tr>\n",
       "      <th>Tuesday</th>\n",
       "      <td>325.189722</td>\n",
       "      <td>2.355955e+06</td>\n",
       "      <td>1.0</td>\n",
       "    </tr>\n",
       "    <tr>\n",
       "      <th>Wednesday</th>\n",
       "      <td>324.622361</td>\n",
       "      <td>2.510756e+06</td>\n",
       "      <td>2.0</td>\n",
       "    </tr>\n",
       "    <tr>\n",
       "      <th>Thursday</th>\n",
       "      <td>323.334524</td>\n",
       "      <td>2.250669e+06</td>\n",
       "      <td>3.0</td>\n",
       "    </tr>\n",
       "    <tr>\n",
       "      <th>Friday</th>\n",
       "      <td>321.134596</td>\n",
       "      <td>2.135718e+06</td>\n",
       "      <td>4.0</td>\n",
       "    </tr>\n",
       "    <tr>\n",
       "      <th>Saturday</th>\n",
       "      <td>327.707441</td>\n",
       "      <td>1.455576e+06</td>\n",
       "      <td>5.0</td>\n",
       "    </tr>\n",
       "    <tr>\n",
       "      <th>Sunday</th>\n",
       "      <td>326.316418</td>\n",
       "      <td>1.453492e+06</td>\n",
       "      <td>6.0</td>\n",
       "    </tr>\n",
       "  </tbody>\n",
       "</table>\n",
       "</div>"
      ],
      "text/plain": [
       "                   close        volume  weekday_number\n",
       "weekday_name                                          \n",
       "Monday        326.186823  1.913387e+06             0.0\n",
       "Tuesday       325.189722  2.355955e+06             1.0\n",
       "Wednesday     324.622361  2.510756e+06             2.0\n",
       "Thursday      323.334524  2.250669e+06             3.0\n",
       "Friday        321.134596  2.135718e+06             4.0\n",
       "Saturday      327.707441  1.455576e+06             5.0\n",
       "Sunday        326.316418  1.453492e+06             6.0"
      ]
     },
<<<<<<< HEAD
     "execution_count": 40,
=======
     "execution_count": 42,
>>>>>>> 373b953267b28adbd845fecc534482013c65f095
     "metadata": {},
     "output_type": "execute_result"
    }
   ],
   "source": [
    "df.groupby('weekday_name').mean().sort_values('weekday_number')"
   ]
  },
  {
   "cell_type": "code",
<<<<<<< HEAD
   "execution_count": 41,
=======
   "execution_count": 43,
>>>>>>> 373b953267b28adbd845fecc534482013c65f095
   "id": "4893af2a-8579-4614-9c01-1fbb638d3581",
   "metadata": {},
   "outputs": [
    {
     "data": {
      "text/plain": [
       "<AxesSubplot:xlabel='weekday_name'>"
      ]
     },
<<<<<<< HEAD
     "execution_count": 41,
=======
     "execution_count": 43,
>>>>>>> 373b953267b28adbd845fecc534482013c65f095
     "metadata": {},
     "output_type": "execute_result"
    },
    {
     "data": {
      "image/png": "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\n",
      "text/plain": [
       "<Figure size 1152x648 with 1 Axes>"
      ]
     },
     "metadata": {
      "needs_background": "light"
     },
     "output_type": "display_data"
    }
   ],
   "source": [
    "df.groupby('weekday_name').mean().sort_values('weekday_number').volume.plot()"
   ]
  },
  {
   "cell_type": "code",
<<<<<<< HEAD
   "execution_count": 42,
=======
   "execution_count": 44,
>>>>>>> 373b953267b28adbd845fecc534482013c65f095
   "id": "d49a9d54-be64-444f-8e19-669c94b33c5f",
   "metadata": {},
   "outputs": [
    {
     "data": {
      "text/plain": [
       "<AxesSubplot:xlabel='weekday_name'>"
      ]
     },
<<<<<<< HEAD
     "execution_count": 42,
=======
     "execution_count": 44,
>>>>>>> 373b953267b28adbd845fecc534482013c65f095
     "metadata": {},
     "output_type": "execute_result"
    },
    {
     "data": {
      "image/png": "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\n",
      "text/plain": [
       "<Figure size 1152x648 with 1 Axes>"
      ]
     },
     "metadata": {
      "needs_background": "light"
     },
     "output_type": "display_data"
    }
   ],
   "source": [
    "df.groupby('weekday_name').mean().sort_values('weekday_number').close.plot()"
   ]
  },
  {
   "cell_type": "markdown",
   "id": "00da9e8d-ce8b-4e4e-98a0-c09034884cf9",
   "metadata": {},
   "source": [
    "![Nice gif](https://c.tenor.com/bEBxkuyFiucAAAAC/yes-nice.gif)\n",
    "\n",
    "### How do we get a subset of the dataframe?"
   ]
  },
  {
   "cell_type": "code",
<<<<<<< HEAD
   "execution_count": 43,
=======
   "execution_count": 45,
>>>>>>> 373b953267b28adbd845fecc534482013c65f095
   "id": "14e9a049-1d4f-4993-9e71-9cd879cd51fd",
   "metadata": {},
   "outputs": [
    {
     "data": {
      "text/plain": [
       "symbol               ETHUSD\n",
       "close                175.73\n",
       "volume            422881.86\n",
       "weekday_name        Tuesday\n",
       "weekday_number            1\n",
       "Name: 2019-11-19 12:00:00, dtype: object"
      ]
     },
<<<<<<< HEAD
     "execution_count": 43,
=======
     "execution_count": 45,
>>>>>>> 373b953267b28adbd845fecc534482013c65f095
     "metadata": {},
     "output_type": "execute_result"
    }
   ],
   "source": [
    "df.loc['2019-11-19 12:00:00']"
   ]
  },
  {
   "cell_type": "code",
<<<<<<< HEAD
   "execution_count": 44,
=======
   "execution_count": 48,
>>>>>>> 373b953267b28adbd845fecc534482013c65f095
   "id": "b1875e70-19c3-4cea-9662-3c5d25c52863",
   "metadata": {},
   "outputs": [
    {
     "data": {
      "text/html": [
       "<div>\n",
       "<style scoped>\n",
       "    .dataframe tbody tr th:only-of-type {\n",
       "        vertical-align: middle;\n",
       "    }\n",
       "\n",
       "    .dataframe tbody tr th {\n",
       "        vertical-align: top;\n",
       "    }\n",
       "\n",
       "    .dataframe thead th {\n",
       "        text-align: right;\n",
       "    }\n",
       "</style>\n",
       "<table border=\"1\" class=\"dataframe\">\n",
       "  <thead>\n",
       "    <tr style=\"text-align: right;\">\n",
       "      <th></th>\n",
       "      <th>symbol</th>\n",
       "      <th>close</th>\n",
       "      <th>volume</th>\n",
       "      <th>weekday_name</th>\n",
       "      <th>weekday_number</th>\n",
       "    </tr>\n",
       "    <tr>\n",
       "      <th>date</th>\n",
       "      <th></th>\n",
       "      <th></th>\n",
       "      <th></th>\n",
       "      <th></th>\n",
       "      <th></th>\n",
       "    </tr>\n",
       "  </thead>\n",
       "  <tbody>\n",
       "    <tr>\n",
       "      <th>2018-01-01 00:00:00</th>\n",
       "      <td>ETHUSD</td>\n",
       "      <td>754.42</td>\n",
       "      <td>2697546.48</td>\n",
       "      <td>Monday</td>\n",
       "      <td>0</td>\n",
       "    </tr>\n",
       "    <tr>\n",
       "      <th>2018-01-01 01:00:00</th>\n",
       "      <td>ETHUSD</td>\n",
       "      <td>734.59</td>\n",
       "      <td>1886624.01</td>\n",
       "      <td>Monday</td>\n",
       "      <td>0</td>\n",
       "    </tr>\n",
       "    <tr>\n",
       "      <th>2018-01-01 02:00:00</th>\n",
       "      <td>ETHUSD</td>\n",
       "      <td>730.01</td>\n",
       "      <td>2950627.37</td>\n",
       "      <td>Monday</td>\n",
       "      <td>0</td>\n",
       "    </tr>\n",
       "    <tr>\n",
       "      <th>2018-01-01 03:00:00</th>\n",
       "      <td>ETHUSD</td>\n",
       "      <td>747.90</td>\n",
       "      <td>3461348.11</td>\n",
       "      <td>Monday</td>\n",
       "      <td>0</td>\n",
       "    </tr>\n",
       "    <tr>\n",
       "      <th>2018-01-01 04:00:00</th>\n",
       "      <td>ETHUSD</td>\n",
       "      <td>757.86</td>\n",
       "      <td>3180304.69</td>\n",
       "      <td>Monday</td>\n",
       "      <td>0</td>\n",
       "    </tr>\n",
       "    <tr>\n",
       "      <th>...</th>\n",
       "      <td>...</td>\n",
       "      <td>...</td>\n",
       "      <td>...</td>\n",
       "      <td>...</td>\n",
       "      <td>...</td>\n",
       "    </tr>\n",
       "    <tr>\n",
       "      <th>2019-12-31 19:00:00</th>\n",
       "      <td>ETHUSD</td>\n",
       "      <td>131.10</td>\n",
       "      <td>1169847.84</td>\n",
       "      <td>Tuesday</td>\n",
       "      <td>1</td>\n",
       "    </tr>\n",
       "    <tr>\n",
       "      <th>2019-12-31 20:00:00</th>\n",
       "      <td>ETHUSD</td>\n",
       "      <td>129.29</td>\n",
       "      <td>428183.38</td>\n",
       "      <td>Tuesday</td>\n",
       "      <td>1</td>\n",
       "    </tr>\n",
       "    <tr>\n",
       "      <th>2019-12-31 21:00:00</th>\n",
       "      <td>ETHUSD</td>\n",
       "      <td>128.83</td>\n",
       "      <td>350155.69</td>\n",
       "      <td>Tuesday</td>\n",
       "      <td>1</td>\n",
       "    </tr>\n",
       "    <tr>\n",
       "      <th>2019-12-31 22:00:00</th>\n",
       "      <td>ETHUSD</td>\n",
       "      <td>127.84</td>\n",
       "      <td>554646.02</td>\n",
       "      <td>Tuesday</td>\n",
       "      <td>1</td>\n",
       "    </tr>\n",
       "    <tr>\n",
       "      <th>2019-12-31 23:00:00</th>\n",
       "      <td>ETHUSD</td>\n",
       "      <td>128.38</td>\n",
       "      <td>440678.91</td>\n",
       "      <td>Tuesday</td>\n",
       "      <td>1</td>\n",
       "    </tr>\n",
       "  </tbody>\n",
       "</table>\n",
       "<p>17520 rows × 5 columns</p>\n",
       "</div>"
      ],
      "text/plain": [
       "                     symbol   close      volume weekday_name  weekday_number\n",
       "date                                                                        \n",
       "2018-01-01 00:00:00  ETHUSD  754.42  2697546.48       Monday               0\n",
       "2018-01-01 01:00:00  ETHUSD  734.59  1886624.01       Monday               0\n",
       "2018-01-01 02:00:00  ETHUSD  730.01  2950627.37       Monday               0\n",
       "2018-01-01 03:00:00  ETHUSD  747.90  3461348.11       Monday               0\n",
       "2018-01-01 04:00:00  ETHUSD  757.86  3180304.69       Monday               0\n",
       "...                     ...     ...         ...          ...             ...\n",
       "2019-12-31 19:00:00  ETHUSD  131.10  1169847.84      Tuesday               1\n",
       "2019-12-31 20:00:00  ETHUSD  129.29   428183.38      Tuesday               1\n",
       "2019-12-31 21:00:00  ETHUSD  128.83   350155.69      Tuesday               1\n",
       "2019-12-31 22:00:00  ETHUSD  127.84   554646.02      Tuesday               1\n",
       "2019-12-31 23:00:00  ETHUSD  128.38   440678.91      Tuesday               1\n",
       "\n",
       "[17520 rows x 5 columns]"
      ]
     },
<<<<<<< HEAD
     "execution_count": 44,
=======
     "execution_count": 48,
>>>>>>> 373b953267b28adbd845fecc534482013c65f095
     "metadata": {},
     "output_type": "execute_result"
    }
   ],
   "source": [
    "df['2018':'2019']"
   ]
  },
  {
   "cell_type": "code",
<<<<<<< HEAD
   "execution_count": 45,
=======
   "execution_count": 49,
>>>>>>> 373b953267b28adbd845fecc534482013c65f095
   "id": "e2847146-333c-4498-98e4-6ef91170026c",
   "metadata": {},
   "outputs": [
    {
     "data": {
      "text/html": [
       "<div>\n",
       "<style scoped>\n",
       "    .dataframe tbody tr th:only-of-type {\n",
       "        vertical-align: middle;\n",
       "    }\n",
       "\n",
       "    .dataframe tbody tr th {\n",
       "        vertical-align: top;\n",
       "    }\n",
       "\n",
       "    .dataframe thead th {\n",
       "        text-align: right;\n",
       "    }\n",
       "</style>\n",
       "<table border=\"1\" class=\"dataframe\">\n",
       "  <thead>\n",
       "    <tr style=\"text-align: right;\">\n",
       "      <th></th>\n",
       "      <th>symbol</th>\n",
       "      <th>close</th>\n",
       "      <th>volume</th>\n",
       "      <th>weekday_name</th>\n",
       "      <th>weekday_number</th>\n",
       "    </tr>\n",
       "    <tr>\n",
       "      <th>date</th>\n",
       "      <th></th>\n",
       "      <th></th>\n",
       "      <th></th>\n",
       "      <th></th>\n",
       "      <th></th>\n",
       "    </tr>\n",
       "  </thead>\n",
       "  <tbody>\n",
       "    <tr>\n",
       "      <th>2018-11-01 00:00:00</th>\n",
       "      <td>ETHUSD</td>\n",
       "      <td>197.77</td>\n",
       "      <td>275748.99</td>\n",
       "      <td>Thursday</td>\n",
       "      <td>3</td>\n",
       "    </tr>\n",
       "    <tr>\n",
       "      <th>2018-11-01 01:00:00</th>\n",
       "      <td>ETHUSD</td>\n",
       "      <td>196.79</td>\n",
       "      <td>296047.25</td>\n",
       "      <td>Thursday</td>\n",
       "      <td>3</td>\n",
       "    </tr>\n",
       "    <tr>\n",
       "      <th>2018-11-01 02:00:00</th>\n",
       "      <td>ETHUSD</td>\n",
       "      <td>196.66</td>\n",
       "      <td>192362.83</td>\n",
       "      <td>Thursday</td>\n",
       "      <td>3</td>\n",
       "    </tr>\n",
       "    <tr>\n",
       "      <th>2018-11-01 03:00:00</th>\n",
       "      <td>ETHUSD</td>\n",
       "      <td>196.65</td>\n",
       "      <td>142273.50</td>\n",
       "      <td>Thursday</td>\n",
       "      <td>3</td>\n",
       "    </tr>\n",
       "    <tr>\n",
       "      <th>2018-11-01 04:00:00</th>\n",
       "      <td>ETHUSD</td>\n",
       "      <td>197.02</td>\n",
       "      <td>138478.13</td>\n",
       "      <td>Thursday</td>\n",
       "      <td>3</td>\n",
       "    </tr>\n",
       "    <tr>\n",
       "      <th>...</th>\n",
       "      <td>...</td>\n",
       "      <td>...</td>\n",
       "      <td>...</td>\n",
       "      <td>...</td>\n",
       "      <td>...</td>\n",
       "    </tr>\n",
       "    <tr>\n",
       "      <th>2018-11-30 19:00:00</th>\n",
       "      <td>ETHUSD</td>\n",
       "      <td>112.55</td>\n",
       "      <td>391218.14</td>\n",
       "      <td>Friday</td>\n",
       "      <td>4</td>\n",
       "    </tr>\n",
       "    <tr>\n",
       "      <th>2018-11-30 20:00:00</th>\n",
       "      <td>ETHUSD</td>\n",
       "      <td>112.27</td>\n",
       "      <td>400806.50</td>\n",
       "      <td>Friday</td>\n",
       "      <td>4</td>\n",
       "    </tr>\n",
       "    <tr>\n",
       "      <th>2018-11-30 21:00:00</th>\n",
       "      <td>ETHUSD</td>\n",
       "      <td>113.31</td>\n",
       "      <td>956181.40</td>\n",
       "      <td>Friday</td>\n",
       "      <td>4</td>\n",
       "    </tr>\n",
       "    <tr>\n",
       "      <th>2018-11-30 22:00:00</th>\n",
       "      <td>ETHUSD</td>\n",
       "      <td>113.07</td>\n",
       "      <td>414201.36</td>\n",
       "      <td>Friday</td>\n",
       "      <td>4</td>\n",
       "    </tr>\n",
       "    <tr>\n",
       "      <th>2018-11-30 23:00:00</th>\n",
       "      <td>ETHUSD</td>\n",
       "      <td>111.55</td>\n",
       "      <td>590385.65</td>\n",
       "      <td>Friday</td>\n",
       "      <td>4</td>\n",
       "    </tr>\n",
       "  </tbody>\n",
       "</table>\n",
       "<p>720 rows × 5 columns</p>\n",
       "</div>"
      ],
      "text/plain": [
       "                     symbol   close     volume weekday_name  weekday_number\n",
       "date                                                                       \n",
       "2018-11-01 00:00:00  ETHUSD  197.77  275748.99     Thursday               3\n",
       "2018-11-01 01:00:00  ETHUSD  196.79  296047.25     Thursday               3\n",
       "2018-11-01 02:00:00  ETHUSD  196.66  192362.83     Thursday               3\n",
       "2018-11-01 03:00:00  ETHUSD  196.65  142273.50     Thursday               3\n",
       "2018-11-01 04:00:00  ETHUSD  197.02  138478.13     Thursday               3\n",
       "...                     ...     ...        ...          ...             ...\n",
       "2018-11-30 19:00:00  ETHUSD  112.55  391218.14       Friday               4\n",
       "2018-11-30 20:00:00  ETHUSD  112.27  400806.50       Friday               4\n",
       "2018-11-30 21:00:00  ETHUSD  113.31  956181.40       Friday               4\n",
       "2018-11-30 22:00:00  ETHUSD  113.07  414201.36       Friday               4\n",
       "2018-11-30 23:00:00  ETHUSD  111.55  590385.65       Friday               4\n",
       "\n",
       "[720 rows x 5 columns]"
      ]
     },
<<<<<<< HEAD
     "execution_count": 45,
=======
     "execution_count": 49,
>>>>>>> 373b953267b28adbd845fecc534482013c65f095
     "metadata": {},
     "output_type": "execute_result"
    }
   ],
   "source": [
    "df['2018-11']"
   ]
  },
  {
   "cell_type": "code",
<<<<<<< HEAD
   "execution_count": 46,
=======
   "execution_count": 50,
>>>>>>> 373b953267b28adbd845fecc534482013c65f095
   "id": "dc892e37-bbcd-471d-8d50-ba880a58c523",
   "metadata": {},
   "outputs": [
    {
     "data": {
      "text/html": [
       "<div>\n",
       "<style scoped>\n",
       "    .dataframe tbody tr th:only-of-type {\n",
       "        vertical-align: middle;\n",
       "    }\n",
       "\n",
       "    .dataframe tbody tr th {\n",
       "        vertical-align: top;\n",
       "    }\n",
       "\n",
       "    .dataframe thead th {\n",
       "        text-align: right;\n",
       "    }\n",
       "</style>\n",
       "<table border=\"1\" class=\"dataframe\">\n",
       "  <thead>\n",
       "    <tr style=\"text-align: right;\">\n",
       "      <th></th>\n",
       "      <th>symbol</th>\n",
       "      <th>close</th>\n",
       "      <th>volume</th>\n",
       "      <th>weekday_name</th>\n",
       "      <th>weekday_number</th>\n",
       "    </tr>\n",
       "    <tr>\n",
       "      <th>date</th>\n",
       "      <th></th>\n",
       "      <th></th>\n",
       "      <th></th>\n",
       "      <th></th>\n",
       "      <th></th>\n",
       "    </tr>\n",
       "  </thead>\n",
       "  <tbody>\n",
       "    <tr>\n",
       "      <th>2018-01-01 00:00:00</th>\n",
       "      <td>ETHUSD</td>\n",
       "      <td>754.42</td>\n",
       "      <td>2697546.48</td>\n",
       "      <td>Monday</td>\n",
       "      <td>0</td>\n",
       "    </tr>\n",
       "    <tr>\n",
       "      <th>2018-01-01 01:00:00</th>\n",
       "      <td>ETHUSD</td>\n",
       "      <td>734.59</td>\n",
       "      <td>1886624.01</td>\n",
       "      <td>Monday</td>\n",
       "      <td>0</td>\n",
       "    </tr>\n",
       "    <tr>\n",
       "      <th>2018-01-01 02:00:00</th>\n",
       "      <td>ETHUSD</td>\n",
       "      <td>730.01</td>\n",
       "      <td>2950627.37</td>\n",
       "      <td>Monday</td>\n",
       "      <td>0</td>\n",
       "    </tr>\n",
       "    <tr>\n",
       "      <th>2018-01-01 03:00:00</th>\n",
       "      <td>ETHUSD</td>\n",
       "      <td>747.90</td>\n",
       "      <td>3461348.11</td>\n",
       "      <td>Monday</td>\n",
       "      <td>0</td>\n",
       "    </tr>\n",
       "    <tr>\n",
       "      <th>2018-01-01 04:00:00</th>\n",
       "      <td>ETHUSD</td>\n",
       "      <td>757.86</td>\n",
       "      <td>3180304.69</td>\n",
       "      <td>Monday</td>\n",
       "      <td>0</td>\n",
       "    </tr>\n",
       "    <tr>\n",
       "      <th>...</th>\n",
       "      <td>...</td>\n",
       "      <td>...</td>\n",
       "      <td>...</td>\n",
       "      <td>...</td>\n",
       "      <td>...</td>\n",
       "    </tr>\n",
       "    <tr>\n",
       "      <th>2018-06-30 19:00:00</th>\n",
       "      <td>ETHUSD</td>\n",
       "      <td>454.25</td>\n",
       "      <td>715461.94</td>\n",
       "      <td>Saturday</td>\n",
       "      <td>5</td>\n",
       "    </tr>\n",
       "    <tr>\n",
       "      <th>2018-06-30 20:00:00</th>\n",
       "      <td>ETHUSD</td>\n",
       "      <td>447.32</td>\n",
       "      <td>889070.47</td>\n",
       "      <td>Saturday</td>\n",
       "      <td>5</td>\n",
       "    </tr>\n",
       "    <tr>\n",
       "      <th>2018-06-30 21:00:00</th>\n",
       "      <td>ETHUSD</td>\n",
       "      <td>444.99</td>\n",
       "      <td>378183.34</td>\n",
       "      <td>Saturday</td>\n",
       "      <td>5</td>\n",
       "    </tr>\n",
       "    <tr>\n",
       "      <th>2018-06-30 22:00:00</th>\n",
       "      <td>ETHUSD</td>\n",
       "      <td>442.95</td>\n",
       "      <td>374419.99</td>\n",
       "      <td>Saturday</td>\n",
       "      <td>5</td>\n",
       "    </tr>\n",
       "    <tr>\n",
       "      <th>2018-06-30 23:00:00</th>\n",
       "      <td>ETHUSD</td>\n",
       "      <td>445.01</td>\n",
       "      <td>1591743.87</td>\n",
       "      <td>Saturday</td>\n",
       "      <td>5</td>\n",
       "    </tr>\n",
       "  </tbody>\n",
       "</table>\n",
       "<p>4344 rows × 5 columns</p>\n",
       "</div>"
      ],
      "text/plain": [
       "                     symbol   close      volume weekday_name  weekday_number\n",
       "date                                                                        \n",
       "2018-01-01 00:00:00  ETHUSD  754.42  2697546.48       Monday               0\n",
       "2018-01-01 01:00:00  ETHUSD  734.59  1886624.01       Monday               0\n",
       "2018-01-01 02:00:00  ETHUSD  730.01  2950627.37       Monday               0\n",
       "2018-01-01 03:00:00  ETHUSD  747.90  3461348.11       Monday               0\n",
       "2018-01-01 04:00:00  ETHUSD  757.86  3180304.69       Monday               0\n",
       "...                     ...     ...         ...          ...             ...\n",
       "2018-06-30 19:00:00  ETHUSD  454.25   715461.94     Saturday               5\n",
       "2018-06-30 20:00:00  ETHUSD  447.32   889070.47     Saturday               5\n",
       "2018-06-30 21:00:00  ETHUSD  444.99   378183.34     Saturday               5\n",
       "2018-06-30 22:00:00  ETHUSD  442.95   374419.99     Saturday               5\n",
       "2018-06-30 23:00:00  ETHUSD  445.01  1591743.87     Saturday               5\n",
       "\n",
       "[4344 rows x 5 columns]"
      ]
     },
<<<<<<< HEAD
     "execution_count": 46,
=======
     "execution_count": 50,
>>>>>>> 373b953267b28adbd845fecc534482013c65f095
     "metadata": {},
     "output_type": "execute_result"
    }
   ],
   "source": [
    "df['2018-01-01': '2018-06-30']"
   ]
  },
  {
   "cell_type": "code",
<<<<<<< HEAD
   "execution_count": 47,
=======
   "execution_count": 51,
>>>>>>> 373b953267b28adbd845fecc534482013c65f095
   "id": "dc1aa350-b8c9-4bc2-a943-a80fdf61454c",
   "metadata": {},
   "outputs": [
    {
     "data": {
      "text/html": [
       "<div>\n",
       "<style scoped>\n",
       "    .dataframe tbody tr th:only-of-type {\n",
       "        vertical-align: middle;\n",
       "    }\n",
       "\n",
       "    .dataframe tbody tr th {\n",
       "        vertical-align: top;\n",
       "    }\n",
       "\n",
       "    .dataframe thead th {\n",
       "        text-align: right;\n",
       "    }\n",
       "</style>\n",
       "<table border=\"1\" class=\"dataframe\">\n",
       "  <thead>\n",
       "    <tr style=\"text-align: right;\">\n",
       "      <th></th>\n",
       "      <th>symbol</th>\n",
       "      <th>close</th>\n",
       "      <th>volume</th>\n",
       "    </tr>\n",
       "    <tr>\n",
       "      <th>date</th>\n",
       "      <th></th>\n",
       "      <th></th>\n",
       "      <th></th>\n",
       "    </tr>\n",
       "  </thead>\n",
       "  <tbody>\n",
       "    <tr>\n",
       "      <th>2017-07-01 11:00:00</th>\n",
       "      <td>ETHUSD</td>\n",
       "      <td>257.13</td>\n",
       "      <td>679358.87</td>\n",
       "    </tr>\n",
       "    <tr>\n",
       "      <th>2017-07-01 12:00:00</th>\n",
       "      <td>ETHUSD</td>\n",
       "      <td>263.12</td>\n",
       "      <td>824362.87</td>\n",
       "    </tr>\n",
       "    <tr>\n",
       "      <th>2017-07-01 13:00:00</th>\n",
       "      <td>ETHUSD</td>\n",
       "      <td>275.01</td>\n",
       "      <td>3010787.99</td>\n",
       "    </tr>\n",
       "    <tr>\n",
       "      <th>2017-07-01 14:00:00</th>\n",
       "      <td>ETHUSD</td>\n",
       "      <td>274.83</td>\n",
       "      <td>1702536.85</td>\n",
       "    </tr>\n",
       "    <tr>\n",
       "      <th>2017-07-01 15:00:00</th>\n",
       "      <td>ETHUSD</td>\n",
       "      <td>268.79</td>\n",
       "      <td>1500282.55</td>\n",
       "    </tr>\n",
       "    <tr>\n",
       "      <th>...</th>\n",
       "      <td>...</td>\n",
       "      <td>...</td>\n",
       "      <td>...</td>\n",
       "    </tr>\n",
       "    <tr>\n",
       "      <th>2020-03-13 16:00:00</th>\n",
       "      <td>ETHUSD</td>\n",
       "      <td>127.57</td>\n",
       "      <td>4461424.71</td>\n",
       "    </tr>\n",
       "    <tr>\n",
       "      <th>2020-03-13 17:00:00</th>\n",
       "      <td>ETHUSD</td>\n",
       "      <td>133.80</td>\n",
       "      <td>2753450.92</td>\n",
       "    </tr>\n",
       "    <tr>\n",
       "      <th>2020-03-13 18:00:00</th>\n",
       "      <td>ETHUSD</td>\n",
       "      <td>128.93</td>\n",
       "      <td>4898735.81</td>\n",
       "    </tr>\n",
       "    <tr>\n",
       "      <th>2020-03-13 19:00:00</th>\n",
       "      <td>ETHUSD</td>\n",
       "      <td>134.03</td>\n",
       "      <td>7579741.09</td>\n",
       "    </tr>\n",
       "    <tr>\n",
       "      <th>2020-03-13 20:00:00</th>\n",
       "      <td>ETHUSD</td>\n",
       "      <td>124.85</td>\n",
       "      <td>1940673.93</td>\n",
       "    </tr>\n",
       "  </tbody>\n",
       "</table>\n",
       "<p>23674 rows × 3 columns</p>\n",
       "</div>"
      ],
      "text/plain": [
       "                     symbol   close      volume\n",
       "date                                           \n",
       "2017-07-01 11:00:00  ETHUSD  257.13   679358.87\n",
       "2017-07-01 12:00:00  ETHUSD  263.12   824362.87\n",
       "2017-07-01 13:00:00  ETHUSD  275.01  3010787.99\n",
       "2017-07-01 14:00:00  ETHUSD  274.83  1702536.85\n",
       "2017-07-01 15:00:00  ETHUSD  268.79  1500282.55\n",
       "...                     ...     ...         ...\n",
       "2020-03-13 16:00:00  ETHUSD  127.57  4461424.71\n",
       "2020-03-13 17:00:00  ETHUSD  133.80  2753450.92\n",
       "2020-03-13 18:00:00  ETHUSD  128.93  4898735.81\n",
       "2020-03-13 19:00:00  ETHUSD  134.03  7579741.09\n",
       "2020-03-13 20:00:00  ETHUSD  124.85  1940673.93\n",
       "\n",
       "[23674 rows x 3 columns]"
      ]
     },
<<<<<<< HEAD
     "execution_count": 47,
=======
     "execution_count": 51,
>>>>>>> 373b953267b28adbd845fecc534482013c65f095
     "metadata": {},
     "output_type": "execute_result"
    }
   ],
   "source": [
    "df = df.drop(columns=['weekday_name', 'weekday_number'])\n",
    "df"
   ]
  },
  {
   "cell_type": "markdown",
   "id": "1bd65598-8c10-42cd-bbc6-d6f66bac6df9",
   "metadata": {
    "tags": []
   },
   "source": [
    "### How about changing the period of our data?\n",
    "\n",
    "#### Downsampling: Reducing Frequency"
   ]
  },
  {
   "cell_type": "code",
<<<<<<< HEAD
   "execution_count": 48,
=======
   "execution_count": 56,
>>>>>>> 373b953267b28adbd845fecc534482013c65f095
   "id": "46ad5423-d160-4f6f-a4de-f472e9f0aa35",
   "metadata": {},
   "outputs": [
    {
     "data": {
      "text/html": [
       "<div>\n",
       "<style scoped>\n",
       "    .dataframe tbody tr th:only-of-type {\n",
       "        vertical-align: middle;\n",
       "    }\n",
       "\n",
       "    .dataframe tbody tr th {\n",
       "        vertical-align: top;\n",
       "    }\n",
       "\n",
       "    .dataframe thead th {\n",
       "        text-align: right;\n",
       "    }\n",
       "</style>\n",
       "<table border=\"1\" class=\"dataframe\">\n",
       "  <thead>\n",
       "    <tr style=\"text-align: right;\">\n",
       "      <th></th>\n",
       "      <th>symbol</th>\n",
       "      <th>close</th>\n",
       "      <th>volume</th>\n",
       "    </tr>\n",
       "    <tr>\n",
       "      <th>date</th>\n",
       "      <th></th>\n",
       "      <th></th>\n",
       "      <th></th>\n",
       "    </tr>\n",
       "  </thead>\n",
       "  <tbody>\n",
       "    <tr>\n",
       "      <th>2017-07-31 11:00:00</th>\n",
       "      <td>ETHUSD</td>\n",
       "      <td>199.96</td>\n",
       "      <td>1058461.41</td>\n",
       "    </tr>\n",
       "    <tr>\n",
       "      <th>2017-08-31 11:00:00</th>\n",
       "      <td>ETHUSD</td>\n",
       "      <td>388.19</td>\n",
       "      <td>1189036.71</td>\n",
       "    </tr>\n",
       "    <tr>\n",
       "      <th>2017-09-30 11:00:00</th>\n",
       "      <td>ETHUSD</td>\n",
       "      <td>300.37</td>\n",
       "      <td>1002416.23</td>\n",
       "    </tr>\n",
       "    <tr>\n",
       "      <th>2017-10-31 11:00:00</th>\n",
       "      <td>ETHUSD</td>\n",
       "      <td>303.45</td>\n",
       "      <td>1014184.66</td>\n",
       "    </tr>\n",
       "    <tr>\n",
       "      <th>2017-11-30 11:00:00</th>\n",
       "      <td>ETHUSD</td>\n",
       "      <td>420.42</td>\n",
       "      <td>3367153.22</td>\n",
       "    </tr>\n",
       "  </tbody>\n",
       "</table>\n",
       "</div>"
      ],
      "text/plain": [
       "                     symbol   close      volume\n",
       "date                                           \n",
       "2017-07-31 11:00:00  ETHUSD  199.96  1058461.41\n",
       "2017-08-31 11:00:00  ETHUSD  388.19  1189036.71\n",
       "2017-09-30 11:00:00  ETHUSD  300.37  1002416.23\n",
       "2017-10-31 11:00:00  ETHUSD  303.45  1014184.66\n",
       "2017-11-30 11:00:00  ETHUSD  420.42  3367153.22"
      ]
     },
<<<<<<< HEAD
     "execution_count": 48,
=======
     "execution_count": 56,
>>>>>>> 373b953267b28adbd845fecc534482013c65f095
     "metadata": {},
     "output_type": "execute_result"
    }
   ],
   "source": [
    "by_month = df.asfreq('M')\n",
    "by_month.head()"
   ]
  },
  {
   "cell_type": "code",
<<<<<<< HEAD
   "execution_count": 49,
=======
   "execution_count": 57,
>>>>>>> 373b953267b28adbd845fecc534482013c65f095
   "id": "6bedf06c-443f-4090-95a8-5f8bfcd2c88c",
   "metadata": {},
   "outputs": [
    {
     "data": {
      "text/plain": [
       "<AxesSubplot:xlabel='date'>"
      ]
     },
<<<<<<< HEAD
     "execution_count": 49,
=======
     "execution_count": 57,
>>>>>>> 373b953267b28adbd845fecc534482013c65f095
     "metadata": {},
     "output_type": "execute_result"
    },
    {
     "data": {
      "image/png": "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\n",
      "text/plain": [
       "<Figure size 1152x648 with 1 Axes>"
      ]
     },
     "metadata": {
      "needs_background": "light"
     },
     "output_type": "display_data"
    }
   ],
   "source": [
    "by_month.close.plot()"
   ]
  },
  {
   "cell_type": "markdown",
   "id": "56a889a7-23ad-4fed-b4d6-975cb41c715f",
   "metadata": {},
   "source": [
    "##### What if I want the first day of the month?\n",
    "\n",
    "[Pandas asfreq Offset Aliases](https://pandas.pydata.org/pandas-docs/stable/user_guide/timeseries.html#offset-aliases)\n",
    "\n",
    "[Pandas asfreq Anchored Offsets](https://pandas.pydata.org/pandas-docs/stable/user_guide/timeseries.html#anchored-offsets)"
   ]
  },
  {
   "cell_type": "code",
<<<<<<< HEAD
   "execution_count": 50,
=======
   "execution_count": 58,
>>>>>>> 373b953267b28adbd845fecc534482013c65f095
   "id": "28b0ab37-21cb-4162-89be-403dfda9a6db",
   "metadata": {},
   "outputs": [
    {
     "data": {
      "text/html": [
       "<div>\n",
       "<style scoped>\n",
       "    .dataframe tbody tr th:only-of-type {\n",
       "        vertical-align: middle;\n",
       "    }\n",
       "\n",
       "    .dataframe tbody tr th {\n",
       "        vertical-align: top;\n",
       "    }\n",
       "\n",
       "    .dataframe thead th {\n",
       "        text-align: right;\n",
       "    }\n",
       "</style>\n",
       "<table border=\"1\" class=\"dataframe\">\n",
       "  <thead>\n",
       "    <tr style=\"text-align: right;\">\n",
       "      <th></th>\n",
       "      <th>symbol</th>\n",
       "      <th>close</th>\n",
       "      <th>volume</th>\n",
       "    </tr>\n",
       "    <tr>\n",
       "      <th>date</th>\n",
       "      <th></th>\n",
       "      <th></th>\n",
       "      <th></th>\n",
       "    </tr>\n",
       "  </thead>\n",
       "  <tbody>\n",
       "    <tr>\n",
       "      <th>2017-07-01 11:00:00</th>\n",
       "      <td>ETHUSD</td>\n",
       "      <td>257.13</td>\n",
       "      <td>679358.87</td>\n",
       "    </tr>\n",
       "    <tr>\n",
       "      <th>2017-08-01 11:00:00</th>\n",
       "      <td>ETHUSD</td>\n",
       "      <td>228.84</td>\n",
       "      <td>2302367.30</td>\n",
       "    </tr>\n",
       "    <tr>\n",
       "      <th>2017-09-01 11:00:00</th>\n",
       "      <td>ETHUSD</td>\n",
       "      <td>391.83</td>\n",
       "      <td>1649221.80</td>\n",
       "    </tr>\n",
       "    <tr>\n",
       "      <th>2017-10-01 11:00:00</th>\n",
       "      <td>ETHUSD</td>\n",
       "      <td>300.76</td>\n",
       "      <td>502473.87</td>\n",
       "    </tr>\n",
       "    <tr>\n",
       "      <th>2017-11-01 11:00:00</th>\n",
       "      <td>ETHUSD</td>\n",
       "      <td>289.15</td>\n",
       "      <td>1304555.01</td>\n",
       "    </tr>\n",
       "  </tbody>\n",
       "</table>\n",
       "</div>"
      ],
      "text/plain": [
       "                     symbol   close      volume\n",
       "date                                           \n",
       "2017-07-01 11:00:00  ETHUSD  257.13   679358.87\n",
       "2017-08-01 11:00:00  ETHUSD  228.84  2302367.30\n",
       "2017-09-01 11:00:00  ETHUSD  391.83  1649221.80\n",
       "2017-10-01 11:00:00  ETHUSD  300.76   502473.87\n",
       "2017-11-01 11:00:00  ETHUSD  289.15  1304555.01"
      ]
     },
<<<<<<< HEAD
     "execution_count": 50,
=======
     "execution_count": 58,
>>>>>>> 373b953267b28adbd845fecc534482013c65f095
     "metadata": {},
     "output_type": "execute_result"
    }
   ],
   "source": [
    "by_month_first_day = df.asfreq('MS')\n",
    "by_month_first_day.head()"
   ]
  },
  {
   "cell_type": "code",
<<<<<<< HEAD
   "execution_count": 51,
=======
   "execution_count": 59,
>>>>>>> 373b953267b28adbd845fecc534482013c65f095
   "id": "2309cc35-8689-47ca-8ca8-5d4cf5fd0511",
   "metadata": {},
   "outputs": [
    {
     "data": {
      "image/png": "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\n",
      "text/plain": [
       "<Figure size 1152x648 with 1 Axes>"
      ]
     },
     "metadata": {
      "needs_background": "light"
     },
     "output_type": "display_data"
    }
   ],
   "source": [
    "by_month.close.plot(label='Last Day of Month Frequency')\n",
    "by_month_first_day.close.plot(label='First Day of Month Frequency')\n",
    "plt.legend()\n",
    "plt.show()"
   ]
  },
  {
   "cell_type": "markdown",
   "id": "3b9c6837-fbe8-45e8-a040-4b633427035d",
   "metadata": {},
   "source": [
    "#### Upsampling: Increasing Frequency"
   ]
  },
  {
   "cell_type": "code",
<<<<<<< HEAD
   "execution_count": 52,
=======
   "execution_count": 60,
>>>>>>> 373b953267b28adbd845fecc534482013c65f095
   "id": "ddc1ef5e-f33d-4907-b209-f77e3fb51aab",
   "metadata": {},
   "outputs": [
    {
     "data": {
      "text/html": [
       "<div>\n",
       "<style scoped>\n",
       "    .dataframe tbody tr th:only-of-type {\n",
       "        vertical-align: middle;\n",
       "    }\n",
       "\n",
       "    .dataframe tbody tr th {\n",
       "        vertical-align: top;\n",
       "    }\n",
       "\n",
       "    .dataframe thead th {\n",
       "        text-align: right;\n",
       "    }\n",
       "</style>\n",
       "<table border=\"1\" class=\"dataframe\">\n",
       "  <thead>\n",
       "    <tr style=\"text-align: right;\">\n",
       "      <th></th>\n",
       "      <th>symbol</th>\n",
       "      <th>close</th>\n",
       "      <th>volume</th>\n",
       "    </tr>\n",
       "    <tr>\n",
       "      <th>date</th>\n",
       "      <th></th>\n",
       "      <th></th>\n",
       "      <th></th>\n",
       "    </tr>\n",
       "  </thead>\n",
       "  <tbody>\n",
       "    <tr>\n",
       "      <th>2017-07-01 11:00:00</th>\n",
       "      <td>ETHUSD</td>\n",
       "      <td>257.13</td>\n",
       "      <td>679358.87</td>\n",
       "    </tr>\n",
       "    <tr>\n",
       "      <th>2017-07-01 11:30:00</th>\n",
       "      <td>NaN</td>\n",
       "      <td>NaN</td>\n",
       "      <td>NaN</td>\n",
       "    </tr>\n",
       "    <tr>\n",
       "      <th>2017-07-01 12:00:00</th>\n",
       "      <td>ETHUSD</td>\n",
       "      <td>263.12</td>\n",
       "      <td>824362.87</td>\n",
       "    </tr>\n",
       "    <tr>\n",
       "      <th>2017-07-01 12:30:00</th>\n",
       "      <td>NaN</td>\n",
       "      <td>NaN</td>\n",
       "      <td>NaN</td>\n",
       "    </tr>\n",
       "    <tr>\n",
       "      <th>2017-07-01 13:00:00</th>\n",
       "      <td>ETHUSD</td>\n",
       "      <td>275.01</td>\n",
       "      <td>3010787.99</td>\n",
       "    </tr>\n",
       "    <tr>\n",
       "      <th>2017-07-01 13:30:00</th>\n",
       "      <td>NaN</td>\n",
       "      <td>NaN</td>\n",
       "      <td>NaN</td>\n",
       "    </tr>\n",
       "    <tr>\n",
       "      <th>2017-07-01 14:00:00</th>\n",
       "      <td>ETHUSD</td>\n",
       "      <td>274.83</td>\n",
       "      <td>1702536.85</td>\n",
       "    </tr>\n",
       "    <tr>\n",
       "      <th>2017-07-01 14:30:00</th>\n",
       "      <td>NaN</td>\n",
       "      <td>NaN</td>\n",
       "      <td>NaN</td>\n",
       "    </tr>\n",
       "    <tr>\n",
       "      <th>2017-07-01 15:00:00</th>\n",
       "      <td>ETHUSD</td>\n",
       "      <td>268.79</td>\n",
       "      <td>1500282.55</td>\n",
       "    </tr>\n",
       "    <tr>\n",
       "      <th>2017-07-01 15:30:00</th>\n",
       "      <td>NaN</td>\n",
       "      <td>NaN</td>\n",
       "      <td>NaN</td>\n",
       "    </tr>\n",
       "  </tbody>\n",
       "</table>\n",
       "</div>"
      ],
      "text/plain": [
       "                     symbol   close      volume\n",
       "date                                           \n",
       "2017-07-01 11:00:00  ETHUSD  257.13   679358.87\n",
       "2017-07-01 11:30:00     NaN     NaN         NaN\n",
       "2017-07-01 12:00:00  ETHUSD  263.12   824362.87\n",
       "2017-07-01 12:30:00     NaN     NaN         NaN\n",
       "2017-07-01 13:00:00  ETHUSD  275.01  3010787.99\n",
       "2017-07-01 13:30:00     NaN     NaN         NaN\n",
       "2017-07-01 14:00:00  ETHUSD  274.83  1702536.85\n",
       "2017-07-01 14:30:00     NaN     NaN         NaN\n",
       "2017-07-01 15:00:00  ETHUSD  268.79  1500282.55\n",
       "2017-07-01 15:30:00     NaN     NaN         NaN"
      ]
     },
<<<<<<< HEAD
     "execution_count": 52,
=======
     "execution_count": 60,
>>>>>>> 373b953267b28adbd845fecc534482013c65f095
     "metadata": {},
     "output_type": "execute_result"
    }
   ],
   "source": [
    "by_half_hour = df.asfreq('30T')\n",
    "by_half_hour.head(10)"
   ]
  },
  {
   "cell_type": "markdown",
   "id": "03ed746d-958f-402f-82e2-60074dcafa8a",
   "metadata": {},
   "source": [
    "#### As freq allows us to fill in the NaNs with two different methods"
   ]
  },
  {
   "cell_type": "code",
<<<<<<< HEAD
   "execution_count": 53,
=======
   "execution_count": 61,
>>>>>>> 373b953267b28adbd845fecc534482013c65f095
   "id": "16c860f9-23c1-4dc8-856c-b602d36be433",
   "metadata": {},
   "outputs": [
    {
     "data": {
      "text/html": [
       "<div>\n",
       "<style scoped>\n",
       "    .dataframe tbody tr th:only-of-type {\n",
       "        vertical-align: middle;\n",
       "    }\n",
       "\n",
       "    .dataframe tbody tr th {\n",
       "        vertical-align: top;\n",
       "    }\n",
       "\n",
       "    .dataframe thead th {\n",
       "        text-align: right;\n",
       "    }\n",
       "</style>\n",
       "<table border=\"1\" class=\"dataframe\">\n",
       "  <thead>\n",
       "    <tr style=\"text-align: right;\">\n",
       "      <th></th>\n",
       "      <th>symbol</th>\n",
       "      <th>close</th>\n",
       "      <th>volume</th>\n",
       "      <th>ffill</th>\n",
       "      <th>bfill</th>\n",
       "    </tr>\n",
       "    <tr>\n",
       "      <th>date</th>\n",
       "      <th></th>\n",
       "      <th></th>\n",
       "      <th></th>\n",
       "      <th></th>\n",
       "      <th></th>\n",
       "    </tr>\n",
       "  </thead>\n",
       "  <tbody>\n",
       "    <tr>\n",
       "      <th>2017-07-01 11:00:00</th>\n",
       "      <td>ETHUSD</td>\n",
       "      <td>257.13</td>\n",
       "      <td>679358.87</td>\n",
       "      <td>679358.87</td>\n",
       "      <td>679358.87</td>\n",
       "    </tr>\n",
       "    <tr>\n",
       "      <th>2017-07-01 11:30:00</th>\n",
       "      <td>NaN</td>\n",
       "      <td>NaN</td>\n",
       "      <td>NaN</td>\n",
       "      <td>679358.87</td>\n",
       "      <td>824362.87</td>\n",
       "    </tr>\n",
       "    <tr>\n",
       "      <th>2017-07-01 12:00:00</th>\n",
       "      <td>ETHUSD</td>\n",
       "      <td>263.12</td>\n",
       "      <td>824362.87</td>\n",
       "      <td>824362.87</td>\n",
       "      <td>824362.87</td>\n",
       "    </tr>\n",
       "    <tr>\n",
       "      <th>2017-07-01 12:30:00</th>\n",
       "      <td>NaN</td>\n",
       "      <td>NaN</td>\n",
       "      <td>NaN</td>\n",
       "      <td>824362.87</td>\n",
       "      <td>3010787.99</td>\n",
       "    </tr>\n",
       "    <tr>\n",
       "      <th>2017-07-01 13:00:00</th>\n",
       "      <td>ETHUSD</td>\n",
       "      <td>275.01</td>\n",
       "      <td>3010787.99</td>\n",
       "      <td>3010787.99</td>\n",
       "      <td>3010787.99</td>\n",
       "    </tr>\n",
       "  </tbody>\n",
       "</table>\n",
       "</div>"
      ],
      "text/plain": [
       "                     symbol   close      volume       ffill       bfill\n",
       "date                                                                   \n",
       "2017-07-01 11:00:00  ETHUSD  257.13   679358.87   679358.87   679358.87\n",
       "2017-07-01 11:30:00     NaN     NaN         NaN   679358.87   824362.87\n",
       "2017-07-01 12:00:00  ETHUSD  263.12   824362.87   824362.87   824362.87\n",
       "2017-07-01 12:30:00     NaN     NaN         NaN   824362.87  3010787.99\n",
       "2017-07-01 13:00:00  ETHUSD  275.01  3010787.99  3010787.99  3010787.99"
      ]
     },
<<<<<<< HEAD
     "execution_count": 53,
=======
     "execution_count": 61,
>>>>>>> 373b953267b28adbd845fecc534482013c65f095
     "metadata": {},
     "output_type": "execute_result"
    }
   ],
   "source": [
    "by_half_hour.assign(\n",
    "    ffill=lambda df: df.volume.ffill(),\n",
    "    bfill=lambda df: df.volume.bfill()\n",
    ").head()"
   ]
  },
  {
   "cell_type": "code",
<<<<<<< HEAD
   "execution_count": 54,
=======
   "execution_count": 62,
>>>>>>> 373b953267b28adbd845fecc534482013c65f095
   "id": "1153d493-1dad-49d7-9191-8c1f7cf0ba63",
   "metadata": {},
   "outputs": [
    {
     "data": {
      "text/html": [
       "<div>\n",
       "<style scoped>\n",
       "    .dataframe tbody tr th:only-of-type {\n",
       "        vertical-align: middle;\n",
       "    }\n",
       "\n",
       "    .dataframe tbody tr th {\n",
       "        vertical-align: top;\n",
       "    }\n",
       "\n",
       "    .dataframe thead th {\n",
       "        text-align: right;\n",
       "    }\n",
       "</style>\n",
       "<table border=\"1\" class=\"dataframe\">\n",
       "  <thead>\n",
       "    <tr style=\"text-align: right;\">\n",
       "      <th></th>\n",
       "      <th>symbol</th>\n",
       "      <th>close</th>\n",
       "      <th>volume</th>\n",
       "    </tr>\n",
       "    <tr>\n",
       "      <th>date</th>\n",
       "      <th></th>\n",
       "      <th></th>\n",
       "      <th></th>\n",
       "    </tr>\n",
       "  </thead>\n",
       "  <tbody>\n",
       "    <tr>\n",
       "      <th>2017-07-01 11:00:00</th>\n",
       "      <td>ETHUSD</td>\n",
       "      <td>257.13</td>\n",
       "      <td>679358.87</td>\n",
       "    </tr>\n",
       "    <tr>\n",
       "      <th>2017-07-01 11:30:00</th>\n",
       "      <td>ETHUSD</td>\n",
       "      <td>257.13</td>\n",
       "      <td>679358.87</td>\n",
       "    </tr>\n",
       "    <tr>\n",
       "      <th>2017-07-01 12:00:00</th>\n",
       "      <td>ETHUSD</td>\n",
       "      <td>263.12</td>\n",
       "      <td>824362.87</td>\n",
       "    </tr>\n",
       "    <tr>\n",
       "      <th>2017-07-01 12:30:00</th>\n",
       "      <td>ETHUSD</td>\n",
       "      <td>263.12</td>\n",
       "      <td>824362.87</td>\n",
       "    </tr>\n",
       "    <tr>\n",
       "      <th>2017-07-01 13:00:00</th>\n",
       "      <td>ETHUSD</td>\n",
       "      <td>275.01</td>\n",
       "      <td>3010787.99</td>\n",
       "    </tr>\n",
       "  </tbody>\n",
       "</table>\n",
       "</div>"
      ],
      "text/plain": [
       "                     symbol   close      volume\n",
       "date                                           \n",
       "2017-07-01 11:00:00  ETHUSD  257.13   679358.87\n",
       "2017-07-01 11:30:00  ETHUSD  257.13   679358.87\n",
       "2017-07-01 12:00:00  ETHUSD  263.12   824362.87\n",
       "2017-07-01 12:30:00  ETHUSD  263.12   824362.87\n",
       "2017-07-01 13:00:00  ETHUSD  275.01  3010787.99"
      ]
     },
<<<<<<< HEAD
     "execution_count": 54,
=======
     "execution_count": 62,
>>>>>>> 373b953267b28adbd845fecc534482013c65f095
     "metadata": {},
     "output_type": "execute_result"
    }
   ],
   "source": [
    "by_half_hour = df.asfreq('30T', method='ffill')\n",
    "by_half_hour.head()"
   ]
  },
  {
   "cell_type": "markdown",
   "id": "920e4029-5a14-4155-aa4f-d62d47ad0858",
   "metadata": {},
   "source": [
    "### What about Resampling (Aggregating over time)\n",
    "   \n",
    "    * This is similiar to groupby but for dates"
   ]
  },
  {
   "cell_type": "code",
<<<<<<< HEAD
   "execution_count": 55,
=======
   "execution_count": 63,
>>>>>>> 373b953267b28adbd845fecc534482013c65f095
   "id": "bcca4f64-208c-49a3-a06a-02ceb89b5229",
   "metadata": {},
   "outputs": [
    {
     "data": {
      "text/html": [
       "<div>\n",
       "<style scoped>\n",
       "    .dataframe tbody tr th:only-of-type {\n",
       "        vertical-align: middle;\n",
       "    }\n",
       "\n",
       "    .dataframe tbody tr th {\n",
       "        vertical-align: top;\n",
       "    }\n",
       "\n",
       "    .dataframe thead th {\n",
       "        text-align: right;\n",
       "    }\n",
       "</style>\n",
       "<table border=\"1\" class=\"dataframe\">\n",
       "  <thead>\n",
       "    <tr style=\"text-align: right;\">\n",
       "      <th></th>\n",
       "      <th>close</th>\n",
       "      <th>volume</th>\n",
       "    </tr>\n",
       "    <tr>\n",
       "      <th>date</th>\n",
       "      <th></th>\n",
       "      <th></th>\n",
       "    </tr>\n",
       "  </thead>\n",
       "  <tbody>\n",
       "    <tr>\n",
       "      <th>2017-07-01</th>\n",
       "      <td>265.284615</td>\n",
       "      <td>2.198771e+06</td>\n",
       "    </tr>\n",
       "    <tr>\n",
       "      <th>2017-07-02</th>\n",
       "      <td>269.782500</td>\n",
       "      <td>2.177595e+06</td>\n",
       "    </tr>\n",
       "    <tr>\n",
       "      <th>2017-07-03</th>\n",
       "      <td>278.882083</td>\n",
       "      <td>1.459015e+06</td>\n",
       "    </tr>\n",
       "    <tr>\n",
       "      <th>2017-07-04</th>\n",
       "      <td>276.743333</td>\n",
       "      <td>1.254579e+06</td>\n",
       "    </tr>\n",
       "    <tr>\n",
       "      <th>2017-07-05</th>\n",
       "      <td>265.025833</td>\n",
       "      <td>1.797923e+06</td>\n",
       "    </tr>\n",
       "    <tr>\n",
       "      <th>...</th>\n",
       "      <td>...</td>\n",
       "      <td>...</td>\n",
       "    </tr>\n",
       "    <tr>\n",
       "      <th>2020-03-09</th>\n",
       "      <td>200.818333</td>\n",
       "      <td>3.804752e+06</td>\n",
       "    </tr>\n",
       "    <tr>\n",
       "      <th>2020-03-10</th>\n",
       "      <td>201.577500</td>\n",
       "      <td>1.553063e+06</td>\n",
       "    </tr>\n",
       "    <tr>\n",
       "      <th>2020-03-11</th>\n",
       "      <td>195.910417</td>\n",
       "      <td>1.894868e+06</td>\n",
       "    </tr>\n",
       "    <tr>\n",
       "      <th>2020-03-12</th>\n",
       "      <td>152.763333</td>\n",
       "      <td>7.503069e+06</td>\n",
       "    </tr>\n",
       "    <tr>\n",
       "      <th>2020-03-13</th>\n",
       "      <td>124.060476</td>\n",
       "      <td>6.869609e+06</td>\n",
       "    </tr>\n",
       "  </tbody>\n",
       "</table>\n",
       "<p>987 rows × 2 columns</p>\n",
       "</div>"
      ],
      "text/plain": [
       "                 close        volume\n",
       "date                                \n",
       "2017-07-01  265.284615  2.198771e+06\n",
       "2017-07-02  269.782500  2.177595e+06\n",
       "2017-07-03  278.882083  1.459015e+06\n",
       "2017-07-04  276.743333  1.254579e+06\n",
       "2017-07-05  265.025833  1.797923e+06\n",
       "...                ...           ...\n",
       "2020-03-09  200.818333  3.804752e+06\n",
       "2020-03-10  201.577500  1.553063e+06\n",
       "2020-03-11  195.910417  1.894868e+06\n",
       "2020-03-12  152.763333  7.503069e+06\n",
       "2020-03-13  124.060476  6.869609e+06\n",
       "\n",
       "[987 rows x 2 columns]"
      ]
     },
<<<<<<< HEAD
     "execution_count": 55,
=======
     "execution_count": 63,
>>>>>>> 373b953267b28adbd845fecc534482013c65f095
     "metadata": {},
     "output_type": "execute_result"
    }
   ],
   "source": [
    "daily_df = df.resample('D').mean()\n",
    "daily_df"
   ]
  },
  {
   "cell_type": "code",
<<<<<<< HEAD
   "execution_count": 56,
=======
   "execution_count": 64,
>>>>>>> 373b953267b28adbd845fecc534482013c65f095
   "id": "5e894333-c907-4714-aba9-0aa854e0d76a",
   "metadata": {},
   "outputs": [
    {
     "data": {
      "image/png": "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\n",
      "text/plain": [
       "<Figure size 1152x648 with 1 Axes>"
      ]
     },
     "metadata": {
      "needs_background": "light"
     },
     "output_type": "display_data"
    }
   ],
   "source": [
    "daily_df.close.plot(label='Daily')\n",
    "df.resample('W').mean().close.plot(label='Weekly')\n",
    "df.resample('M').mean().close.plot(label='Monthly')\n",
    "df.resample('Y').mean().close.plot(label='Yearly')\n",
    "plt.legend()\n",
    "plt.show()"
   ]
  },
  {
   "cell_type": "markdown",
   "id": "afca605e-f037-4ae1-970a-d296e76fa487",
   "metadata": {},
   "source": [
    "### Rolling Average/Windows"
   ]
  },
  {
   "cell_type": "code",
<<<<<<< HEAD
   "execution_count": 57,
=======
   "execution_count": 65,
>>>>>>> 373b953267b28adbd845fecc534482013c65f095
   "id": "8cf862a2-8d61-44e9-9c51-9be74d172f06",
   "metadata": {},
   "outputs": [
    {
     "data": {
      "text/html": [
       "<div>\n",
       "<style scoped>\n",
       "    .dataframe tbody tr th:only-of-type {\n",
       "        vertical-align: middle;\n",
       "    }\n",
       "\n",
       "    .dataframe tbody tr th {\n",
       "        vertical-align: top;\n",
       "    }\n",
       "\n",
       "    .dataframe thead th {\n",
       "        text-align: right;\n",
       "    }\n",
       "</style>\n",
       "<table border=\"1\" class=\"dataframe\">\n",
       "  <thead>\n",
       "    <tr style=\"text-align: right;\">\n",
       "      <th></th>\n",
       "      <th>close</th>\n",
       "      <th>volume</th>\n",
       "    </tr>\n",
       "    <tr>\n",
       "      <th>date</th>\n",
       "      <th></th>\n",
       "      <th></th>\n",
       "    </tr>\n",
       "  </thead>\n",
       "  <tbody>\n",
       "    <tr>\n",
       "      <th>2017-07-01</th>\n",
       "      <td>NaN</td>\n",
       "      <td>NaN</td>\n",
       "    </tr>\n",
       "    <tr>\n",
       "      <th>2017-07-02</th>\n",
       "      <td>NaN</td>\n",
       "      <td>NaN</td>\n",
       "    </tr>\n",
       "    <tr>\n",
       "      <th>2017-07-03</th>\n",
       "      <td>NaN</td>\n",
       "      <td>NaN</td>\n",
       "    </tr>\n",
       "    <tr>\n",
       "      <th>2017-07-04</th>\n",
       "      <td>NaN</td>\n",
       "      <td>NaN</td>\n",
       "    </tr>\n",
       "    <tr>\n",
       "      <th>2017-07-05</th>\n",
       "      <td>271.143673</td>\n",
       "      <td>1.777577e+06</td>\n",
       "    </tr>\n",
       "    <tr>\n",
       "      <th>2017-07-06</th>\n",
       "      <td>271.382750</td>\n",
       "      <td>1.530363e+06</td>\n",
       "    </tr>\n",
       "    <tr>\n",
       "      <th>2017-07-07</th>\n",
       "      <td>268.214667</td>\n",
       "      <td>1.455141e+06</td>\n",
       "    </tr>\n",
       "    <tr>\n",
       "      <th>2017-07-08</th>\n",
       "      <td>260.747833</td>\n",
       "      <td>1.434597e+06</td>\n",
       "    </tr>\n",
       "    <tr>\n",
       "      <th>2017-07-09</th>\n",
       "      <td>254.361833</td>\n",
       "      <td>1.329570e+06</td>\n",
       "    </tr>\n",
       "    <tr>\n",
       "      <th>2017-07-10</th>\n",
       "      <td>246.440417</td>\n",
       "      <td>1.666613e+06</td>\n",
       "    </tr>\n",
       "  </tbody>\n",
       "</table>\n",
       "</div>"
      ],
      "text/plain": [
       "                 close        volume\n",
       "date                                \n",
       "2017-07-01         NaN           NaN\n",
       "2017-07-02         NaN           NaN\n",
       "2017-07-03         NaN           NaN\n",
       "2017-07-04         NaN           NaN\n",
       "2017-07-05  271.143673  1.777577e+06\n",
       "2017-07-06  271.382750  1.530363e+06\n",
       "2017-07-07  268.214667  1.455141e+06\n",
       "2017-07-08  260.747833  1.434597e+06\n",
       "2017-07-09  254.361833  1.329570e+06\n",
       "2017-07-10  246.440417  1.666613e+06"
      ]
     },
<<<<<<< HEAD
     "execution_count": 57,
=======
     "execution_count": 65,
>>>>>>> 373b953267b28adbd845fecc534482013c65f095
     "metadata": {},
     "output_type": "execute_result"
    }
   ],
   "source": [
    "daily_df.rolling(5).mean().head(10)"
   ]
  },
  {
   "cell_type": "code",
<<<<<<< HEAD
   "execution_count": 58,
=======
   "execution_count": 66,
>>>>>>> 373b953267b28adbd845fecc534482013c65f095
   "id": "5ce9e049-e43a-43fa-b2b5-a5b14d2c3f4a",
   "metadata": {},
   "outputs": [
    {
     "data": {
      "image/png": "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\n",
      "text/plain": [
       "<Figure size 1152x648 with 1 Axes>"
      ]
     },
     "metadata": {
      "needs_background": "light"
     },
     "output_type": "display_data"
    }
   ],
   "source": [
    "df.close.plot(label='Original Granularity')\n",
    "df.resample('W').mean().close.rolling(4).mean().plot(label='4 week average')\n",
    "df.resample('W').mean().close.rolling(12).mean().plot(label='12 week average')\n",
    "plt.legend()\n",
    "plt.show()"
   ]
  },
  {
   "cell_type": "markdown",
   "id": "fa747f5c-6812-4989-a0fc-b916b439e91d",
   "metadata": {},
   "source": [
    "### How about Lagging or Leading the data?\n",
    "\n",
    "* `.shift`: move the data backwards and forwards by a given amount\n",
    "* `.diff`: find the difference with the previous observation (or a specified further back observation)"
   ]
  },
  {
   "cell_type": "code",
<<<<<<< HEAD
   "execution_count": 59,
=======
   "execution_count": 67,
>>>>>>> 373b953267b28adbd845fecc534482013c65f095
   "id": "1da6242a-6fd1-4bbf-adcc-a23de23d6d17",
   "metadata": {},
   "outputs": [
    {
     "data": {
      "text/html": [
       "<div>\n",
       "<style scoped>\n",
       "    .dataframe tbody tr th:only-of-type {\n",
       "        vertical-align: middle;\n",
       "    }\n",
       "\n",
       "    .dataframe tbody tr th {\n",
       "        vertical-align: top;\n",
       "    }\n",
       "\n",
       "    .dataframe thead th {\n",
       "        text-align: right;\n",
       "    }\n",
       "</style>\n",
       "<table border=\"1\" class=\"dataframe\">\n",
       "  <thead>\n",
       "    <tr style=\"text-align: right;\">\n",
       "      <th></th>\n",
       "      <th>volume</th>\n",
       "      <th>close</th>\n",
       "    </tr>\n",
       "    <tr>\n",
       "      <th>date</th>\n",
       "      <th></th>\n",
       "      <th></th>\n",
       "    </tr>\n",
       "  </thead>\n",
       "  <tbody>\n",
       "    <tr>\n",
       "      <th>2017-07-01</th>\n",
       "      <td>2.198771e+06</td>\n",
       "      <td>265.284615</td>\n",
       "    </tr>\n",
       "    <tr>\n",
       "      <th>2017-07-02</th>\n",
       "      <td>2.177595e+06</td>\n",
       "      <td>269.782500</td>\n",
       "    </tr>\n",
       "    <tr>\n",
       "      <th>2017-07-03</th>\n",
       "      <td>1.459015e+06</td>\n",
       "      <td>278.882083</td>\n",
       "    </tr>\n",
       "    <tr>\n",
       "      <th>2017-07-04</th>\n",
       "      <td>1.254579e+06</td>\n",
       "      <td>276.743333</td>\n",
       "    </tr>\n",
       "    <tr>\n",
       "      <th>2017-07-05</th>\n",
       "      <td>1.797923e+06</td>\n",
       "      <td>265.025833</td>\n",
       "    </tr>\n",
       "    <tr>\n",
       "      <th>...</th>\n",
       "      <td>...</td>\n",
       "      <td>...</td>\n",
       "    </tr>\n",
       "    <tr>\n",
       "      <th>2020-03-09</th>\n",
       "      <td>3.804752e+06</td>\n",
       "      <td>200.818333</td>\n",
       "    </tr>\n",
       "    <tr>\n",
       "      <th>2020-03-10</th>\n",
       "      <td>1.553063e+06</td>\n",
       "      <td>201.577500</td>\n",
       "    </tr>\n",
       "    <tr>\n",
       "      <th>2020-03-11</th>\n",
       "      <td>1.894868e+06</td>\n",
       "      <td>195.910417</td>\n",
       "    </tr>\n",
       "    <tr>\n",
       "      <th>2020-03-12</th>\n",
       "      <td>7.503069e+06</td>\n",
       "      <td>152.763333</td>\n",
       "    </tr>\n",
       "    <tr>\n",
       "      <th>2020-03-13</th>\n",
       "      <td>6.869609e+06</td>\n",
       "      <td>124.060476</td>\n",
       "    </tr>\n",
       "  </tbody>\n",
       "</table>\n",
       "<p>987 rows × 2 columns</p>\n",
       "</div>"
      ],
      "text/plain": [
       "                  volume       close\n",
       "date                                \n",
       "2017-07-01  2.198771e+06  265.284615\n",
       "2017-07-02  2.177595e+06  269.782500\n",
       "2017-07-03  1.459015e+06  278.882083\n",
       "2017-07-04  1.254579e+06  276.743333\n",
       "2017-07-05  1.797923e+06  265.025833\n",
       "...                  ...         ...\n",
       "2020-03-09  3.804752e+06  200.818333\n",
       "2020-03-10  1.553063e+06  201.577500\n",
       "2020-03-11  1.894868e+06  195.910417\n",
       "2020-03-12  7.503069e+06  152.763333\n",
       "2020-03-13  6.869609e+06  124.060476\n",
       "\n",
       "[987 rows x 2 columns]"
      ]
     },
<<<<<<< HEAD
     "execution_count": 59,
=======
     "execution_count": 67,
>>>>>>> 373b953267b28adbd845fecc534482013c65f095
     "metadata": {},
     "output_type": "execute_result"
    }
   ],
   "source": [
    "daily_df = daily_df[['volume', 'close']]\n",
    "daily_df"
   ]
  },
  {
   "cell_type": "code",
<<<<<<< HEAD
   "execution_count": 60,
=======
   "execution_count": 68,
>>>>>>> 373b953267b28adbd845fecc534482013c65f095
   "id": "832829da-3801-41d8-a8fc-7469cdd136b1",
   "metadata": {},
   "outputs": [
    {
     "data": {
      "text/html": [
       "<div>\n",
       "<style scoped>\n",
       "    .dataframe tbody tr th:only-of-type {\n",
       "        vertical-align: middle;\n",
       "    }\n",
       "\n",
       "    .dataframe tbody tr th {\n",
       "        vertical-align: top;\n",
       "    }\n",
       "\n",
       "    .dataframe thead th {\n",
       "        text-align: right;\n",
       "    }\n",
       "</style>\n",
       "<table border=\"1\" class=\"dataframe\">\n",
       "  <thead>\n",
       "    <tr style=\"text-align: right;\">\n",
       "      <th></th>\n",
       "      <th>volume</th>\n",
       "      <th>close</th>\n",
       "      <th>shift_by_one</th>\n",
       "    </tr>\n",
       "    <tr>\n",
       "      <th>date</th>\n",
       "      <th></th>\n",
       "      <th></th>\n",
       "      <th></th>\n",
       "    </tr>\n",
       "  </thead>\n",
       "  <tbody>\n",
       "    <tr>\n",
       "      <th>2017-07-01</th>\n",
       "      <td>2.198771e+06</td>\n",
       "      <td>265.284615</td>\n",
       "      <td>NaN</td>\n",
       "    </tr>\n",
       "    <tr>\n",
       "      <th>2017-07-02</th>\n",
       "      <td>2.177595e+06</td>\n",
       "      <td>269.782500</td>\n",
       "      <td>265.284615</td>\n",
       "    </tr>\n",
       "    <tr>\n",
       "      <th>2017-07-03</th>\n",
       "      <td>1.459015e+06</td>\n",
       "      <td>278.882083</td>\n",
       "      <td>269.782500</td>\n",
       "    </tr>\n",
       "    <tr>\n",
       "      <th>2017-07-04</th>\n",
       "      <td>1.254579e+06</td>\n",
       "      <td>276.743333</td>\n",
       "      <td>278.882083</td>\n",
       "    </tr>\n",
       "    <tr>\n",
       "      <th>2017-07-05</th>\n",
       "      <td>1.797923e+06</td>\n",
       "      <td>265.025833</td>\n",
       "      <td>276.743333</td>\n",
       "    </tr>\n",
       "    <tr>\n",
       "      <th>...</th>\n",
       "      <td>...</td>\n",
       "      <td>...</td>\n",
       "      <td>...</td>\n",
       "    </tr>\n",
       "    <tr>\n",
       "      <th>2020-03-09</th>\n",
       "      <td>3.804752e+06</td>\n",
       "      <td>200.818333</td>\n",
       "      <td>222.555000</td>\n",
       "    </tr>\n",
       "    <tr>\n",
       "      <th>2020-03-10</th>\n",
       "      <td>1.553063e+06</td>\n",
       "      <td>201.577500</td>\n",
       "      <td>200.818333</td>\n",
       "    </tr>\n",
       "    <tr>\n",
       "      <th>2020-03-11</th>\n",
       "      <td>1.894868e+06</td>\n",
       "      <td>195.910417</td>\n",
       "      <td>201.577500</td>\n",
       "    </tr>\n",
       "    <tr>\n",
       "      <th>2020-03-12</th>\n",
       "      <td>7.503069e+06</td>\n",
       "      <td>152.763333</td>\n",
       "      <td>195.910417</td>\n",
       "    </tr>\n",
       "    <tr>\n",
       "      <th>2020-03-13</th>\n",
       "      <td>6.869609e+06</td>\n",
       "      <td>124.060476</td>\n",
       "      <td>152.763333</td>\n",
       "    </tr>\n",
       "  </tbody>\n",
       "</table>\n",
       "<p>987 rows × 3 columns</p>\n",
       "</div>"
      ],
      "text/plain": [
       "                  volume       close  shift_by_one\n",
       "date                                              \n",
       "2017-07-01  2.198771e+06  265.284615           NaN\n",
       "2017-07-02  2.177595e+06  269.782500    265.284615\n",
       "2017-07-03  1.459015e+06  278.882083    269.782500\n",
       "2017-07-04  1.254579e+06  276.743333    278.882083\n",
       "2017-07-05  1.797923e+06  265.025833    276.743333\n",
       "...                  ...         ...           ...\n",
       "2020-03-09  3.804752e+06  200.818333    222.555000\n",
       "2020-03-10  1.553063e+06  201.577500    200.818333\n",
       "2020-03-11  1.894868e+06  195.910417    201.577500\n",
       "2020-03-12  7.503069e+06  152.763333    195.910417\n",
       "2020-03-13  6.869609e+06  124.060476    152.763333\n",
       "\n",
       "[987 rows x 3 columns]"
      ]
     },
<<<<<<< HEAD
     "execution_count": 60,
=======
     "execution_count": 68,
>>>>>>> 373b953267b28adbd845fecc534482013c65f095
     "metadata": {},
     "output_type": "execute_result"
    }
   ],
   "source": [
    "daily_df['shift_by_one'] = daily_df.close.shift(1)\n",
    "daily_df"
   ]
  },
  {
   "cell_type": "code",
<<<<<<< HEAD
   "execution_count": 61,
=======
   "execution_count": 69,
>>>>>>> 373b953267b28adbd845fecc534482013c65f095
   "id": "98e1f3fd-86b2-4a97-8cf4-84ec6b536d87",
   "metadata": {},
   "outputs": [
    {
     "data": {
      "text/plain": [
       "date\n",
       "2017-07-01    269.782500\n",
       "2017-07-02    278.882083\n",
       "2017-07-03    276.743333\n",
       "2017-07-04    265.025833\n",
       "2017-07-05    266.480000\n",
       "                 ...    \n",
       "2020-03-09    201.577500\n",
       "2020-03-10    195.910417\n",
       "2020-03-11    152.763333\n",
       "2020-03-12    124.060476\n",
       "2020-03-13           NaN\n",
       "Freq: D, Name: close, Length: 987, dtype: float64"
      ]
     },
<<<<<<< HEAD
     "execution_count": 61,
=======
     "execution_count": 69,
>>>>>>> 373b953267b28adbd845fecc534482013c65f095
     "metadata": {},
     "output_type": "execute_result"
    }
   ],
   "source": [
    "daily_df.close.shift(-1)"
   ]
  },
  {
   "cell_type": "code",
<<<<<<< HEAD
   "execution_count": 62,
=======
   "execution_count": 71,
>>>>>>> 373b953267b28adbd845fecc534482013c65f095
   "id": "4aadd21a-1904-43b7-a5c4-fe33d95cd1e5",
   "metadata": {},
   "outputs": [
    {
     "data": {
      "text/html": [
       "<div>\n",
       "<style scoped>\n",
       "    .dataframe tbody tr th:only-of-type {\n",
       "        vertical-align: middle;\n",
       "    }\n",
       "\n",
       "    .dataframe tbody tr th {\n",
       "        vertical-align: top;\n",
       "    }\n",
       "\n",
       "    .dataframe thead th {\n",
       "        text-align: right;\n",
       "    }\n",
       "</style>\n",
       "<table border=\"1\" class=\"dataframe\">\n",
       "  <thead>\n",
       "    <tr style=\"text-align: right;\">\n",
       "      <th></th>\n",
       "      <th>volume</th>\n",
       "      <th>close</th>\n",
       "      <th>shift_by_one</th>\n",
       "      <th>diff(1)</th>\n",
       "      <th>other_diff</th>\n",
       "      <th>other_diff(subtraction)</th>\n",
       "    </tr>\n",
       "    <tr>\n",
       "      <th>date</th>\n",
       "      <th></th>\n",
       "      <th></th>\n",
       "      <th></th>\n",
       "      <th></th>\n",
       "      <th></th>\n",
       "      <th></th>\n",
       "    </tr>\n",
       "  </thead>\n",
       "  <tbody>\n",
       "    <tr>\n",
       "      <th>2017-07-01</th>\n",
       "      <td>2.198771e+06</td>\n",
       "      <td>265.284615</td>\n",
       "      <td>NaN</td>\n",
       "      <td>NaN</td>\n",
       "      <td>NaN</td>\n",
       "      <td>NaN</td>\n",
       "    </tr>\n",
       "    <tr>\n",
       "      <th>2017-07-02</th>\n",
       "      <td>2.177595e+06</td>\n",
       "      <td>269.782500</td>\n",
       "      <td>265.284615</td>\n",
       "      <td>4.497885</td>\n",
       "      <td>4.497885</td>\n",
       "      <td>4.497885</td>\n",
       "    </tr>\n",
       "    <tr>\n",
       "      <th>2017-07-03</th>\n",
       "      <td>1.459015e+06</td>\n",
       "      <td>278.882083</td>\n",
       "      <td>269.782500</td>\n",
       "      <td>9.099583</td>\n",
       "      <td>9.099583</td>\n",
       "      <td>9.099583</td>\n",
       "    </tr>\n",
       "    <tr>\n",
       "      <th>2017-07-04</th>\n",
       "      <td>1.254579e+06</td>\n",
       "      <td>276.743333</td>\n",
       "      <td>278.882083</td>\n",
       "      <td>-2.138750</td>\n",
       "      <td>-2.138750</td>\n",
       "      <td>-2.138750</td>\n",
       "    </tr>\n",
       "    <tr>\n",
       "      <th>2017-07-05</th>\n",
       "      <td>1.797923e+06</td>\n",
       "      <td>265.025833</td>\n",
       "      <td>276.743333</td>\n",
       "      <td>-11.717500</td>\n",
       "      <td>-11.717500</td>\n",
       "      <td>-11.717500</td>\n",
       "    </tr>\n",
       "    <tr>\n",
       "      <th>...</th>\n",
       "      <td>...</td>\n",
       "      <td>...</td>\n",
       "      <td>...</td>\n",
       "      <td>...</td>\n",
       "      <td>...</td>\n",
       "      <td>...</td>\n",
       "    </tr>\n",
       "    <tr>\n",
       "      <th>2020-03-09</th>\n",
       "      <td>3.804752e+06</td>\n",
       "      <td>200.818333</td>\n",
       "      <td>222.555000</td>\n",
       "      <td>-21.736667</td>\n",
       "      <td>-21.736667</td>\n",
       "      <td>-21.736667</td>\n",
       "    </tr>\n",
       "    <tr>\n",
       "      <th>2020-03-10</th>\n",
       "      <td>1.553063e+06</td>\n",
       "      <td>201.577500</td>\n",
       "      <td>200.818333</td>\n",
       "      <td>0.759167</td>\n",
       "      <td>0.759167</td>\n",
       "      <td>0.759167</td>\n",
       "    </tr>\n",
       "    <tr>\n",
       "      <th>2020-03-11</th>\n",
       "      <td>1.894868e+06</td>\n",
       "      <td>195.910417</td>\n",
       "      <td>201.577500</td>\n",
       "      <td>-5.667083</td>\n",
       "      <td>-5.667083</td>\n",
       "      <td>-5.667083</td>\n",
       "    </tr>\n",
       "    <tr>\n",
       "      <th>2020-03-12</th>\n",
       "      <td>7.503069e+06</td>\n",
       "      <td>152.763333</td>\n",
       "      <td>195.910417</td>\n",
       "      <td>-43.147083</td>\n",
       "      <td>-43.147083</td>\n",
       "      <td>-43.147083</td>\n",
       "    </tr>\n",
       "    <tr>\n",
       "      <th>2020-03-13</th>\n",
       "      <td>6.869609e+06</td>\n",
       "      <td>124.060476</td>\n",
       "      <td>152.763333</td>\n",
       "      <td>-28.702857</td>\n",
       "      <td>-28.702857</td>\n",
       "      <td>-28.702857</td>\n",
       "    </tr>\n",
       "  </tbody>\n",
       "</table>\n",
       "<p>987 rows × 6 columns</p>\n",
       "</div>"
      ],
      "text/plain": [
       "                  volume       close  shift_by_one    diff(1)  other_diff  \\\n",
       "date                                                                        \n",
       "2017-07-01  2.198771e+06  265.284615           NaN        NaN         NaN   \n",
       "2017-07-02  2.177595e+06  269.782500    265.284615   4.497885    4.497885   \n",
       "2017-07-03  1.459015e+06  278.882083    269.782500   9.099583    9.099583   \n",
       "2017-07-04  1.254579e+06  276.743333    278.882083  -2.138750   -2.138750   \n",
       "2017-07-05  1.797923e+06  265.025833    276.743333 -11.717500  -11.717500   \n",
       "...                  ...         ...           ...        ...         ...   \n",
       "2020-03-09  3.804752e+06  200.818333    222.555000 -21.736667  -21.736667   \n",
       "2020-03-10  1.553063e+06  201.577500    200.818333   0.759167    0.759167   \n",
       "2020-03-11  1.894868e+06  195.910417    201.577500  -5.667083   -5.667083   \n",
       "2020-03-12  7.503069e+06  152.763333    195.910417 -43.147083  -43.147083   \n",
       "2020-03-13  6.869609e+06  124.060476    152.763333 -28.702857  -28.702857   \n",
       "\n",
       "            other_diff(subtraction)  \n",
       "date                                 \n",
       "2017-07-01                      NaN  \n",
       "2017-07-02                 4.497885  \n",
       "2017-07-03                 9.099583  \n",
       "2017-07-04                -2.138750  \n",
       "2017-07-05               -11.717500  \n",
       "...                             ...  \n",
       "2020-03-09               -21.736667  \n",
       "2020-03-10                 0.759167  \n",
       "2020-03-11                -5.667083  \n",
       "2020-03-12               -43.147083  \n",
       "2020-03-13               -28.702857  \n",
       "\n",
       "[987 rows x 6 columns]"
      ]
     },
<<<<<<< HEAD
     "execution_count": 62,
=======
     "execution_count": 71,
>>>>>>> 373b953267b28adbd845fecc534482013c65f095
     "metadata": {},
     "output_type": "execute_result"
    }
   ],
   "source": [
    "daily_df['diff(1)'] = daily_df.close.diff(1)\n",
    "daily_df['other_diff(subtraction)'] = daily_df.close - daily_df['shift_by_one']\n",
    "daily_df"
   ]
  },
  {
   "cell_type": "code",
   "execution_count": 73,
   "id": "c57461a0",
   "metadata": {},
   "outputs": [],
   "source": [
    "daily_df.drop(columns='other_diff(subtraction)', inplace=True)"
   ]
  },
  {
   "cell_type": "markdown",
   "id": "2033e0ca-0219-46bc-9ae3-cdd7f189abc0",
   "metadata": {},
   "source": [
    "### Let's use shift to answer a question: What is the yearly rate of return or return on investment (ROI)?\n",
    "\n",
    "### Incoming math warning!\n",
    "\n",
    "![Math gif](https://media4.giphy.com/media/DHqth0hVQoIzS/giphy.gif?cid=ecf05e47ciwxjpj7j3mkqv6dxplynda0k44lru3atznbajs1&rid=giphy.gif&ct=g)\n",
    "\n",
    "#### How do we calculate ROI?\n",
    "\n",
    "`yearly_rate_return` = (`where_we_are_today` - `where_we_were_a_year_ago`  ) / `where_we_were_a_year_ago`"
   ]
  },
  {
   "cell_type": "markdown",
   "id": "b18bc0d2-dc64-49f4-ac8b-20694d05628d",
   "metadata": {},
   "source": [
    "#### Simpler Example\n",
    "\n",
    "If I buy a rubber ducky for 200 dollars and sell it for 100 dollars after one year, what is my ROI?"
   ]
  },
  {
   "cell_type": "code",
<<<<<<< HEAD
   "execution_count": 63,
=======
   "execution_count": 74,
>>>>>>> 373b953267b28adbd845fecc534482013c65f095
   "id": "98442c34-dbf8-4e9f-a254-f6b33ba9c281",
   "metadata": {},
   "outputs": [
    {
     "data": {
      "text/plain": [
       "-50.0"
      ]
     },
<<<<<<< HEAD
     "execution_count": 63,
=======
     "execution_count": 74,
>>>>>>> 373b953267b28adbd845fecc534482013c65f095
     "metadata": {},
     "output_type": "execute_result"
    }
   ],
   "source": [
    "where_we_were_a_year_ago = 200\n",
    "where_we_are_today = 100\n",
    "((where_we_are_today - where_we_were_a_year_ago) / where_we_were_a_year_ago) * 100"
   ]
  },
  {
   "cell_type": "markdown",
   "id": "500ada09-dbc9-49fb-af20-bd2af4f9bc34",
   "metadata": {},
   "source": [
    "#### Let's apply the same process to our data"
   ]
  },
  {
   "cell_type": "code",
<<<<<<< HEAD
   "execution_count": 64,
=======
   "execution_count": 75,
>>>>>>> 373b953267b28adbd845fecc534482013c65f095
   "id": "b187b94b",
   "metadata": {},
   "outputs": [
    {
     "data": {
      "text/plain": [
       "date\n",
       "2017-07-01           NaN\n",
       "2017-07-02           NaN\n",
       "2017-07-03           NaN\n",
       "2017-07-04           NaN\n",
       "2017-07-05           NaN\n",
       "                 ...    \n",
       "2020-03-09    134.920000\n",
       "2020-03-10    132.684167\n",
       "2020-03-11    131.779167\n",
       "2020-03-12    131.479583\n",
       "2020-03-13    131.275417\n",
       "Freq: D, Name: close, Length: 987, dtype: float64"
      ]
     },
<<<<<<< HEAD
     "execution_count": 64,
=======
     "execution_count": 75,
>>>>>>> 373b953267b28adbd845fecc534482013c65f095
     "metadata": {},
     "output_type": "execute_result"
    }
   ],
   "source": [
    "where_we_were_a_year_ago = daily_df.close.shift(365)\n",
    "where_we_were_a_year_ago"
   ]
  },
  {
   "cell_type": "code",
<<<<<<< HEAD
   "execution_count": 65,
=======
   "execution_count": 76,
>>>>>>> 373b953267b28adbd845fecc534482013c65f095
   "id": "fd38e817",
   "metadata": {},
   "outputs": [
    {
     "data": {
      "text/html": [
       "<div>\n",
       "<style scoped>\n",
       "    .dataframe tbody tr th:only-of-type {\n",
       "        vertical-align: middle;\n",
       "    }\n",
       "\n",
       "    .dataframe tbody tr th {\n",
       "        vertical-align: top;\n",
       "    }\n",
       "\n",
       "    .dataframe thead th {\n",
       "        text-align: right;\n",
       "    }\n",
       "</style>\n",
       "<table border=\"1\" class=\"dataframe\">\n",
       "  <thead>\n",
       "    <tr style=\"text-align: right;\">\n",
       "      <th></th>\n",
       "      <th>volume</th>\n",
       "      <th>close</th>\n",
       "      <th>shift_by_one</th>\n",
       "      <th>diff(1)</th>\n",
       "      <th>other_diff</th>\n",
       "      <th>a_year_ago</th>\n",
       "    </tr>\n",
       "    <tr>\n",
       "      <th>date</th>\n",
       "      <th></th>\n",
       "      <th></th>\n",
       "      <th></th>\n",
       "      <th></th>\n",
       "      <th></th>\n",
       "      <th></th>\n",
       "    </tr>\n",
       "  </thead>\n",
       "  <tbody>\n",
       "    <tr>\n",
       "      <th>2017-07-01</th>\n",
       "      <td>2.198771e+06</td>\n",
       "      <td>265.284615</td>\n",
       "      <td>NaN</td>\n",
       "      <td>NaN</td>\n",
       "      <td>NaN</td>\n",
       "      <td>NaN</td>\n",
       "    </tr>\n",
       "    <tr>\n",
       "      <th>2017-07-02</th>\n",
       "      <td>2.177595e+06</td>\n",
       "      <td>269.782500</td>\n",
       "      <td>265.284615</td>\n",
       "      <td>4.497885</td>\n",
       "      <td>4.497885</td>\n",
       "      <td>NaN</td>\n",
       "    </tr>\n",
       "    <tr>\n",
       "      <th>2017-07-03</th>\n",
       "      <td>1.459015e+06</td>\n",
       "      <td>278.882083</td>\n",
       "      <td>269.782500</td>\n",
       "      <td>9.099583</td>\n",
       "      <td>9.099583</td>\n",
       "      <td>NaN</td>\n",
       "    </tr>\n",
       "    <tr>\n",
       "      <th>2017-07-04</th>\n",
       "      <td>1.254579e+06</td>\n",
       "      <td>276.743333</td>\n",
       "      <td>278.882083</td>\n",
       "      <td>-2.138750</td>\n",
       "      <td>-2.138750</td>\n",
       "      <td>NaN</td>\n",
       "    </tr>\n",
       "    <tr>\n",
       "      <th>2017-07-05</th>\n",
       "      <td>1.797923e+06</td>\n",
       "      <td>265.025833</td>\n",
       "      <td>276.743333</td>\n",
       "      <td>-11.717500</td>\n",
       "      <td>-11.717500</td>\n",
       "      <td>NaN</td>\n",
       "    </tr>\n",
       "    <tr>\n",
       "      <th>...</th>\n",
       "      <td>...</td>\n",
       "      <td>...</td>\n",
       "      <td>...</td>\n",
       "      <td>...</td>\n",
       "      <td>...</td>\n",
       "      <td>...</td>\n",
       "    </tr>\n",
       "    <tr>\n",
       "      <th>2020-03-09</th>\n",
       "      <td>3.804752e+06</td>\n",
       "      <td>200.818333</td>\n",
       "      <td>222.555000</td>\n",
       "      <td>-21.736667</td>\n",
       "      <td>-21.736667</td>\n",
       "      <td>134.920000</td>\n",
       "    </tr>\n",
       "    <tr>\n",
       "      <th>2020-03-10</th>\n",
       "      <td>1.553063e+06</td>\n",
       "      <td>201.577500</td>\n",
       "      <td>200.818333</td>\n",
       "      <td>0.759167</td>\n",
       "      <td>0.759167</td>\n",
       "      <td>132.684167</td>\n",
       "    </tr>\n",
       "    <tr>\n",
       "      <th>2020-03-11</th>\n",
       "      <td>1.894868e+06</td>\n",
       "      <td>195.910417</td>\n",
       "      <td>201.577500</td>\n",
       "      <td>-5.667083</td>\n",
       "      <td>-5.667083</td>\n",
       "      <td>131.779167</td>\n",
       "    </tr>\n",
       "    <tr>\n",
       "      <th>2020-03-12</th>\n",
       "      <td>7.503069e+06</td>\n",
       "      <td>152.763333</td>\n",
       "      <td>195.910417</td>\n",
       "      <td>-43.147083</td>\n",
       "      <td>-43.147083</td>\n",
       "      <td>131.479583</td>\n",
       "    </tr>\n",
       "    <tr>\n",
       "      <th>2020-03-13</th>\n",
       "      <td>6.869609e+06</td>\n",
       "      <td>124.060476</td>\n",
       "      <td>152.763333</td>\n",
       "      <td>-28.702857</td>\n",
       "      <td>-28.702857</td>\n",
       "      <td>131.275417</td>\n",
       "    </tr>\n",
       "  </tbody>\n",
       "</table>\n",
       "<p>987 rows × 6 columns</p>\n",
       "</div>"
      ],
      "text/plain": [
       "                  volume       close  shift_by_one    diff(1)  other_diff  \\\n",
       "date                                                                        \n",
       "2017-07-01  2.198771e+06  265.284615           NaN        NaN         NaN   \n",
       "2017-07-02  2.177595e+06  269.782500    265.284615   4.497885    4.497885   \n",
       "2017-07-03  1.459015e+06  278.882083    269.782500   9.099583    9.099583   \n",
       "2017-07-04  1.254579e+06  276.743333    278.882083  -2.138750   -2.138750   \n",
       "2017-07-05  1.797923e+06  265.025833    276.743333 -11.717500  -11.717500   \n",
       "...                  ...         ...           ...        ...         ...   \n",
       "2020-03-09  3.804752e+06  200.818333    222.555000 -21.736667  -21.736667   \n",
       "2020-03-10  1.553063e+06  201.577500    200.818333   0.759167    0.759167   \n",
       "2020-03-11  1.894868e+06  195.910417    201.577500  -5.667083   -5.667083   \n",
       "2020-03-12  7.503069e+06  152.763333    195.910417 -43.147083  -43.147083   \n",
       "2020-03-13  6.869609e+06  124.060476    152.763333 -28.702857  -28.702857   \n",
       "\n",
       "            a_year_ago  \n",
       "date                    \n",
       "2017-07-01         NaN  \n",
       "2017-07-02         NaN  \n",
       "2017-07-03         NaN  \n",
       "2017-07-04         NaN  \n",
       "2017-07-05         NaN  \n",
       "...                ...  \n",
       "2020-03-09  134.920000  \n",
       "2020-03-10  132.684167  \n",
       "2020-03-11  131.779167  \n",
       "2020-03-12  131.479583  \n",
       "2020-03-13  131.275417  \n",
       "\n",
       "[987 rows x 6 columns]"
      ]
     },
<<<<<<< HEAD
     "execution_count": 65,
=======
     "execution_count": 76,
>>>>>>> 373b953267b28adbd845fecc534482013c65f095
     "metadata": {},
     "output_type": "execute_result"
    }
   ],
   "source": [
    "daily_df['a_year_ago'] = where_we_were_a_year_ago\n",
    "daily_df"
   ]
  },
  {
   "cell_type": "code",
<<<<<<< HEAD
   "execution_count": 66,
=======
   "execution_count": 77,
>>>>>>> 373b953267b28adbd845fecc534482013c65f095
   "id": "bbeb903d",
   "metadata": {},
   "outputs": [
    {
     "data": {
      "text/plain": [
       "volume          244101.443333\n",
       "close              131.275417\n",
       "shift_by_one       131.479583\n",
       "diff(1)             -0.204167\n",
       "other_diff          -0.204167\n",
       "a_year_ago         658.033333\n",
       "Name: 2019-03-14 00:00:00, dtype: float64"
      ]
     },
<<<<<<< HEAD
     "execution_count": 66,
=======
     "execution_count": 77,
>>>>>>> 373b953267b28adbd845fecc534482013c65f095
     "metadata": {},
     "output_type": "execute_result"
    }
   ],
   "source": [
    "daily_df.loc['2019-03-14']"
   ]
  },
  {
   "cell_type": "code",
<<<<<<< HEAD
   "execution_count": 67,
=======
   "execution_count": 78,
>>>>>>> 373b953267b28adbd845fecc534482013c65f095
   "id": "63331abd-821d-41f2-9a44-f1ae79cb06b4",
   "metadata": {},
   "outputs": [
    {
     "data": {
      "text/plain": [
       "date\n",
       "2017-07-01          NaN\n",
       "2017-07-02          NaN\n",
       "2017-07-03          NaN\n",
       "2017-07-04          NaN\n",
       "2017-07-05          NaN\n",
       "                ...    \n",
       "2020-03-09    48.842524\n",
       "2020-03-10    51.922799\n",
       "2020-03-11    48.665697\n",
       "2020-03-12    16.187875\n",
       "2020-03-13    -5.496033\n",
       "Freq: D, Name: close, Length: 987, dtype: float64"
      ]
     },
<<<<<<< HEAD
     "execution_count": 67,
=======
     "execution_count": 78,
>>>>>>> 373b953267b28adbd845fecc534482013c65f095
     "metadata": {},
     "output_type": "execute_result"
    }
   ],
   "source": [
    "where_we_were_a_year_ago = daily_df.close.shift(365)\n",
    "where_we_are_today = daily_df.close\n",
    "\n",
    "roi_series = ((where_we_are_today - where_we_were_a_year_ago) / where_we_were_a_year_ago) * 100\n",
    "roi_series"
   ]
  },
  {
   "cell_type": "code",
<<<<<<< HEAD
   "execution_count": 68,
   "id": "39b736db",
=======
   "execution_count": 79,
   "id": "a2e506de",
>>>>>>> 373b953267b28adbd845fecc534482013c65f095
   "metadata": {},
   "outputs": [
    {
     "data": {
      "text/plain": [
       "date\n",
       "2017-07-01           NaN\n",
       "2017-07-02           NaN\n",
       "2017-07-03           NaN\n",
       "2017-07-04           NaN\n",
       "2017-07-05           NaN\n",
       "                 ...    \n",
       "2020-03-09    134.920000\n",
       "2020-03-10    132.684167\n",
       "2020-03-11    131.779167\n",
       "2020-03-12    131.479583\n",
       "2020-03-13    131.275417\n",
       "Freq: D, Name: close, Length: 987, dtype: float64"
      ]
     },
<<<<<<< HEAD
     "execution_count": 68,
=======
     "execution_count": 79,
>>>>>>> 373b953267b28adbd845fecc534482013c65f095
     "metadata": {},
     "output_type": "execute_result"
    }
   ],
   "source": [
    "where_we_were_a_year_ago"
   ]
  },
  {
   "cell_type": "code",
<<<<<<< HEAD
   "execution_count": 69,
   "id": "95d2185e",
=======
   "execution_count": 80,
   "id": "ca8ad268",
>>>>>>> 373b953267b28adbd845fecc534482013c65f095
   "metadata": {},
   "outputs": [
    {
     "data": {
      "text/plain": [
       "date\n",
       "2017-07-01    265.284615\n",
       "2017-07-02    269.782500\n",
       "2017-07-03    278.882083\n",
       "2017-07-04    276.743333\n",
       "2017-07-05    265.025833\n",
       "                 ...    \n",
       "2020-03-09    200.818333\n",
       "2020-03-10    201.577500\n",
       "2020-03-11    195.910417\n",
       "2020-03-12    152.763333\n",
       "2020-03-13    124.060476\n",
       "Freq: D, Name: close, Length: 987, dtype: float64"
      ]
     },
<<<<<<< HEAD
     "execution_count": 69,
=======
     "execution_count": 80,
>>>>>>> 373b953267b28adbd845fecc534482013c65f095
     "metadata": {},
     "output_type": "execute_result"
    }
   ],
   "source": [
    "daily_df.close"
   ]
  },
  {
   "cell_type": "markdown",
   "id": "2bbfc4da-a6e8-43c9-abd0-80a132be3940",
   "metadata": {},
   "source": [
    "#### And now let's graph it out"
   ]
  },
  {
   "cell_type": "code",
<<<<<<< HEAD
   "execution_count": 70,
=======
   "execution_count": 81,
>>>>>>> 373b953267b28adbd845fecc534482013c65f095
   "id": "4340fed7-09a1-47b0-b4b3-bd021a70ec60",
   "metadata": {},
   "outputs": [
    {
     "data": {
      "image/png": "iVBORw0KGgoAAAANSUhEUgAABCUAAAFVCAYAAADYElX0AAAAOXRFWHRTb2Z0d2FyZQBNYXRwbG90bGliIHZlcnNpb24zLjUuMSwgaHR0cHM6Ly9tYXRwbG90bGliLm9yZy/YYfK9AAAACXBIWXMAAAsTAAALEwEAmpwYAADTkUlEQVR4nOzdd5xcZfX48c+Z2d43yaYnpJEEEnqoSm8CIgoidmND/IINRRDhZ0CQomJDRCygqDRFFKSG3ntPg/SezZZsLzNzfn88987Ozs7szu7ObD3v12teu3vbPNvu3Dn3POeIqmKMMcYYY4wxxhgz0AKDPQBjjDHGGGOMMcaMThaUMMYYY4wxxhhjzKCwoIQxxhhjjDHGGGMGhQUljDHGGGOMMcYYMygsKGGMMcYYY4wxxphBYUEJY4wxxhhjjDHGDIpRGZQQkQIR+bWIbBCRsIisG+wxjQYislhEVESOGuyxGDOQROQo729/8WCPxYxuIjLD+1tcMthjMcaMfMPt9U9E9hWRR0Wkxs6VxgycER2UiDkRfi9u1YXAN4A7gMXAt5Ps/w1v/4uTrB8jIltFZK2IFKdx6N2K+b5iHy0iskZEbhaRPQZqLJkkIktE5KO92H5Ggp9L/GOqiNySwnb+Y4l37CdEpKGHsaqILEphnJNE5EoReVBEKr39bunF9/lPL5j2wSTrP+it/2eqxxxIIhIUkS3e933JYI+nO97/98Yk61Z638OXE6z7lLfuuwMwxsUi8u1e7rNORN5Jw3MXe+e/rSIyJsk2P/R+Fuf19/nSJck5tEFEXhOR74hIVjf7HiEid3l/w20iskNE7k92roo534zr5piLE4wn2eOJ/v8EBoaIHCwifxWR90SkSURWe+e+gsEemzGme92cJ18VkW+JSHCwx5hu3rn/X8DuwKXA54C7u9m+p3P3+95263pxjj/K20dF5L5unrvb61JjhpukF14j3PHA26p6QQ/bXQ98FPiRiNynqm/Frf8tMAE4RlXr0z/MHt0G3O99ng/sDXwFOENE9lLV9YMwpnT6EfAX4J5e7vcI8Nck66qB3wNL45bfCqwAroxbHv87T4d5wMXARuBl4KRe7v914HDgFhHZR1Ub/RXexf7NwE7gnPQMN+1OAiYBq4EvisiVqqqDPKZkngA+KSJzVPV9f6GITATmAiHgaOBPcfsd5X18fADGuBiYAfxyAJ6rE1WtF5EvAo8BNwCfjF0vIguB/+et/+1Ajy8F/jlUgInA54HrgD2As+M3FpErcf+763G/87Xefp8G/i0itwJfVNVwL8fxFO7iN9YPgfkJlm/v5bEH0x3ANuCPQA3wYdzPbzfgs4M4LmNM6mLPk5Nxrzm/BBaQ4DyZwFO4a9T2zAwvrWZ5j++q6vW92O/XuOu5eP57g28DRTHL98CdC/9N16DH8l48rzEjxmgNSkwENvS0kaqqd8H9NvBXETlQVdsBROR03AX4L1X1iUwOthuvqerfYheIyHvAr4DTgV8MyqgG36r4n0uc571HlPdmYnsP+6XLq8B4Va307p5W9mZnb7+v4V7MrgXOjVl9DTAH+Jiq7kzXgHsiItlAUFVbUtj8y8Aa4HzgP7g38APx5r0vHsf9nx8FvB+z/Gjv463ACQn2OwqoBd7I2MiGCFV9QkR+DXxLRP6lqndB9I7TX4AW3Bv1AQs8iUg+0K6qoR427XQOFZEbcMHJr4jID1W1Mmbdl3EXkUuB01S1KWbdtbggxeeBdbhATMpUdQ3ufyL2e/gKMH+AzkmZ8hlVfdb/QkT+ALwAnCUiX0nxfGGMGVzx58nf4d44f0VELlXVhIFSESlW1XpVjeBeB4aDid7H6l7u97SqJs1OVdV7Yr/2siEuBt4a5ud4Y9JmRE/fiOenWQEzgSNjUqWWJNtHVTcA3wH2wbvQ9N5I/g5YiTup+FMHbhWR7SLS6qWp/iQ+TdVP5U0yvl6l8SexxfvYFnfsLBG5UESWiZvqUSUi/xaRveK2Szr3L9nYReQMEXnTO+4GEfmRiByX7DhAQES+5/2MWkVklYh8IeZ4M2Ke5wuxaW29/FkMSd6LdK8CEQmOcQ/uDfHXReQ4iL7InQv81X8BFJHdvb/LreJSzdeJyE9FpDD2eCIyX0RuEJF3RaReXKr1qyLy1fjnlo6pKgtE5DoR2YS74Dikp3GLyHjgFNyb1fuBHbggRbLtvy5umkSL93dyniSpTZLq/2Av+cGSo+OWH4V783onMEVEdo8ZxyRcFsVT3sVY/Pf0Re/n3Coi60Xk+wm2OUFE7hA3JatZRGpF5GEROTJuu3XAkcBukiD9sze83+ddIrLZG9s2EXlcRE5JYfcf4M6HN4jIBG/ZD4H9gW9751FE5Cvipkg0i8gu73vqNA1Juql5EPO3NyNmmT89okJE/iwi24FGYGpvfwZe1tELuDuCs2OeIwe4AmgAPh0bkPD2CwFfwwW7vyciFb197lSJyN7eubvK+79YJiLflwSp1OKmcj3r/by3i8j1dL5b528XEDfN5inv997mnct/JyJjY7ab4K1LeBHtnUMiIrIbQGxAwvtagSbctUdu/34SxpjBoKp1uBs7gssq8KcnPCEi+4nIQyKyCy/TVJJcV4rzVRF5Udy0kAYReVtELo/bLldELvZeN1u818N7RWS/VMecyvWBuKlxT3pf3hzzejqj1z8kY0yvjbZMCT9F9he49HY/Vb/bFH1V/bOIfAy4SET+C1wAjAVOVdVm7wLsJaAUF6xYhXvT8gPgAyJybAp37PqiQDrmKecDC3Hf007cnLhYfwc+gZva8DtcNPhc4HkROVxVX+/LAETkLFxq32rgMlw6+xeAU7vZ7SfeeH8PtOKmI9wiIu97F7GVuN/TrcDTwE29HFaeJJ6/HVLV2l4eq5MkxwUYjDnS38S9Wf6ziBwK/BnY7C1HRA7Apc3X4n7Wm3HBtW/i/i6P9DN/cH+vRwD34VLSC4EzgZtEZJyqXpXg+f8ONAM/BxTYmsKYv4A779yqqiER+TtwjoiUququ2A1F5ELgauA1XPCvAPe/1yWgk6n/QVV9T1zQ5ai4VUfhAhbP4v7mjwLei1kHibM/zsFN+foT7vfyWeAaEdmkqv+I2W4xMAY3DWkTMAU3NetRETlaVZ/2tvs2cBUwDhc89fUq/dN74/mY9+WNuOkJ44BFwMHA/7rb3zsPfgH38/i9F1D4IXCfqt7sPcc1wPdxv6eLgWJc6u/jInKaqt6f8OCpewQ3VeDHuL/fvs619YMRsXfKPoA7Z/49WUBRVVu8N+sXAyfjAm9pJa5mzZO4NOjf4r7fU3EZUvsAn4nZ9mBcVke9t74Wl/WTaGpbDu5/61+47KVG4EBcwPCDInKAqrap6nbvNfAMETkv9nwqInnAp4ClyaYOisincf8ft8b/vxtjhgcREVxGJrjrTd903OvIXbhzSZcAaJxbceesF3HXrrW4KWsfp+MmYDbwIHCYt/31uNf5rwLPisgRqvpKD+NN9frgStxr2MW4607/dTaVm0jFSa4Pm2On2PZBdjfXndn9OK4xQ4+qjtgH7qSjwPfilq8DnujlsSbiTr6V3jGviFn3d2/ZyXH7/NRb/uWYZbfg3TBK8BwK3NKL7yvR411cym/s9sd76+4AJGb53rg3VE8nOPbiBM/baey4N5ebcXOcy2OWF+FSkTsdB/dGS4HXgZyY5VNwwYnb+vLziNl+Rjc/FwXe6WZf7e5vAldboLtj+49Fvfy7Gtfb7zNu/xO8/f2/yxNi1r2Ju5tfHLfPxxL8bgoTHDvgfd+7gOyY5Uv8nxeQ1cvxLov9OXt/gwp8PW67MbiAx1tAXtz/4S5vn6P68j/Yh5/xrd4x5npfT/K+/qT39YvAP2K2/723ft8E/1dbgLKY5QXe7+75uOdM9PuYgDsH3Z/gb3NdL7+ndbH/D8BHvPF9oq8/J+84V8b8Pe4EJnrL5wER4Bk6/+9Pxl2IrsNN/4GO/+MlCY7v/+3NiFl2i7fsb70Yp//7+H+4/8EKYC/cG30FXorb/hve8vN7OO4Z3nY/SzC+cb38WT5B3GsFHUGwvWOWCS5jR4FjY5Y/h8uYmxuzLAd3cd7p5+sdIz/BGL4c/3dBxznn/+K2/Ux3f0O4gGQYF6zr8lz2sIc9htYjyXlyb+AP3vLnY7Zd5y37SjfHWRyz7BPesluBQNz2gZjPv+Ntd2LcNiW4zLQnUvg+enON3mWsPRx7Md1fE17fw892STfHTuWas2Gw/07sYY90PUbV9I3+UNVtuAvTccA7uKwARCSAu6B/Xbve6bsKdyH+sQwN6yZcwOF43N2yC73x3e+nz3r85+9UUFBd4c77cHfC+pJufADuTcUtqloTc9wG3N3WZG5Q1baY7TfjIte7J9+lV/5Dx88l9vGVfh63Jclxj8e9sA44VX0Y93cwDrjJ+xpx03L2Bv4B5IrIOP+Be2PYSEwtBO1cLDPPu3M+BngY9+I/P8HT/1J7kX0gIofhijtF7yB7f4NvAF+K2/x4IA/4ncbMO/f+D/8ed9xM/w8+7n08Ku7jU97HJ+mcSXEU7i57ogysmzXm7rK6aQAvEPe3H/f7KPJ+H2FcAOTgXn8HPfPvWp8kIiX9OM5luPPjOOAb3u8L4DTcG99r4/73t+DetO8GpJyKm8TP+rDPZbgAyg7c7+v/cEXHPhK3nf8z6enuvr++tA9j6Za4qU+HAf/VmKLL3jn9J96XH4vZ9lDgP6q6KmbbNhLUGlKn2ds3KCJl3rnCz56J/Zt7BJdNFT/t6stAFQkKE4vI4bhMridwbwyaU/uujTFDQOx58k3c6/V/cYXgY1XjCm2nws/q+p7GTXOM+/qzuJsrr8Zdx+TgzkUfFFdDKKEBvEa/nMTXhr/p53FfTHLc48lMIXZjBs1om77RX35xxFe1I+29ApcZ8G78xqpaLSJb8ebcZcB7qhrbReI+EXkS9ybnGjoq4c/EnXgTpXS/g3vDMJNeFlz09gE3lzxeomW+NQmWVeHemKTDprifS7qEkx1XkrTnHCDP49LgY4t3+m1hL/Meifhz/xGRItxd6E8A0xJsW55g2aoEy7rzZVza+esiMidm+UPAhSKyd8ybrd78bWX6f9APShyNCwAdhfvf8+u3PAlcICLzgDpcPYl74i+0PMn+9sfGLhCR2bisgxOBsrjtlTRT1SdF5K+4uz6fEZGXcan/d6jqsl4cp01EXsVNJYv9e/R/n11+R7hzELjfUbdpuD3o7d8juN/nXbg02L1wgd2pdC3KVud97CnYkGrwoi+6+xkuw53j/b9z/+OKJNt2ISKfAL6LCw7FpwVH//9VVUXkj8CVIrKvqr4hIrNw/xe/ig06xfgiLvPqCxaQMGbY8c+TiruhsUpVExWCXK2pdx7aHdiqSYpkxtgDN923u+vTcbhuZokM1DX62xm67tzZzXVnTaLlxgxXFpToP+nl9gnfUIirVN9vqvqiV2DomNjD9+YQ3ayLH2Nvv3dfshetvh7PdOX/LH+Om4+ZSOwL2j9w7fpuwmUAVOPSxE/GpU8myqpqSrAs8WBc0OMTuDc7ryfZ7Eu4GgnQu7+FjP7dqOpaEVlP50yJJ2M2eQb3hvAoOt68Pk5iPV6weT+rp3B1EX6J6/5T7z3HD+j8v502qvoFEfkp7nf+Qdwb1B+KyLe1d63REsnUOahjp7jikymKDew+ICLP4H6fN9K5vakfONm/h+P569/uw1h60pf/iUQ/yy7HEddN6g7c1I5v4S7wW4Ag7vwR////Z1yw88u4DMIvecf9Y5LxVACo6qZefA/GmKEh/gZYMr05BwupBdgFdz49v5ttugtY2HWlMcOEBSX6bwfuDcOC+BUiUo6bf/5GzOJqb92YuEhzOrMpsuhc2Xw17o7rHnRN99rT+7g2dny41P148WP095mXYNtEy8zA8YsuJs3u8IlIGS4gcauqnhO37rg0jecTuLsVF8eMLdY3gc+KyPe9O62xf1uPxW0b/7fV2//BvngcWCwiR+MyIX7sr1DVXSLyBi6TYlfM9n11LG5a1JfUKxLpE5ErEmyftswJVX0H9wb8Wu/v4kXgahH5bezUrz5Y7X1cEPO5zz8H+VkkvTkHpZWqPieuPfDnReTXqvqct+o5XO2c07zCr13a7XqFHj+LezP/QAaG5/98uvyd46ZXBWK28X/GeyTYNtGyz+HGfbR2bnWaaNoWqrpNRO7FZdVchKsX8aKqJsriAFcoNWHxS2PMqLQSdz6d0EO2xHu4oOZjSbIPezIQ1wfGmDSwmhL95J0k7wX2E5EPxa2+CPcz/nfMMj/FOP7N3nfTMR4ROR53h/XVmMX3eB9/4FVN9rddiJtr94x2VJRfi7tD3ml8Xj2A+JaPr+A6Liz2Tu7+tkW4LgP91UDiNyamZ6/j3lye46VWdyKuRaz/s/Xv3kvcNpPofx0O35dxbzZ/qqr/jH/gulGMxU0lAjdXtBXX8jQvZkwTiekwAH36H+wLP8iwxPv4ZNz6J3GtOY/CFXh8h75L9vs4gcT1JBqA8tj/7d4SkTHe3Nsor/bFWlwxzrxE+/XCf3HBkwu8aur+807Cpfavx8ugUdV6XFeJY+LOV7PoOoc5E36M+x1E29Kpaiuu2FsR8Lf4Oczi2nHegJuC9lNV3ZHuQXnHfA441Tt3+88tuAwa8P7OvW1fwF30z43ZNofOXVp8YdzvJxCzrQCXdDOkP+CmddyIm/KSLEsCXPvf/mbbGGNGDr821LXxrz1xr2V/xRW4TpgpIR0tqBMaoOsDY0waWKZEelyMKzpzj4jcALyPa694Fi4NO7Y13G24omQ3eXehqoCTcHPiemt/Efms93kuLhL8Vdy8/ejFpKo+IiJ34tKRy0XkPjpagrbgtZD0tm0QkVuAr4jIbbjCZLvj3ji8hWs7528bEpHv4V5cXhKRP+ECGou972sm/buL+wJwnLjWkBvcU+rtKew3N+bnEm9pTPG9QSMi/u/HbyW6d8yyp1T1qQS7pcyb9/05XJbBWyLyZ9ycygJcK6/TcW9kblHVehF5GJep0Ay8jHtz9TXcm9KxiZ4jVd7f+WHecyUrjPlf3N/tl4G7VLVKRC7D/a88K67VYgGudsYqXKvK2L+t3vwPIiIKrFfVGSl+G35Q4ghgrarGz199EvdmbyLwr35mFTyDe1P+c3H90TcB++LuZr+Nq30Q6wVcpsv1IvIc7g3mY718Y/x54Dsi8m/cz64dF2Q5Ebizv3UAVHWlNzXk+8BTInIHHS1Bi4DPxM1Fvh64Ajel4h5c5sg5uGDPgf0ZSwpjfV9EbsdlARyuXvtVVb3Jq/XxfWCZV4NjHe53/inc7+VvJK/hkg7fwv2tPS0ifkvQD+N+T/9Q1Udjtj0fd/5+1tu2FvcakOh1/5+4ziGPed9XNi4A1F2r44dwwaTP4uaZd3du/ivu78lSqY0xqOpd3uvA54HdxbUarsFlIp6Iq0sE8Cvca/tPReQY3DVNHa796LF4GV49PF2vrg/66PDYGyhx/t7PawJjRgcdAi1AMvUgjS1Bvf1mkKR9I+4N+K24VLE2XBrtT4CCBNsejGvt1oK7q3oTrphdwmN3833FPsLec98NHJhgnyxcEbfluDvQ1bgMir0SbFuEuwtWhZsj+Azem0riWtR5238CF7BoxQUPfkRH28nYVnKLiWvlGLPuCeLaGuKCIQ/jXoA00XMn+f109zguyb7a3d+EN76krZfoaFWYUkvQHsa4pJd/l/7PdXGCdbvh7mSu8/4uq3BZNFcB02K2G4e707nF+7t8Gxfg6vI7I0Fbxh7G57fdOrWH7R7y/o5jx3UuLgjRikvjPI+O9owH9eV/EPdmWIFne/lzft/b7+YE68bgaj4ocF43/7OJfke3xP9t4zqnPIi7SKv3/v4OT7JtIS7TZDsdd7y7/I/F7bOOzi1B98VdmL2Pe4NZh6uy/l0gt5c/p1uS/X14f1Ove39jdbiMmMMTbJcFXIvLxGoBXsN1GOryt5foZ5LCGP3fx/eSrN/D+1k+nmTff3lja8PNZ34A+FgPP49+twT1lu+DO3dXe/8Xy3GBkmCCbY/AZVe0eP8Xv8Vd7Hc5z3i/m2Xetltxr0tj6OZ1CbjUW/+nvnwv9rCHPYbuo6fzZNy260hyDUWS1z9clsK53vm9Cfda9xbwo7jtsnA3z172Xp8acdcDfyemDXoP40v1+iDhWLs57mJ6vu7s0jo95nmWdHNsBe7rZv0TWEtQe4ygh6ha8M6kn4h8F9ei71BVfWGwx2NGDhH5DS44MVlVt/Zh/4/g2sYeq6rx9SqMMSkSke/jOj0dpqrP97S9McYYY0wiVlPC9IuI5HjzqWOXFeGi31W4CLgxvZYoFdKrQfB53F3+XgckPCfi7j5YQMKYPvI6Rn0N1wpv0AISIjJHRH4vIm+KSFhEnuhh+1+KiIrIzxKs21NEHhWRJhHZIiKXJ3h9ExG5WEQ2ikiziDwlIvum97syxhhjRherKWH6axZu3vftuPoDk3CV2GcCX9fEPeuNScVRXh2Cu3F1FWbgUsyLcAWq+kRVz03L6IwZhURkJnAorijtLFw9jcG0ANfG9gUgp7sNRWRPXPvSugTryoGluCkspwGzcS2VA3Qu+HkRbtrKBcAKXO2OpSKyUIdAvSJjjDFmOLKghOmvStzF4GeA8bhCl28DF6nqnYM5MDPsvY9rbfhVXLHNFlzHl6s0tZ7pxpj0OxK4GVcP6XJNrfhwJt2rqv8BEJF/0n3R6F/jCud9LsG6c4B84HRVrQMeEZESYImIXKuqdV721kW4c9D13nM+j5tPfx7ddysxxhhjTBJWU8IYY4wxw54flFDVoxKs+zguIDEX14non6r6vZj1TwFbVPWTMcum4zqMfERV7/Wq/z8K7KGqK2K2+zOwj6oekJnvzBhjjBnZLFMiRePGjdMZM2YM9jCMMcaYQfHqq6/uVNWKwR5Hb4lIPm4qxkWq2iiSsDPpfFy7wShV3SAiTd66e72PYVzl/1jLce0Fe2TXEsYYY0azZNcSFpRI0YwZM3jllVcGexjGGGPMoBCR9YM9hj76Aa7N6d+62aYcqE2wvMZb52/ToKrhBNsUiEhOojpKInI2cDbA9OnT7VrCGGPMqJXsWsK6bxhjjDFmRPIKc34P+Lb2PF810XqJW55sm2TrUNWbVHWRqi6qqBh2iSbGGGNMxllQwhhjjDEj1dXAA8AKESkTkTLctU+u97UfUKgByhLsX0pHBkUNUBzfJtTbr0lV29M7dGOMMWZ0sKCEMcYYY0aqecDpuICC/5iG65ZRA0zxtluBqxkRJSLTgEJvnb9NEJgT9xzzY7YxxhhjTC9ZUMIYY4wxI9VXgKPjHtuBO73PK73tHgBOFJHimH3PApqBJ72vnwPqgDP9DUSkADjV298YY4wxfTDkgxIicqaI/FdENotIg4i8KiKfittGRORiEdkoIs0i8pSI7JvgWHuKyKMi0iQiW0Tk8gRpmMYYY4wZBkSkQEQ+7rX8nAJU+F+LSIGqvqKqT8Q+gBZgo/d1q3eoG4FW4G4ROc4rTrkEuE5V6wBUtQU3HeRiETlXRI4F7sJdS/1mIL9vY4wxZiQZDt03zgfWAt8BdgInA/8QkXGq6l8EXARcClyAS6E8H1gqIgtVdRuAiJQDS4FlwGnAbFyLsABwycB9O8YYY4xJk/G4wEAs/+uZwLpUDqKqNV6Q4Xpc+89a4Be4wESsq3HXDT8AxgKvAMer6vbeD90YY4wxMDyCEqeq6s6Yrx8Tkcm4wMNvRCQPF5S4SlWvBxCR53EXIufREXA4B8gHTvfuejwiIiXAEhG51r8TYowxxpjhQVXX0dH9ItV9ZiRZvgw4pod9FbjSexhjjDEmDYb89I24gITvddzdEYDDgBLc/FB/n0bcnY6TYvY5CXgoLvhwOy5QcWQ6x2yMMcYYY4wxxpieDfmgRBKH4aZhgKt6HQbei9tmOZ0raXepjq2qG4CmuO36pTUUprqxLV2HM8YYY4wxKWhpD1PV0NrzhsYYY4aUYReU8OZ8ngb81ltUDjSoajhu0xqgQERyYrarTXDIGm9douc6W0ReEZFXKisrE23SxVf/+ir7//iRlLY1xhhjjDHpcek973DAFUuprLfAhDHGDCfDKighIjOAfwD/UdVbYlZpos0TrEu2XaLlqOpNqrpIVRdVVFSkNManVlX6+6a0vTHGGGOM6b+3N+8C4LEVVnfUGGOGk2ETlBCRMbg+4BuAz8asqgGKE7T2LAOaVLU9ZruyBIcuJXEGRb+0hiLpPqQxxhhjjEli5rhCADbVNA/ySIwxxvTGsAhKiEgBcB+QA5ziFbL0rQCCwJy43eJrSKwgrnaEiEwDCuO2S4vG1lC6D2mMMcYYY5Lwk1QtKGGMMcPLkA9KiEgWruf47sBJqrojbpPngDrgzJh9CoBTcZkVvgeAE0WkOGbZWUAz8GS6xhvwJo00tcWXuDDGGGOMMZkSirgs1U01TYM8EmOMMb2RNdgDSMENwMnAt4AxInJIzLrXVbVFRK4GLhWRGlzWw/m4gMtvYra9EfgmcLeIXAPMApYA18W1Ce2X3Kwgze1hGtssU8IYY4wxZiA0t4WjU2cbWu3GkDHGDCfDIShxgvfxVwnWzQTWAVfjghA/AMYCrwDHq2q00pGq1nidO64H7sXVkfgFLjCRNrnZAReUsBdEY4wxxpgBscf/ezD6eSRixcaNMWY4GfJBCVWdkcI2ClzpPbrbbhlwTHpGllhulpsR02SZEsYYY4wxGReOC0L40ziMMcYMD0O+psRwk5vlmoBYpoQxxhhjTOa1xXU8s0QJY4wZXiwokWY5lilhjDHGGDNgWto73wiyTAljjBleLCiRZv70jUbrvmGMMcYYk3Gt8ZkSFpMwxphhxYISaRatKdFqmRLGGGOMMZnWGrJMCWOMGc4sKJFm2UHLlDDGGGOMGSjxmRLxhS+NMcYMbRaUSLOIuhdCy5QwxhhjjMm81nYLShhjzHBmQYk0C3kvhE3tlilhjDHGGJNpLV2mb1hQwhhjhhMLSqSZH523TAljjDHGmMyLz5SIWFDCGGOGFQtKpFko7AUlrKaEMcYYY0zGdS10aUEJY4wZTiwokWZ+pkRb2Co/G2OMMcZkWpeWoGpBCWOMGU4sKJFmfhuqdgtKGGOMMcZknGVKGGPM8GZBiTSLZkqELChhjDHGGJNpLTE1JYIBQdXqShhjzHBiQYk0C1lQwhhjjDFmwLTGdDzLy3KXtmGbwmGMMcOGBSXSzM+UiJ/faIwxxpj0EpE5IvJ7EXlTRMIi8kTc+kki8lNvfYOIbBSRv4jI5ATH2lNEHhWRJhHZIiKXi0gwbhsRkYu94zSLyFMism9mv0vTk9hrrrxs9ysLW6aEMcYMGxaUSLOQFbo0xhhjBsoC4GRglfeIdwDwMeA24FTgAuBg4DkRKfI3EpFyYCmgwGnA5cB3gcvijncRcClwjXe8BmCpiExM37dkeis2KDGuKBewoIQxxgwnWYM9gJHGakoYY4wxA+ZeVf0PgIj8ExgXt/4ZYL6qhvwFIvIasBI4A/iLt/gcIB84XVXrgEdEpARYIiLXqmqdiOThghJXqer13rGeB9YB5wGXZOh7ND2ILXQ5d2IxK7fX2/QNY4wZRlLKlBCRz4vI2CTrxojI59M7rOEr5GVIWFDCGGOMySxV7fbFVlVrYwMS3rJVQBMwPmbxScBDXkDCdzsuUHGk9/VhQAlwZ8yxGoF7vf3NIIktdDl3vEuACYctKGGMMcNFqtM3bgZmJ1k301tv6Ji+YS1BjTHGmKFHRPYGCoBlMYvnAytit1PVDbjgxfyYbcLAe3GHXB6zjRkEfqbEhR+aT1lBNmCFLo0xZjhJNSgh3awbC9R1s35Use4bxhhjzNAkIgHgV7jAwsMxq8qB2gS71Hjr/G0aVDWcYJsCEclJ8pxni8grIvJKZWVlf4ZvkmhtjzC5NI+vHzWbQMBdslpNCWOMGT6S1pQQkdNwxZ58l4pI/KtpHnA48HIGxjYsha3QpTHGGDNUXQUcChypqu1x6xK9i5W45cm2SbYOVb0JuAlg0aJF9k45A1pDEXK9rhtZFpQwxphhp7tCl+OBvWK+ng3EV5duw91puCLN4xqWVDX6ItgeViIRjUbsjTHGGDN4ROT/cN03PqWqL8atrgHKEuxWSkcGRQ1QLCLBuGyJMqApQZDDDJDWUJjcLJf8GxALShhjzHCTNCihqn8A/gAgIo8DX1fVFcm2Nx0vgPnZQZrbw7SFI+QFgj3sZYwxxphMEpEzgN8A31fVOxJssoK4uhAiMg0opKPWxAogCMzBde/wdalHYQZWS3skGpTIClpQwhhjhpuUakqo6tEWkOiZX08iP8cFImwKhzHGGDO4ROQo4O/A9ar6sySbPQCcKCLFMcvOApqBJ72vn8PV0Doz5tgFwKne/maQuEwJd+3lZ0qELChhjDHDRnfTNzoRkcnAh4GpuFoSsVRVL0znwIaj2EwJgHYrdmmMMcZkjBcUONn7cgpQIiIf976+H9gNuAeXyXCHiBwSs3ulqq72Pr8R+CZwt4hcA8wClgDX+W1CVbVFRK7G1diq8Y55Pu4Gz28y8x2aVLSGIhTlukvarIC73xax7hvGGDNspBSUEJGPAbfh0hZ34GpJxFJg1Acl/Kh8gWVKGGOMMQNhPHBX3DL/65nAwbi6EPsAz8Zt9xdgMYCq1ojIscD1wL24OhK/wAUmYl2NC0L8ANd97BXgeFXd3u/vxPRZa3uEsYXu2ivo5QCHwp2DEm9tquWK+5Zz0+cPoKwgYaMUY4wxgyTVTImf4ApaLlbV6gyOZ1gLxwclLFPCGGOMyRhVXUf3bctv8R6pHGsZcEwP2yhwpfcwQ0RrKExutotGBJNkSnz8xudpC0VYua2eg2eNHfAxGmOMSS6lmhLANODXgxWQEJE5IvJ7EXlTRMIi8kSCbdaJiMY9tiXYbk8ReVREmkRki4hcLiJpqUYZirggRL4FJYwxxhhjBkRsoctopkRcTYl2L3u1oTU0oGMzxhjTs1QzJZ4D5gFLMziW7izAzRl9Aegu5+4fdJ7X2WmaiYiU476HZcBpuDanP8cFZy7p7yA7MiXcj7XVghLGGGOMMRnVGopEC136mRLhSOdrsNysAC3tEeparHOrMcYMNakGJc4H/i4iDcAjdPTsjlLVpjSOK969qvofABH5JzAuyXZbVfWFbo5zDpAPnO4VrnpEREqAJSJyrV/Mqq/8+YvWfcMYY4wxZmC0hsLk+dM3xG8J2nmbvOygC0o0W6aEMcYMNalO33gL2Au4GdgI1Cd4ZIyqpuvd/UnAQ3HBh9txgYoj+3vwUFz3DZu+YYwxxhiTWZ0zJfyWoF0zJQDqLVPCGGOGnFQzJb6E67Ax1H1JRL6J6yv+CPBdVV0fs34+8FjsDqq6QUSavHX39ufJ/VRBv9Blu2VKGGOMMcZkjKrSFoqtKeGCEnExCfwSE3UtlilhjDFDTUpBCVW9JcPjSIf/4GpObAL2AH4EPC0ie6nqLm+bchJMPQFqvHWdiMjZwNkA06dP73EAobiaEpYpYYwxxhiTOX79ro7uG4kzJfxrsrpmy5QwxpihJtXpG0C0c8XnRORiEZnoLZsjIsWZGV7qVPVbqnqbqj6tqjcBJwKTgS/Gb5pgd0m0XFVvUtVFqrqooqKixzH4NSV6agkaCke44r5lbNvV0uMxjTHGGGNMYq3tXlDCm76R5QUlGlpDPPv+zuh20aCETd8wxpghJ6WghIgUicidwDvAH4Ef497wA/wEl5UwpKjqO8BKYP+YxTVAWYLNS0mcQdErHd03ui90+dzqKv74zFr+33/e6e9TGmOMMcaMWq2hMEBHoUsvKHHRv97mM398kY3Vrg67f01mhS6NMWboSTVT4jrgMOBYoBiXWeC7H/hQmseVTrEZECtwtSOiRGQaUOit65dooUsvKJGsJWij9cg2xhhjjOm36PSNuEKXDd61Vm1TO6FwJHrjyApdGmPM0JNqUOJ04EJVfRwIx61bD+yW1lGlgYgsBOYBr8YsfgA4MW66yVm4wphP9vc54zMlkgUl/BdKP3hhjDHGGGN6z8+UiC906WsLhztlrlqhS2OMGXpS7b6RD1QlWVdM10BFWolIAXCy9+UUoEREPu59fT9wNPBZ4D5gCy4b4hJgA3BLzKFuBL4J3C0i1wCzgCXAdXFtQvskFO2+0X2hy6rGNqCjdagxxhhjjOm9lmhNicRBicbWcKfrMSt0aYwxQ0+qQYmXgc8DDyZY93HgubSNKLHxwF1xy/yvZwIbvW1+iasZUYUb68WxwQZVrRGRY4Hrce0/a4Ff4AIT/eZnShR6QQk/eh+vsr610/bGGGOMMab3OmpKeNM3pHNQor4lFM1cLc3Ppq6lHVVF4rYzxhgzeFINSlwCLBWRpbhggAIni8h3cEGJIzI0PgBUdR2d61gkcmyKx1oGHNPfMSXiV4Auysvq9HW8HV5QosFqSxhjjDHG9FlrD5kS9S3t0UyJcUU5rK5sp6U9YlNojTFmCEmppoSqPoN705+LyzIQ4DLc9IfjVPXljI1wGGlqd9H6otwscrICSWtKVNa7VqAWlDDGGGOM6btoocvszoUufbGZEpNK8wF4ctWOARyhMcaYnqRa6BJVfVZVDwdKgKlAsap+QFWfzdjohpkmL8hQkBMkNyvQZfrGmxtrmXHR/3htQy3gXiiNMcYYY0zfxBe6zEqQKeFvc/r+UwB4fnWyMmnGGGMGQ6rTN6JUtRnXrcLEaWxzL3qFOVnkZgW7ZErc9epGoKMApmVKGGOMMcb0XUdLUBeUCMQHJVo7MiXKC3IYW5hDWK2mlzHGDCUpByVE5CDgY7juF3lxq1VVz0rnwIaj5raOVp+5WYEuNSXysjrPX2ywTAljjDHGmD5rae9c6DI+U6KxNcSuJtdxo6wgm2BArNC4McYMMSkFJbyClj8HtgNrgLZMDmq4amwLkxMMkJMVIDc7QEvc9I2sYMdsmYkleZYpYYwxxhjTDz1lSjS0hvjl0lUAjCvKJSsghMIWlDDGmKEk1UyJ7wK/As5XtZy3ZJpaQ9FqzrlZwS6ZEnUtHb2x504s5qlVlUQi2uUF1BhjjDHG9CzafSNJpsRLa2vY2eC6no0tyiEYtEwJY4wZalItdJkL/M8CEt1rbAtTGA1KdC10WdPYkWAyd3yRt49lSxhjjDHG9EV8ocuAdA5K7GruuPYqyMkiKELIghLGGDOkpBqUuAU4PYPjGBGa28IU5Lrkk9wELUFrmmKCEhOKAahqsJkwxhhj0m9HXQv1MRl6xoxEraEIAenIkIjPlGiPm6phNSWMMWboSXX6xoXA9SKyFHgMqI1br6r6u3QObDhqbAt1ZEpkB9nV3PlisKaxnfzsIF89fCazKgoBWFvVyIxxhQM+VmOMMSOXqnLQTx5ln6ml/Oe8Dw72cIzJmJb2MHnZQcTLkAjGBCWKc7Oo9+p3nb6faweaFQhYUMIYY4aYVIMSxwCfAYq9z+MpMOqDEk2t4ZiaEgFa2ztP36huauO0fSdz/gnzovMb1+1shHkDPlRjjDEj2Ltb6gB4c9OuQR6JMZnVGopEp24A0eAEwL7Ty3j6vZ0AnHvMHMAFLWz6hjHGDC2pTt+4AXgRWADkqmog7hHsYf9RwWVKdEzfaIuZvqGq1Da1UV6YA8DYwhyKc7NYu7NxUMZqjDFm5HpsxQ4AppbnD/JIMktE5ojI70XkTREJi8gTCbYREblYRDaKSLOIPCUi+ybYbk8ReVREmkRki4hcLiLBvhzLDJzW9gi5WYkvQ8d611wARd702qygEI5EEm5vjDFmcKQalJgMXKuqy1XVJqgmEVtTIi872KmmRHN7mPawUpqfDbhI/syKQgtKGGOMSbs3N9YCXYv+jUALgJOBVd4jkYuAS4FrgFOBBmCpiEz0NxCRcmApLvPzNOByXOexy3p7LDOwWkNhcrMTX86OKcyNfl7oXZ9ZpoQxxgw9qQYllgL7ZHIgw9nWXc2oaueaEnHdNxq8OY3+iyLA5NJ8tte1DOxgjTHGjHirdtQDnQssj1D3quo0VT0TeDd+pYjk4QIJV6nq9aq6FDgTF3w4L2bTc4B84HRVfURVb8QFJM4XkZJeHssMoPjpG7HGFnVkShTEtAy1mhLGGDO0pBqU+DXwNRG5REQO81IcOz0yOcihbNmWOg696jH+8dKGuJoSwWjvbHD1JoBo0AIgL7trhw5jjDGmPxpbQ2ysbiYYEOpbQoTCI/d1RlV7+uYOA0qAO2P2aQTuBU6K2e4k4CFVrYtZdjsuUHFkL49lBpBf6DKR8oKOoETAK4AZsJagxhgz5PQmU2IOLp3xaeDtmMc73sdRaVNNEwCPLd9BU3uYgmj3jQAtMZkSjW1dMyVy4upOGGOMMf31/o4GAA6aMQagSyeoUWY+EAbei1u+3FsXu92K2A1UdQPQFLNdqscyA6i7TIkxhdldlmUFhYgFJYwxZkjpTfcNO4Mn4GdG7KhvJRzpqBmRmxWgPayEI0owIDS1+ZkSHT/y3KygZUoYY4xJq5Xb3dSNg2aO4fk1VdQ2tzO2KLeHvUascqBBVcNxy2uAAhHJUdU2b7vaBPvXeOt6c6xORORs4GyA6dOn9/kbMYm1hiLkJ8mUKMrtGpQIBgKEIvG/QmOMMYMppaCEqj6R4XEMW+1eWuxGL2PCTxX0K0G3hSLk5wRp9GpKFOR2vHBapoQxxph0e297PTlZAfaZVgpA7civK9GTRDdVJMG6ZNulsk2ydajqTcBNAIsWLbIbPGnW2BqivKBr8AGgMLdrsMJqShhjzNCT0vQNr83WQUnWHSAiozbk3Nzmggq1TS49tiMo4X60frHLxJkSnYthGmOMMf21cnsDcyqKGOt1HqhpHNXTN2qA4vjWnkAZ0BTTUazGWxavlI4MilSPZQZIJKKsq2pkt7GFCdcX53ltQAMdXWis+4Yxxgw9qdaU6K6nWDYQSsNYhqXm9s5BhXKvJ7bfnsqfnhHNlIgpdJmbFaQ9rDa30RhjTNq8t72eeROLKfPuHteO7poSK4Agri5WrPgaEiuIqwshItOAwpjtUj2WGSAba5poaY8wb0JxwvV+Ha/YmhMuU8KyVI0xZihJGpQQkekicoSIHOEt2s//OuZxAvANYO2AjHYIig9KjPGCEn7GRGV9KxCTKRFX6BKgbQRXRjfGGDNwWtrDbN3VwqxxhZR5r0OjfPrGc0AdrnUnACJSAJwKPBCz3QPAiSIS++72LKAZeLKXxzIDZO3ORgBmVSTOlPCvufabXh5dFrBMCWOMGXK6qynxReBHuDmSCvwuyXbNwFfSPK5hozU+U8K7M+W/QK7Z2cjCKaXR7hudMyW8bIr2SNJ2VsYYY0yqmr0AeFFeFsW5WQSkY3rhSOQFBU72vpwClIjIx72v71fVJhG5GrhURGpwGQ3n427K/CbmUDcC3wTuFpFrgFnAEuA6v02oqrakeCwzQPwbP+OL8xKuL8nL5h9fPZiFU0qjy7IC1n3DGGOGmu6CEjcA/8RN3XgL+Iz3MVYbsEFVWzMzvKHPvwD0leS5oMSMsYWIwGqvNVtja4hgQDqlEPqZEq3hMG4WjDHGGNM7NzzxPmsqG/nZmftEW1HnZQcJBISyghxqRnamxHjgrrhl/tczgXXA1bjAwQ+AscArwPGqut3fQVVrRORY4HrgXlwdiV/gAhOxejyWGTg7G9zf9rjinKTbHDZ7XKevu6spcfUDK3h+9U7+c94H0zdIY4wxPUoalFDVSqASQERmAlusiFNX8dM3Al4xpbzsINPKC1hd6QclwhTkBBHpKM8RmylhjDHG9MW1D64EcEEJ7/XEb5FYVpA9ojMlVHUd3de9QlUVuNJ7dLfdMlwL9H4fywyMnQ2tFOQEKchJtcN99903bnxydbqGZowxphdSLXRZABzgfyEi+SLyExG5R0S+kZmhDQ/N7eFoxkO82RWFvO9lSjS1hTp13gDI9S4aW60tqDHGmH5qbgtHs/fyvGLLZfnZ1DaP6EwJM4rtbGhlXFFur/YJBgI91pSobxm5gTxjjBmKUg0t34Ar8PSC9/XPgMXA08A1IpKnqj9N//CGvpb2MKX52eRnB7sEJ/acXMJT7+2kpT1MY1uYgrh+2TlBr9ClBSWMMcb0QWxb6a27mqPTN/ygd3lBDlt3tQzK2OKJyP/1YnNV1WS1rIwBoLqxLdr1LNb44txowfF43WVK+LbXtVCcZ9NqjTFmoKQalFgI/BxARLKBzwLfVtU/iMi3ga8BozQoESE/O8ij3z2SgHTOIN1nahnhiHLHyxtpaEmUKeG3De08BcQYY4xJxeaa5ujnW3e14L8M5WW5oERpQTYrttUPxtASuT7BMiXx9IvuCmwbA7jsoMKcroXCX/rhcUn3EXHBjMdX7ODo+eMTbrOmspE54xO3GTXGGJN+qU7fKMS1wQI4xPv6bu/r14Dd0jyuTkRkjoj8XkTeFJGwiDyRYBsRkYtFZKOINIvIUyKyb4Lt9hSRR0WkSUS2iMjlItLn1hfNbWHys4NkBwMEA52vq/adVgbAj/77Lk+uqqQoNy4oEfSDEpYpYYwxpvc2xgQlttQ2R2sU+dM3yodQoUtVDcQ+gBxcQGJR/DpVtZZUpkfN7eFOXc1SUd/iuqF987bXOy135UKcK+9fTpPXNc0YY0zmpRqUWIMLRgB8DHhdVau8r8cBmb4NswDX8muV90jkIuBS4Bpcz/AGYKmITPQ3EJFyYCnuDsxpwOXAd4HL+jqw5vYweUleEMeX5HHY7LHRr+P7aPuZEjZ9wxhjTF9s29U5U8IvvpzvvS6V5WfT1BYeqhl51pfR9EtzW7jXLdXrml29iPgpty+urQZgn2llrK9q4s2Nu9IzSGOMMT1KNSjxC+AKEXkZ18f71zHrjqJrq9B0u1dVp6nqmcC78StFJA8XlLhKVa9X1aXAmbgLnvNiNj0HyAdOV9VHVPVGXEDifBEp6cvAmtvD5Gcn/zH+46uHkB10GRTzJ3ZOBczNskKXxhhj+q6h1QUbsoPCtroWWryghD99w59vX904NLIljEmnvmRK7PKCEtnBztduD76zDYDPHeKSf1vah2QgzxhjRqSUghKq+ifgOOB24ERVvTVmdTXwy/QPrdPz9/Su/TCgBLgzZp9GXK/xk2K2Owl4SFXrYpbdjgtUHNmbMe1qaucPT62hqS0Ubb2WjJ8ROHdC56CEH6W3TAljjDF90dTqUsynjSlgZ31rtCWof/d4YkkeANuGSLFLY9LJ3RjqY1Aiq/OU27qWdqaU5bNwirtHZUEJY4wZOKlmSqCqT6nqz1X10bjlS1T1f+kfWq/MB8LAe3HLl3vrYrdbEbuBqm4AmuK269F1j6zkyvuX887mumiabDL7Ty8HYF6XTAkrdGmMMabvGttcW+qJJXlUNbZ1ZEp4GXyTyiwoYUauprbkU2iT8YMSWYHOl8B1zSGK87KiWUYtdm1mjDEDJtXuG4jIeFz9hUXANOBjqvquiHwLeElVn8/QGFNRDjSoavwrSA1QICI5qtrmbVebYP8ab10nInI2cDbA9OnT49dFP/dfwJK58XMH8PbmXZTFtafKybJCl8YYY/quqS1EYU6QcUW5vLmpNvpGys+UmFSaDzAk2oKKyLXxi7yP3xKR7XHrVFUvHIBhmWEqHFHaQhEKslO+lAXg2D0mcNtLG6JTa331Le2U5GVHbzQ1t9m1mTHGDJSUzuQichCuQOQO4ElcHYlcb/UkXLDi4xkYX28kKpglCdYl267LclW9CbgJYNGiRZ3Wx/a/jg82xBtTmMORcyu6LPdrStj0DWOMMX3R2BqmICeLcUW5bvpGmwtK+Jl45QXZ5GYF2FY3+EEJ4BN0fa1dDxyRYFsFLChhkmqJFnVNOekXgMtPW8CG6ka21Hb+n6hvCTGpNK8jU8KmbxhjzIBJNbz8C+Ax4HTclI8vxqx7Cfh0msfVWzVAsYgE47IlyoAmVW2P2a4swf6lJM6gSCq2VdQJCyb0Ztcom75hjDGmP5raQhTmBhlblENjW5iapnbysgPRbD4RYVJpHltqm3s4Uuap6ozBHoMZOZra/KBE7zIlsoMBZowtZOW2zo3j6lvbmZtXRJ4X5Gi2oIQxxgyYVMPL+wM3eAUn4+9yVAHj0zqq3lsBBIE5ccvja0isIK52hIhMAwrjtutRfWtHUOKgGWN6s2uUFbo0xhjTH41tLlOiosglL26ube7SInFiad5Qmb7xZxGZOdjjMCNDNFOil4UuwU1v8ovC+upbQpTkZ5MTDCACrRaUMMaYAZNqUGIX0HX+gTMLiJ8LOtCeA+pwbUABEJEC4FTggZjtHgBOFJHYipNnAc24aSkpa2gJMaUsn3cvO5FAQHreIYGsgBAQqylhjDGmb5paXabEuGI3jXBTTVOXOkczxxWxans9kUii2YsDajHJryWM6ZVopkQfghJZQaE93HHtparUt7hClyJCfnbQMiWMMWYApRqU+A9wmYjMilmmIjIO+B5wd9pHFkNECkTk4yLycWAKUOF/LSIFqtoCXA1cLCLnisixwF247+83MYe6EWgF7haR47xClkuA6+LahPaooTVEeWE2hbm9SxuM+77Iyw7SEJN1YYwxxqTKz5SY4LX+XLW9Idp5w7fftDLqW0KsrWocjCEakxF+F43S/Oxe75sVEEIxQbqmtjDhiFKc544Vm0mxoaqJ8OAH9IwxZkRL9R31RcCjwDLgVW/ZjbjpEmuB/5f+oXUyHhdkiOV/PRNYhwtKBIAfAGOBV4DjVTWaxaGqNV7A4nrgXlwdiV/gAhO90tASoqgfAQnf9DEFrN1pF4rGGGN6r7HVdd+YN6GY4tws6ltDXaZv7Du9DIA3NtQyu6JoEEbZib27M2lR09QGQFlBX4ISAcIRRVUREepb3M2h4jx3XZeXFaC5Pcyu5naO+OnjfPyAqfzszH3SN3hjjDGdpPSu2nszfwjwOeBYoBGoBv4I/FVVWzM3RFDVdXR00ki2jQJXeo/utlsGHNPfMdW3uukb/TV3QjGvrq/p93GMMcaMPk1tIQpys8gKBjh41hiWLt/R5a7u7IoicrMCrNjWq4TATPmdiKQ0EFXt92u1Gbl2NblMib4EJfx2oKGIsr2umU01rhBsiZ8pkROkpT3MhqomAP756iau+OjCLgE/Y4wx6ZHyrX5VbQP+5D1GvYbWdkryinvesAdzJxTx3ze30NCanswLY4wxo0dja5jCHPdG6bR9p7B0+Q4mluZ12iYYEMYV5VLV2DYYQ4y3C3dTw5h+qW32MyW6b8ueSFbQTXEKhZUPXvN4dLmfKZGfHaS5LczGmqbouovvfpuvHzWb3Sf0/9rPGGNMZym9CxaRJ4HbgX+qamVmhzQ8NLSEKMrrfxDBf3Fbtb2e/aeX9/t4xhhjRodwRGludzUlAE7dZzJ7TCpOWOtoTGEONUMjKPEDVX1psAdhhr+apnayAhINyvVGllegvD3SudC4X1OiOC+LupZ2NnlBiY8fMJV/vrqJu1/fzCPfOcICE8YYk2apFrqsBH4GbBGRR0TkSyIyat9Bq2raMhv2m1YGwAtrqvp9LGOMMaOH3x2gMLfjTdmc8cVMKu06tbC8MIdqL90d4LePv89n/vhC5gdpTIbUNrVTVpCDSO87oPlBiVC481SnEu9mU2l+Nrua29lY3UxJXhbXnrF3dJttdYPfXtcYY0aalIISqvpxXLHJzwMNwG+BbSJyn4h8Lq7F5ojXGorQHta0ZEqML8ljj0klXPvgSu57a0saRmeMMWY0aPQ6N/mZEt0ZU5DdKVPipw+t5Nn3LRhuhq+mtlCngFxv+NM3aps6Zw+VeJ08SvOzWbW9gbc21TJtTAGBgHDV6XsBsLMho2XUjDFmVEo1UwJVbVTV21T1Y7gAxVe9VX8AtmVicEOV34bKT/Prrw/vPQmA6x97Py3HM8YYM/JV1rs3R+OKcnvctjzJ9I3IwLY6/Asu89KYfmsPR8gJpnwZ24lf6NL/H/KVxgQlAN7ctCtaZ+IU71ptZ/2QmAZljDEjSp/O5qpaD6zGtQOtA/rfhmIY8V/EKlK4EEzFOUfO5qAZY9JyLGOMMaPD1l0ujXxSXGHLRMYU5FDfGuI7d7yBa1bl1HvZFgPkD8COnjYSkbEi8ukBGI8ZxtpCSnYfgxJZAbffzoaOAMMlp+yRsLtGUa5XZyI3i9ysAJWWKWGMMWnXq7O5iBwkIj8XkQ3AU8CRwK+A3TMxuKHKD0qML0lPUCIYEKaPLYhmYBhjjDE92bbLtTFMJShRXug6FPz79c08urwjLlA3sK87TwML/C9EJCgiYRHZP267OcCtAzkwMzRFIsrh1z7G3a9t6rKuLRwhO6uPQYlopkRHfYiZ4wqjn/udak5aOJErP7YQABHXxcambxhjTPqldDYXkatFZA3wPHAKcDOwUFX3VtUrVXV1Jgc51OzwXsTSlSkBHUWVjDHGmFRs2dVCltfusyf+XHmAr/z1lejndS0drzt/e2E9J/ziScClxrd4hTTTKFFFwt5XKezLE4t8UkReE5EGEdksIn8Vkclx24iIXCwiG0WkWUSeEpF9ExxrTxF5VESaRGSLiFwuIn0rbmC61RIKs7G6mfPvfLPLuvZQhJxg3/58/AyL9dVNXZYBHDZ7HADfOX4uE0o6gn7FeVk0tAxodpExxowKqVZq/ARwJ3C7qr6RueEMD9HpG8XpDUo0tYVpD0f6nI5ojDFm9Ni2q4UJJXkEAj2/MStO0i0qNhh+yT3vANDQGuJzf3qR1zfUsu7qU9Iz2EEkIh8BbsMV6b4AmARcAdwnIotU1e8LeRFwqbfNCuB8YKmILFTVbd6xyoGlwDLgNGA28HPcTZ5LBuybGiXaQpGk69rDEXL6mCkR9P5n1u5sBGCfqaUcsFtHU7kz9p/CcXuMp6wgp9N+RblZNLZZUMIYY9ItpaCEqs7K9ECGi7c21fKzh1dRkpeVcO5hX/lFlXY1t6d018sYY8zopKr846UN/Pv1zew3vSylfY6aV8GtXz6ID84ZxweveZzNtW7qR11z1zdYW2ubeX1DbRpHPOg+Dbymquf5C0SkDvgPMA9YLiJ5uKDEVap6vbfN88A64Dw6Ag7n4Opona6qdcAjIlICLBGRa71lJk1igxKbapqYWl4Q/bo9HOlzFzS/0OW6nY1MG5PPf877YKf1ItIlIAFQmJvVpWOHMcaY/uttTYlcEZnlpS52emRqgEPNBXe9BUBdmtP3ygo6ghLGGGNMMkuX7+CH/3ZZDQdML+9ha0dEOHz3CkSkUw2KRDUltuzqmGcfWxQzTRIdMNMtQLKBXXHLar2PfprJYUAJLivUDUq1EbgXOClmv5OAh+KCD7fjAhVHpm/IBlwLdt+vlr7XZV1/C12uq2pi+piCHrbuUJSXNWDFYV9dX80Fd72Zif9BY4wZclIKMYvIFOD3dH5hjq7GXVCMivmU5YXpaQMaryTfghLGGGN69siybRTnZfHapcf36U3ZZact4Ny/v8a6qqZONSV8K7d1vN9ubg9TkNO3u9FJ3CIijXHLbhWRppivC0mvPwP3iMjngXuAibjpG4+r6jJvm/lAGHgvbt/lwFkxX88HHovdQFU3eOOfjwtimDRpC3cEJeKDB/1pCZoVU4tij4klKe9XlJNF4wAFJb50yyvsam7neyfO61TXwhhjRqJUrzT+AOyPm1+5DBi1uWuNra7w1y1fPDCtxy21oIQxxpgeqCpPrKzkiLkVfb5LvGByKY999yjm/PD+aKZEe8ybv+dXV0U/r2sOpTMo8ZcEy95Nsu1L6XpSVf2fiCwG/hQzhueAj8RsVg40qGp8dc8aoEBEclS1zduuNsHT1HjruhCRs4GzAaZPn97H72J0ip2+URBXF6U9rNFpGL0V+78zf1IvghIDWOjSr3uxsbrJghLGmBEv1SuNDwBfVdU7e9xyhNu6q4VPHjiNo+aNT+tx/aDEALdnM8YYEyMSUUIR7VJA7/0d9eRmBZnWi1TvTFhf1cSO+lYOmz22X8cJBITivI6uT34BZ4Bn348JSrS0MzGFlqOpUNUvpuVAvSQiRwM34lqYPwBMAJYA/xaR42ICEYny5CXBumTbJcyzV9WbgJsAFi1aZLn4vRAblAiFOxe9TEehS4CxhV1rRyTjCl2GiUQ0pQKz/ZHrfW8ba5pYNGNMRp/LGGMGW6pn8x1AcyYHMtTtqG/l2gdXUNXYmrYLtFiWKWGMMYPvm7e/ztxLHui0rKU9zHHXPcVpv312kEbV4fWNNQDsn2Itie5MKMllU417ad9e11FHIjZlfoQEyn8O/FdVL1TVJ1T1DuCjwFG4DhrgMh2KE7T2LAOaVLU9ZruyBM9RSuIMCtMPsX+LoUjneE5bP2pKZAc69svqRbZFkZetMRAdOPxxbalt6WFLY4wZ/lI9m/8/4EKvwvSotL2uhRueWI0qnYqEpUs0KNE0Ii4AjTFmWLrvra2Aa4sZv6y6cfBmLqoqD76zlZfWVlOQE2TuhOJ+H3PB5FLe3eLqR6yvciUdzlo0rdM29QOUqp5h84E3Yheo6krczZbZ3qIVuNpYcxLsuyLm6xXesigRmYargxG7nUmDzpkScUGJfrRQjw1E9OYYfrcPfypvJvn/e4nqvhhjzEiT6pn4dGA6sF5EHhaRO+Med2RwjEPChJK8aIR8cll+2o+fHQxQkBO0TAljjBkC1lQ2RD/3aywU5aa14GOvvLahhnP+9hq3vbSRA3Yr75R+3lcLJpewra6FyvpWVm6vJzsoLP7ADAAOmunSxUfIG6L1uLpYUSKyB65jxjpv0XNAHXBmzDYFwKm4KR++B4ATRSQ2KnQWLsDxZLoHPtp1CkpE0jd9I7tTUCL1/6VC7xzQ0JrZ/wtVjdauGKjCmsYYM5hSvcIaB6z2Ps8GKjIznKFrfHEuj//gGB5dvoMPzB6Xkecozc+2oIQxxgyiSaV5bN3VwurKBvaeWgbAqu31gMueqG9ppzgvM12YurO6sqNhxecO2S0tx1wwuRSAM373HBuqm5g3oZg9JpVw+9mHMKUsn8OvfXykTN+4EfiFiGyho6bE/8MFJO4HUNUWEbkauFREanBZD+fjbt78Ju5Y3wTuFpFrgFm4+hTXxbUJNWkQ2xK0PS5Toj2sfe++ETN9ozeZEsVeUCLTGUStoUh0uspAFdY0xpjBlFJQQlWPzvRAhoPivGw+ut+UjB3fghLGGDO4KopzXVBiRyPhiBKKRHhvRz0VxblU1reybVfLIAUlXObGVw+fyXF7TEjLMfffrYx5E4pZ6QVd1KvTeMissbS0u/T0ujS+IfJacv5PVat63Di9fo3rGvZ14Bxc7YdngB+oamx70qtxQYgfAGOBV4DjVXW7v4Gq1ojIscD1uPaftcAvcIEJk2adakrEfB6OKOGI9nn6RmymUWyAoicDNX2jqa3j+A2WKWGMGQUGLxfVdFFiQQljjBlUfrr4m5tq+cKfX+KZ93cC8OG9K/jnq5vYuquF3dNQz6G3Vu9oZO6EIn54yp5pO2ZuVpA7vnYIT723k2seWMFXDp8VXZeXHSQnK5DuTImbgUOBKhEJA4eqatpafyajqgr8znv0tN2V3qO77ZYBx6RtgCap1vaON+exhS79FrbZWX2bxpQbM+0jpxfHKMwZmOkbsVM2LChhjBkNkgYlROT/enMgVb2h/8MZ3Urzs9lY3TTYwzDGmFHLv0P5/OqqTm+CPrRgoheUGJxGVGsqG5g3Mf3BkLKCHD6yz2Q+ss/kLutK8rLTmimB61zhP1HSFprG+Dp334hw7j9eIy8ryI8+4oJzfZ2+kZvV0WSlN5kSxXl+UCKzmRKxgYh1O5v48i0v8+OPLsxITTNjjBkKusuUuL4Xx1HAghL9VJqfzbuWKWGMMYOmqS0UrSsR69DZYwGoHaQOSTvqWzly3sCWcyrJz0p3oculwK0ishJ33XCLiDQm21hVD0rnk5vhx89cygkGCIWV/3mdcL5+lGua0tdCl7H7ZffiGNFClxkuANsU03J0W10L2+pamPvCei780Pxu9jLGmOEraVBCVft2pjd9ZjUljDFmcDW1hfn4AZPYXNPM25t3ceCMMXx80VQKcoKIDE4qdSgcoaE1FG0dPVBK8rLTPX3jS7i6DvNx3TDWApXpfAIzsvhBiYLcYKeWvO9u2QVAeUFOn47bKSjRi042hbkuw6KxLdOZEl2PPzkD7eiNMWaosJoSQ0hpfjaNbWHa+9F72xhjTN9EIkpTW5iyghwuP21hl/VFOVmDEpTwn3OgC2ymu86RqjYBPwcQkeOAH6rqm2l7AjPi1LW0ExBXy2FdVUdSzbdufwOAiX18ox5b6LI311u5WUFygoGMd99o8v7nL/3wnvz4vmUARGyykzFmBLN3vkOIfxdshLRgM8aYYaUl5O5OFuQEE64vzM0alPZ8dc3uOUvyBvY+QkleFvUZej1S1ZkWkDA9eWNjLfMnlrC5tplV2xu6rJ9Y0v/sgaxg74plFuVlZbzQpR+IPGHPCbx72YkANLZZwUtjzMhlQYkhpKzABSVqBmnOsjHGjGZ+m7/CJEGJorysQXlj4Nd1KBno6Rv52emuKdGJiMwSkd+JyNsistn7eIOIzOp5bzPStYbCvL1pF/tOL0u6zfiS3H4/T28zU/Ozg/zthQ0sXba95437yC+4W5ATpCAnSECgqTXMH55awyvrqjP2vMYYM1hGTFBCRBaLiCZ4nBOzjYjIxSKyUUSaReQpEdl3EIfdyRSvqvKG6qR1v4wxxmRIs/dGID8ncUZCUW5WxtO2E4kGJQZ4+kZxXla6u29EicgBwBvAGcDLwF+9j2cAr4vI/hl5YjMsPPzuNuZd8iB1LaHotVG8kxZO7NRFo696G5Ro9epcfOO21/v93Mn4mRKFuVmICIU5WTy6YgdX3r+cS+55J2PPa4wxg2Uk1pQ4Bojt2bYm5vOLgEuBC4AVwPnAUhFZqKrbBm6Iic0ZXwTA+zsaOGb+hEEejTHGjC5N7d4bgWSZErlZNA5CTYno9I38gZ6+kU1bKEJLe5i87P6/+YvzM+B14CSv1gQAIlIA3O+tPybdT2qGh/+9vTX6+fjixNkQv/vsAWl5rmAvCl0CRNQVd2huD/PEyh0cNW98WsYRq7E1RFZAyPUKchbkBlm+tQ5wU31rm9qobwkxbUxB2p/bGGMGw4jJlIjxsqq+EPPYASAiebigxFWqer2qLgXOxLUlO28QxxtVVpDDuKIcVu+wTAljjBlo/vSN/G6CEoNR6HKwMiX86SIZaoN6EHBtbEACosUwfwYcnIknNcNDa3sk+vn4NNSNSKf2cMfYbntpQ0aeo6kt7HX8cQGTgpjsrca2EGf/9VUOv/Zx69hmjBkxUr7t4r2pPwKYCsS/Qqiq/i6dA8uAw4AS4E5/gao2isi9wEnAJYM1sFizK4p4v7JrMSdjjDGZ5U/fKMxN/NJYmJsVDVwMJL/48YDXlPAKax5y1aPRYntp1AyMTbJuDNCS7ic0w0drqOP/rKKoa6bEIbPGDORwOgnHtMHIVEechtYQRTHnodjiu+t3NlHvBUefWlXJqftMzsgYjDFmIKUUlBCRDwJ3A+OSbKLAUAlKrBaRscBq4DpV/b23fD4QBt6L2345cNYAjq9bu40t4ImV1rbdGGMGml/EMj/JVIXivCzqM1j4MZm6lhAiUJwkWJIpsUGQ51ZXpfvw/wOuFpE1qvqMv9C73rgKuDfdT2iGj5ZOmRKdgxJvLTkhOq1hMIRighJbdzV3s2XfNbWFKIj5fy+MyZSoj8nW2lHfmpHnN8aYgZbqWf3XuDf5+wG5qhqIe6R9smkfbMXVi/gccCrwInCjiHzHW18ONKhq/G2uGqBARHLiDygiZ4vIKyLySmXlwAQKinKzo1WXjTHGDJzapjagoxNSvMLcII1tYVQ14fpMqWtupygni0Av5773V3ag4xLh8ZU70n3483E1n54UkW0i8qaIbAWe9JZ/N91PaIaPlphMiTEFnS/PSvKy01Lgsq9C3vSNw3cfx9Zd6Unoee79nXznjjei55aG1nCnjC0/QDi7orDTfpUWlDDGjBCpBiXmAUtU9U1VHZIT2FT1IVW9QlUfVtUHVPXzuKkal4iI/30mupKUZOtU9SZVXaSqiyoqKjI08s7cRW9owC96jTFmtNvZ4IIS4xKki4MLGocj2uku7kDY1dw+4FM3APadXsZxe4xnSlk+K7fVp/XYqlqlqh8ETgF+CzwL3IArfHm4qqY9NcMMH7GXQAMdjOvJVw93HWunlhewK031Vj79xxf59+ubqW8Nccuza9lU09Sp4K4/feOzh+zWaT8LShhjRopUgxJvARMzOZAM+SdubuoMXEZEsYjEh9fLgKahEmzJzwmi2tFyyhhjzMCoamijKDcraaeJoly3fKCLXW6ubWZy2cAX+yvKzeKPXziQeROLO83xTydVfVBVf6yq/+d9fDgjT2SGlVAk8TXQbV89ZIBH0tVFJ81n9U9OZkxhNrXN7Wm9ifTX59ax5N5lrKls7JQpkeNNV4k9N80ZX0RlgwUljDEjQ6pBia8D3xGRIzM5mAxSXAvQIDAnbt18b92Q4M8btCkcxhgzsKoaWxlb1GUmX1SRV/hxoOtKbKpuYlr54LX+ywkGaLNAuRlA7aHOb/QPmukKWx46O1lt1N779nG786EFvb/fJiIEA0JZfg7hiKY1SHn3a5ujn5fGZEf5QYm2UIRbv3wQiw+bwdTyfGoa29L23MYYM5hSrZr1CFAAPCYi7UBd/Aaqmv5Gzf13BrATWI+rOVGHawN6BUT7oZ8K3DRYA4znt6JrbA0xpjD5xbExxpj0qmpoY2w3590yb257bYbb8F35v2WEIsoFJ84jKxBga10LU8cMYlAiy4ISZmD5bTdv/OwBANxx9iGke1brt4+b26/9/doztU3t/e7CIeKmrKzZ2dESfnJZfvTzxYfN4IG3t3L8nhOYXJbP4btX8H9/f5XN7XYDyxgzMqQalPgtiesxDBki8i/gJdxUkyCuo8ZZwDdVNQK0iMjVwKUiUoPLjjgfly3ym8EZdVf+vMFme6ExxpgBtbOhlWndvPn3C+5l4u5kbVMbZ9/6Kt89fi5/eHotAIfMGsu8CcWowrTy/B6OkDm5WQGbUmgGVFs4wun7T+FDC10mg4ggQ6u0RDRIuau5nWkZOP6YmIK7cycU8/r/O6HT+rysoF0rGmNGjJSCEqq6JMPjSIeVwJeAabjilcuAz6vqrTHbXI0LQvwA1x/9FeB4Vd0+wGNNyp++0TjAc5aNMWa0OO66JzlgejnXfHzvTsurGtvYb3pZ0v387LXqDAQl7n1rKy+treYbt70eXbZ8a100UN1dsCTTLFPCDLT2cISc4OC1/UyFP72ipqn/5wOh485feUE2NU3tZPXw/eflBAe86K4xxmRKr5qee20z98IVj6wG3lbVITGhTVUvBi7uYRsFrvQeQ5I/faPZakoYY0xGvL+jgfd3NHQKSkQiSnVjG2MLE3feACj3ghLpeBMS78U1rtnEDq+afkBcUAJcavfsiqK0P2eqcrOCFpQwA6o9rGQP8aBEUa5/Eym912tLPrKAe17fzKn7TO52u/zsIC2WKWGMGSFSPuOLyPeB7bgpEg8BLwPbReSCDI1tVPLvilmhS2OMSb9kAd/t9S2EI8qEkuRBicKcIDnBANWN6a8p8eLa6k5fn7DnRB56dzu/XPoeB80YQ0Vx8nFlWk6Gpm+IyN4icoeIrBaRVhHZ31t+pYiclPYnNMNGeygy5IMShbn+9Vp6M1sXTC7l5i8e1KnQZSL52W76hrWQN8aMBCmd8UXk28BVwD+Ao4E9gKO8r68SkW9maHyjToE/fSPNL3LGGGNgW11LwuWrtjcAsPuE4qT7igjlhdlprylR19JOZX0rJy6YALhpIqfuM5lpY/IJCHzqoOlpfb7eyskK0BZOb1DCCzq8ims3/lcg9h1YK/CNtD6hGVbawhGys4ZYEYk40cLkabiJJDEFM7orthv//OGI0h62oIQxZvhLdfrGucDVqvrDmGUrgadEpBb4JvDrNI9tVCqw6RvGGJMx23Z1BCXCESUYcG8G3tteD7iCct0pL8ihOs3TN9ZWuor7p+8/lQtOnI+qsvuEYk7ZexKhcKTHueWZlpuVkee/CrhFVb8qIlnAj2LWvQGck4knNcPDcKgp4dcAa+7nTaRQONIp26GkhwwJX152R2H0nMz8jxpjzIBJ9Sw2DXg8ybongKlpGY2JvsjZ9A1jjEm/7TGZElWNrn7D1l3NXPG/5ZTmZ/fYinlMYU7aMyXW7HRZGrMrCpkzvqhTtsZgByQgY0GJ+cAd3ufxt3rrcLWrzCgUjigRZchP38jP9lu49+96bXNtM5GY/wA/UJrq81tdCWPMSJDqGX8DcEKSdcd7600a5OdkZo6iMcYY2LKrOfr55//0Emf87jlufnYdAAfsVt7j/uWFOWnvvrG2spGAwPQxhWk9brpk6C7sDmBWknULSPN1hYhkichFIvKeV79ik4j8Im4bEZGLRWSjiDSLyFMism+CY+0pIo+KSJOIbBGRy0UkmM7xjmbt3lShoR6UCASE/Oxgv6/X1lU1AXDzFw/k2YuOSXm/vGz387HMWmPMSJDq9I1fA78WkTHAP3EFL8cDZwKLcdM3TBrkZAXICohlShhjTJqtrmzg2gdXRr9esc1N2cgOCqX52fziE/v2eIyKolyebmhN67heXlfDnPFFQzYFO0OZErcDl4vIMuB5b5mKyFzgQuBPaX6+m4FjgcuAFbgM0D3jtrkIuBS4wNvmfGCpiCxU1W0AIlIOLMW1HT8NmA38HHeT55I0j3lUaosGJYZ2TQlwxS77e722bqebvrVgUgnjS/JS3i+aKRGy60VjzPCXUlBCVa8XkVbcnM8v4VItBdgCnKOqf8zcEEefgpz+v8gZY4zp7I0NtQB869jd+dWj70WXv7CmmlP2nkRpQc9zuSuKc6lrCdHcFo5mtvXHzoZWXlxbxXlHz+n3sTIlQ8GSS3FBgSeBbd6y/+AKXz4M/CRdTyQiHwI+CeyjqsuSbJOHC0pcparXe8ueB9YB59ERcDgHyAdOV9U64BERKQGWiMi13jLTD+1ep5ehGqSLVZCTRV1LfzMlGinICfa6w05eghpkja0hrn1wBeefMK/H7h3GGDOUpHzGV9U/4O4s7AYc6n2cZgGJ9CvMzaKh1aZvGGNMf+1saKXVu5Pod9742pGz+N4Jc5kYc1dy9rjUpk5M8PbZUZ+4i0dvPfTuNiIKJ+01KS3Hy4ScYPpnJqhqq6p+GDc19C/AH3EdvU5R1Q+rajr7rn4JeCxZQMJzGFAC3BkzxkbgXiC2PelJwENxwYfbcYGKI9M24lHM7yYx1KdvAGyobuLeN7ewwZuC0Rfrdjay29jCTh04UlGS54IOtU0d/yr/eWMLf3l+Paf8+mkW3/wSjXYtaYwZJnp1xldno6q+5H20PkQZMK4ol8r69KYHG2PMaLToiqWc/KunAdhR10JxXhYFOVmcd8zuvHDxsew9tRSA6WNTC0qM9+5mbq9Lzzn6gbe3MWtcIfMndt/1YzBlaPoGAKr6qKperKpnq+pFqvpIBp7mYGCViFwvInVeLYi7RWRyzDbzgTDwXty+y711sdutiPseNgBNcduZPhouNSVirfS69/TF+qomZo4r6PV+k0pdgDS2zXHEuyzfVNPMEysr2f/Hj2CX6saY4WD4nPFHkQkleZ0qxBtjjOk9/2J8dWUj63Y2sr2utVN2BMAtXzyIxYfN4Lg9xqd0zHRmSjS1hXh+TRUnLpzY67ukAykTafQi8kkRuSDJuu+JyCfS+HQTcfWv9sVN4/gicADwb+n4wZcDDaoaP3eyBigQkZyY7WoTPEeNt64LETlbRF4RkVcqKyv78W2MDsOppsT1n94PcBlZfREKR9hQ3cRuKQZFY/nTPX5w99u8sq4acIHXWK2hCC3tkT6NzRhjBpIFJYagiaW5nSLfxhhjeq811HEx/uamWrbVtUSDCr4xhTks+cgCygq6bwXqm1CSvkyJrbtaCEeUuROK+n2sTMrQ3P6LgGQvdE3AD9L4XOI9TlPV+1X1DuBzwEFAbLuDRLeUJcG6ZNslvCWtqjep6iJVXVRRUdHrwY82IW/6Rs4wyJQ4ccFERNz/cl9sqW0hFFFm9iEoEZtJ8qdn1gKdx/G1I1xzm/qWdM6EMsaYzBj6Z/xRaGJJHrVN7dZ72hhj+iG2Ns+1D67kjY21XYISvVWan01OVqDLHcm+2OEFNiYU929MmZah6Ru7A+8kWbfcW58uNcDbqloVs+wZoI2ODhw1QHGC1p5lQFNMjYsab1m8UhJnUJhe8qdvZA2DoER2MEBFUS7b+xiUWFflOm/sNrb30zeAaIaXH4zYUN3E/tPLWHvVyew5uQSAeqsrYYwZBob+GX8UmliaD2BTOIwxph8aYqrib65tBqC/73NEhCll+Wyo7nthO58/BaQ3bQAHQ4YyJZqAqUnWTQPSWVhpeZLlAvjpNCuAIBDfBiW+hsQK4mpHiMg0oDBuO9NHw2n6BkBZQTZ1fcxG8Kd9TCzt2zngj184kE8smsrm2mYiEWXZljr2nFyCiFCc5xrsNfSzO4gxxgwEC0oMQf6c576mAxpjjCFhF6MvfmBmv487Z3wRq/pR2M7nB579KSFDVYYyJZYCl4pIp2IeIlIB/BDXFjRd7gP2FpFxMcuOALKBN72vnwPqgDNjxlIAnAo8ELPfA8CJIhJbmfQsoBnX3tT0U7Ql6DDIlADIzQp2mirWG3XNLphRnNf39p1TygqorG/l/ne2Ut8aYuFkV7y3KNcds96CEsaYYSDlM76IfFxE/iEiT4nIS/GPTA5ytJlS7jIl1u5sHOSRGGPM8BV/MX7xyfPZY1JJv487d0IR66qaoq1G+2p7XSv52UGKcrP6PaZMys1Kf0tQ4EKgCFgtIneJyK9F5C5gNa695vfT+Fw3AVXAvSJyqoh8GrgVWKqqzwCoagtwNXCxiJwrIscCd+Guk34Tc6wbcVkcd4vIcSJyNrAEuC6uTajpo2hL0Ax2fUmn3KwAja0hPnD1Y/z79U292rfOO0f5WQ194Re8vP6x95lUmsep+7imMv55paHVakoYY4a+lM74IrIE17t7D2Aj8G6Ch0mTGWMLmFiSx9PvWZVuY4zpq/hMiSllfZu3HW/uhGLCEe134Hh7XQsTSnKHdOcNyMz0Da+N5j7A9bjpGid5H38D7K+qG9P4XHW4gpY1wO3Ab4FHgfgOH1cDV+KKbN4HlADHq+r2mGPVAMfipnrcC1wG/AL4UbrGO9oNt5agedlBNtc2s7m2me//861e7VvX3E5BTrBf32tpvsuIWLGtniPnVlDoBSP8QIdlShhjhoNUQ7NfBq5W1YszORjjiAhHzavgf29vJRSODItiT8YYM9Q0xgUlJpelp3bD3Akuc/+VdTVMLMlLuXNHvG27Whg/xItcQubS6FW1kvR22ejuud4HTu5hG8UFJa7sYbtldO7aYdJouNWUyM0KsKnG1ayJJOy/klxdSzsl/Zi6Aa6mhW/hlNLo5xaUMMYMJ6leaRTj7iqYAbL31DLqW0LsbGgb7KEYY8ywFF91fkpZflqOO6uikGBAuOSed1h0xdI+HaOlPcxbm3d1ehMxVOVmW2DcDBw/U2K41JTIy+6Y3hTR3kUl6ppDlOT3b/qWnykBMLuio71wcV42IlDbbNM3jDFDX6pnwtuBD2GBiQFT7kW+a5ra+lyV2RhjRjO/6vwdZx/CfW9tjc697q/crCBTy/NZX9VEqLe3Rj2vrq+hLRThg7uPTcuYMildbw69+lOLVXWZiLwMdPvDU9WD0vLEZlgZbtM3YgvB9jImkZZMic5BicLo58GAUF6QQ1VDOhvZGGNMZqQalHgUuMarXP0ICXpxq+r9aRzXqOenA9c0WaaEMcb0RUNrO8GAcNDMMRw8K71v/nt7RzRWQ2uIJf99l9ysAAfNHPpBiaxgIF2BiXdxXSr8z/v+QzQjVntomBW6zO5cCLaxNRSt69CTXc3tTOhnS+CSmKBEfOB1TGEO1Y12HWmMGfpSDUrc4X2cAXwhwXrFFX0yaVJe6F5kapss7c4YY/qioSVEUW5WRgpJ7j6+mI3VzT1vmMBr62t4b0cD131inyHfecOXn9P/l3hV/WLM54v7fUAzIg3HmhLgajjUt4RY8KOHWHf1KSntW9XQxp797AhU7J1DKoq7Fs0dU5hDVUxQQlW5+7XNHDZnLJNK0zOdzRhj0iHVMPTMHh6zMjK6UazcMiWMMaZf6ltDGXvT//Mz92GfaWWAqw/RG/6dy329/YeDgjQEJXwikicirSLy0bQd1IwYw62mRCjixhv7/5zKOUFVqWpsZWxR/6aVBQLCnV87lIe+fUSXdeOKOk/fuPnZdXz3rjf55SPv9es5jTEm3Xo844tIHvAHYKaqrk/2yPxQRxd/jqBlShhjTN9U1rcyrqhvnTF6Ul6Yw8f3nwL0vrr9Tu9NwtjC9NS4GAjpyJTwqWoLsAOwtgCmi+FWU6Kx1QUgdh9fHF22prL7dsHNbWHWVzXRHta0nKMOmjmGMYVdjzOxJJ/Ntc3Ut7Sjqlz70AoA8qx4rTFmiOnxrORdPByITc8YUHnZQfKzg9TYXEBjjOmTzbXNTE5Tx41E/LncdS29Cx5XN7aRFZB+V90fSOnMlPD8HvimiPSvyp8ZcdrDXk2JYROUcLG1A3Yr5+S9JgKwZmdDt/t8+S8vc9TPngBgbIYCpwCn7D2RlvYIj63YQV1ziJZ2F/Bp7mV2lzHGZFqqV0T/BT6Kdd8YUOUF2dRYpoQxxvSaqrKltplj5o3P2HP4QYldvWy5V9XQxpjCnIzUusiUguy0B1DKgIXAOhF5FNhO58KXqqoXpvtJzdDXFhpeNSWa2twb/KK8LH7ysb24/+1tbNvV0u0+z62uin5eUZS5Dmt+i9Cqhja213eMqbfZXcYYk2mpXmU8BPxURCYB99P14sG6b2RAWUEOtVZTwhhjeqUtFOGcv71KS3sks5kSXiu/ut4GJRrbEqZaD2XpnL7hOQPwJ7sfnmC9AhaUGIXawxGygzJsgnaTvLbtFUW5lOZnk5cd6DYosTOmxsOhs8Zy0MwxGRtbcV5H4HRHXcfzWlDCGDPUpBqU+Jv38XTvEW/YdN8QkT2B3wCH4lqb/hG4TFWHXC5beWE2O236hjFmCGhpD9PYGup3UbaB8NzqnTy2YgcAU8ozF5Qo9aZf1PXyAr+6sTWjKduZkJ+d3pd4VZ2Z1gOaEcMFJYbH1A2AJR9ZwAkLJrLnZNdFY2JJHtvqkgclfrl0FQBfO2IWF500P6PBl2BAKM7N4lePdhS2nD6mgPpWC0oYY4aWUdV9Q0TKgaW4IMppwOXAd4HLBnNcySycXMqbG2u55J63aWqzFxBjzOA57x+vccAVS4lEtOeNB9F72+tZfPPL0a/9u5iZEJ8p8dzqnZz222d7PF9XNbYNqyKXkL6aEiKSLyJniMh3ReTTIjIhLQc2I0Z7WIdVUKIwN4vj9+z4M55QktcpKyGeV8eTzx6y24Bkg+TGFLU8ea+J7DWllPpe1MF58J1t3PnyxkwMzRhjolI663fXdWOYdd84B8gHTlfVR1T1RlxA4nwR6V+j6Aw4Zr6bC/23Fzbw0trqQR6NMWY0aWkPE44JQCxd7jIP9lryEMu21A3WsHp083PrANhjUgmfWDSV+RMzd2qPL3T56T+8yJsba3l/R/dF7qobRuf0DRGZBbwL3AX8FJeFuVJETuj3wc2I8PzqKm55bt2wCkrEG1OY020799ZQmCll+UwbUzAg49nZ4MaycEoJPztzH4rzsrqdvlEdl6F7zt9e5fv/eiujYzTGmJTO+iKyZ0+PTA80TU4CHlLV2Cvq23GBiiMHZ0jJHbBbefTzZq+Q0sbqJn583zKeW71zsIZljBkF5l/6IN+5443o137GQWNbmAfe2TpIo+rZltpmJpfm8c9zDuXaj+9DTlbm3tzkZQfJyQpQ1xxic21zdPn2bu6StobC1LeGMtaqNFPSlClxLRDB1ZAoABYAr+M6cRjDp/7wAgA5w6TIZSJlBTndFilvag1TmDvwM55v/dLBFORkMa4ol+rGtmhB0Vgvra1m/x8/wsPvbgPoFJge6llyxpjhLdWaEu8QV9gygeFQU2I+8FjsAlXdICJN3rp7k+1YVVXFLbfcktnRJfCDORFe31DDU/9bw8pn8thU3URDa4h/vZnFqimlAz4eY8zIF44oH8qppm35Cm655U0ADmyroS3HXcQ2vrOeW7Y8P5hDTGrM5lqOyg5y120Dk258YnYNze+u4c412Xwopx6A15ZuZPNLiaeNtIUifCinhqZ3NnHLhmcHZIzpoDXNPW/Us0OB76qq/40vF5GveR8nqerQjXaZtGoLRfjyX17m60fO5rA547qsH85vf8sKstnV3IaqJpye0dgWoiBn4NsBl3vZWTPHFRKOKBuqm5gzvqjTNu9u2QXAX55fxwkLJrK+qjG6rrKhlfHFuWysbmZSWd6wzmYxxgw9qZ4Vj06wbAxwgvf4VtpGlFnluOKW8Wq8dZ2IyNnA2QBTpkzJ6MCSCQbcC1pNU1s0HTA/O0hja4jmtnAmKqIbY0a5+DtoqtAeiTC1PJ/K+sR32IaK1lCEUm9axUDICgjt4Qi7YuZod/fzafcmlGcNszvBgfQMdxKwJm7ZakCAiYAFJUaJV9fX8PR7O3n6vZ08e9ExjC3MIS+mmGrDMO4OUV6QTXtYaWwLU5Tb9TK7qW1gMyWevOCoTtM1ZlUUArCmsiEalHh3yy5eXFPNhuomoOMctr6qKbrfpppmHnh7K0vuXcYlp+zBVw4fFuXkjDHDREpBCVV9Msmqf4vIFcAngPvSNqrMShSAl0TLVfUm4CaARYsW6eLFizM7sgTCEeWKizu6rc6fWMx1n9iXk3/9NB86cF8+ut/gBEuMMSPX4yt3cI1XLPLGxaewbVcLl131KFccupA3Xt9MVlC4YvGhgzzKrmqb2lhy+SNccuweLB6gC+aP/vZZ3thYG/16Slk+D+5o5sxpU5lUmsd3jp/b6W7pk6sq+emfX+IrpxzKohmZawWYbn99fl26DjWcb4KbNFDV6DQNgIv+9RYvrqnmnnM/EF02TLqBJlSW7zISapvaEgYlGltDjCkcmHoSALuNLez09cxx7ms/AAHw9b+91unrWm/6SWymxNqdjfz52XUAXPG/5UwfU8AJCyZmatjGmFEmHblXj+M6WQwHNUBZguWlJM6gGHTBgETn8p64YAL3nPsBJpe5tOD4YkTGGJMOW2o7p+pv99rbTSjJY0Jp95XlB5Nf12FKWebagMYricnK+Oi+k6NjuOvVTfz6sfepa+58x7e60f3shl2hy/S1BH1IRHb4DzqyIx6NXe6tMyNQQ1w7yqff20lbOMJZv++YElY+zP4/YpUVuHNCTWPiuhKNbSEKBzHLtTQ/m4KcYPRcpapUNXSc07ODEs3MXV/dFK3L87273uwUuPjW7W/Q0h4ewJEbY0aydExqO4Uh+oY+gRW42hFRIjINKPTWDUnq3Vc6aOZYV1gtGCAgFpQwxmTG1loXhAiIu2DdFg1K5DKhOI/H63YknS+dbqu213P1Ayv47glzWTC5+zo6fqrxQFW1B6JTReZNKObqM/amqrGNp9/byacOmsZtL22ksqGFUu9NyoPvbOU7d7gaHcOvJWha5sAPyfbbZmD5d+FP2WsSD727jZBXQLE+Jlgxvnh4/X/EmuFlIqzaXs9eU7ues1yhy4GvKeETEYIi3PzsOj510HQ3JbgtzI9PW8BnD9mNnz+8it89uZpIRNlY3cSscYXsbGiNdvF47LtH8vK6ai7819s8v6aKo+eNH7TvxRgzcqR0VhSROxMszsG9wd8duDidg8qgB4ALRKRYVeu9ZWcBzUCyKSqDLhRxc/vKvQvbQEAoL8ihupuWU8YY01drdrqWlhGFupYQG727Y9PKC5hYmktTW5i6llCvazf8543N/Grpe3xsvykcPreCfaeVdbu9qvLlv7zMxupm6lvaufNrh3YbCFm5rZ6A0KV4WyaV5LmX0RnjCsjLDvK7zx5AS3uYVdvqXVCivo054933cs7fXuvYL3/w3pT0RTq6b6iqBSVM9C78R/ebwlPvVVLfEooG8XzXfWLfQRpd/82uKKIgJ8ibm2o544CpXda7QpeDWw/MDwD9+Zm1jC9x2bcHzhyDiDCmMIdwRKlraWd9VRMzxxXyszP3oS3s6gqNL86jOC8beJv1Oxth3iB+I8aYESPV6RvjgYq4Ry7wNHCqql6TmeGl3Y1AK3C3iBznFbJcAlwX1yZ0SPHvIsSmM44pzKEmg5kSa3c29ryRMWbEWbaljofe3R4NOFQ1tLK+qonivCzKCrKZVu6yEDbGpPGmQlX54b/fYc3ORn7+yCo+dsOzhMLdF8x8d0sdG6ub2W96GS+vq+Gbt7/B25t2Jd1+5bZ6Zowt7FQwL9P86Rvjityd3aJc13JvnHent9JLi3542fZO+w1Elkk6HThz+NS/MEOb3y6zvCA7mv6///SOWuM/OnXPAc12SrdgQJhVUcimBB1rWtrDtLQPbDHeRP68eBEAy7fV85fn1jFvQjFzxxcDMNZrV7y5tpkN1U3sNraAhVNK2X96OeOLXQBjXFEO+dlBNqanK48xxqQWlFDVo1T16LjHSar6VVW9v+cjDA2qWgMci2tfei8ulfQXwI8Gc1w98advlBd0BCXKC3PSMn3jpbXVzL74fnZ46dkAD727jaN/9gRL4y6ijTEj266mds76/fOU5Wdz6Yf3BNw0sfXehamIRIumxVZlT0VtUzsNrSE+ddB09ppSiio8vrIy4baqynUPr+TCf72FCNz0uUUsPmwGD72zjVOvf4abnlpNONK1XuKq7fXMnVDcy++6fwq8AIi7c9ihwgtS7Kx3QYmfPrSS+ROLmT+xmIkliduFDmWJCvYZ0xe1XqZEWUEO7WH3f+x3hAA3FWq4K83PZldz15oSfpbImEGevnXM/AksPmwGy7fWsau5nZP3mkTAa7HjF+D92wvraQ1FmFXRNfNMRJhant/r4LQxxiSTUlBCRP4sIjOTrNtNRP6c3mFljqouU9VjVDVfVSep6qWqOiwq9YyJCUqMKcjhxbXVXP1Az6UwGluTt9a66ak1hCPKy+tqostWbnMzW15cW9WP0RpjhptlW+uobw3xs0/sw77T3Fzo9VVNbKhqZLcx7k3DjHHuDua6qt5lU/l3DY+aV8Hd/3cYhTlBnn4vcVBiy64Wfv3Y+7y7pY5zjpxNRXEuSz6ygFcvPY4TF0zgJ/ev4PjrnmR1pZtmUtvUxmsbalhb1ciCySV9+t77qt0LjvjF4Hyl+dlkBYTKhlYaWkO8v6OBU/aaxH3f+CDPXJioy7Yxo4Of5VlekM0RcysAlynhB+vmTRy5QYmqBj8oMbiZEgBzJxRHW3/GjmdKWT5zxhdFp9McMmtswv2njSnoVPjSGGP6I9XpG4txUzYSGQd8IS2jMd0qi3nRKPLmMd/45GpUk3dYW7psOwt+9FDSlGd/36a2jsCFfwcy0QuqMWbk8t/kz5tQzMxxbl70K+tr2FTTzPSxLhhRkJPF+OJc1vVyitemGnfxOrU8n+xggIVTSnkryXlpbaU79j++cjAXfqijNnFxXja/+8wB/O4z+7O5tpl/vLiBh9/dxkFXPsrpNzyHKpyeYA53JvkX9blxQYlAQBhXlMtTqyr56G+fBWDPySVkBQNkBdPR+MqY4cmfvlGan80fP7+IZZefiIjwt68czJJT92Rs0fAtcukryRvamRIAh+8+Lvp5fLeTH56yB3nZAU7ffwozxiaeSjN9TAGbapq7vQY1xphU9ebKKNlZZyGQ+HaXSQu/aFtxTPrse9vro59vrE4+p++Z93cC8MTKxN3V/HoVW2o7pm9s3eWOZ3UljBldVlc2UJATZFJpHsGAsHBKKbe9tIFQRDloRkdNgRnjCnlvR0Ovju1nSkwtcxe4e08tZdnWOtrDEXY2tHa6sPULbc5OULAyEBBO2msS+04r457XN/PtO95gzvgizjxgKt86dvcBbQcKcNBMNxf+wBlday4U52Xx7pY63vd+VnsOcBaHSUxEpohIg4ioiBTFLBcRuVhENopIs4g8JSL7Jth/TxF5VESaRGSLiFwuIoNbuXAYqW1qoyQvi6xggJysQLSzy5zxRSz+QMKk3GEnWaaEP+12KGRKTBtTwG5ewCF2ejDA0fPGs+LHJ3HdJ/ZNWv9mank+Da2haDcVY4zpj6STREXkW8C3vC8VuEdE4pvT5wETgFsyMjoDwB1nH8K6qsZOLwzfOX4ui29+GYCP/PYZnvze0dG2c7EC3j7JUux2ePOdt9R2BDa27nIBihXb6olENDrP0Bgzsr2/o4HZFUXRc81+08p4aW01YwtzOt1VO3JuBT99aCVvbKztsYOGb1NNE8W5WdGuE/tOK+cPT6/l4J88SnVjGx/ZZzIt7WE+edA01lQ2UpAT7LYt4EEzx/Di2moCAr//3AGDVhjvmPkTeOP/HU9Z3EU9wHnHzOHNjbt48J2tbNnVMixrSYxQPwUacO3AY10EXApcgGsTfj6wVEQWquo2ABEpB5YCy4DTgNnAz3E3eS4ZkNEPczVN7V3uzI80JfnZtIUitLSHOxXe3dkwdDIloKOlcXymVyr8OiAvravmxAUT0zouY8zo013lqmXAvwDBvTA/DmyN26YN98KdqGWoSZOxRbld0hmPmjee9648icOveZxtdS389on3ufjkPboEETbXumDEGxtruxxXVdnkBSs2xwQl/ABFfUuId7fUJeyzbYwZedZVNbLftI4q+F85fBb5OUH2mVrWacrBFw6bwW8ff5+7X9uUclBi2dY6Zo/vCHictHAiF588nxfWVPPUqkr+++YWACKqtIWVmeMKu+1Qcdq+U3hjYy3nHT1n0Cv1JwpIgBvjaftO4aKT5tPYGhp2HTdGIhE5HPgQ8BNccMJfnocLSlylqtd7y54H1gHn0RFwOAfIB073unY9IiIlwBIRuXYod/IaKmqa2pL+z4wU/pv9Xc3tnYIS63Y2UpybFW3xPth+dOqefO+ut5g/qfdZXIfvXsFuYwv42q2v8vvPHWCBCWNMvyQNSqjqI8AjACJSD/xRVTcP1MBMz7KDAV64+Fi+d9eb3PLsOgD++vw6nv7+MVR4dxj9lGk/+yFWfWso2qv6mfd38uA7WzlxwUS27mrhI/tM5r9vbuGp9yotKGHMKBCOKFtrWzh1747pDxXFuXz7uLldti3KzWL+xGJWbKvvsi6R5rYwb2ys5UsxqdmBgHD2EbM5+4jZhCPK6soGfv/kGh5fuYNgQDh8zrhujuhSvW/98sEpfneDKycrQE7WyH4TNhx4Uyx+A1wO1MatPgwoIeYmi6o2isi9wEl0BCVOAh6KCz7cDlwDHInr7GW6UdPUFm2hO1KN8TJBqhraGF+ci4gQCkf424vr2WtK6ZAJUB6w2xge/95Rfdo3Oxjghyfvwdm3vsrXbn2V33xqP07dZ3J6B2iMGTVSbQl6mapuFpFyETlcRD7tpTAiInkiYlW7BtGFH5pPQW6Qm55aQ0t7hMdXuPoR4Yiyyqs90dgWIhLXQs+vgH3WomkA/O/tbTS0hmhqC7NwSglzJxTx+oYajDEj3/a6FkIRZUp5ajUZ5k0sYeW2+pSKnL22oYb2sHLwrK51FwCCAWHuhGIO2K2c6sY2KutbWTjFgqEm7c7BTTv9bYJ184Ew8F7c8uXeutjtOrW9UtUNQFPcdiaJmsb2Tt3ERiJ/6tnJv36amT+4n9te2sA/X92EKsxJ0GJzuDphwUTuPe+DBASufajnbnDGGJNMqi1BgyJyLbAJeBK4FfBvef0L+FFmhmdSUVGcyz++cggnLpgAwONeUcuL736b9rCy+/giVKGpvXPnU7840fF7TmDfaWXUNrVF5ztWFOcyuSyf7XXxZUSMMSORP4VranlqUyHmTyxmV3N7tC5NrDc21vLCmo6Wwne+spGi3CwOmpm4tZzvsNkd6y0oYdJJRMYCPwbOV9VElfnKgYYELcJrgAIRyYnZrjbB/jXeukTPfbaIvCIir1RWDlxd8HU7G6Ndb4aS2lEwfWN8cef6Mdc9soqly9212SUf3nMwhpQxe00t5dyj57C5prnLzS9jjElVqhkOPwG+iptXOQtXZ8L3H+DUNI/L9NKek0v4/ecW8bH9pvCal93w3JqdHDRzDF84bAYAja2hTvvUepWhywqyKStwlaIrvTcYFUV5jC/OjX5tjBnZNntTvVLtXrFwipuD/PCy7Z2Wqyof/e2zfPKmF1i6bDtvb9rF/97aylkHTqMot7syRq6rx2yveJp1qjBpdiXwoqre3802id5RSYJ1ybZL+I5MVW9S1UWquqiiIll39fQKhSMc9bMnOOXXzwzI86WqLRShsS08ZGoqZMr4ks7TU+qa23l5XTWfWDQ1OrVjJCnNzyaiRKcEG2NMb3V/hdjh88BFqnpzgrZXq3GBCjMEzBxXyL9f30xja8ibHz6Z4jz3a65vCTEh5jq/1uuXXVaQTVl+NmsqGzuCEsW5VBTnsrOhNVo804+AWzcOY0Ye/45qqkGJ/aeXc/DMMfz84ZUct8d4JpXm0x6O8N0734xu85W/vgLA5NI8zj16TkrHvefcD/DejoYeAxjGpEpEFgBfAo4QkTJvsZ8SVCoiYVymQ7GIBOOyJcqAppjsihpvWbxSEmdQDIrHvGmcidpSDqbodccIfGMeK7a4JUBrKEJrKML+0xMm0wx7fkvR2qa2aJFPY4zpjVQzJcpwwYdEcgDrzz1E+D2nX1pbTSiiTBtTEA1KNMRFsHdFMyVyKCvIobapjcp6VxBzXFEOFUW5hCJKTVMb66sa2WvJQxz0k6U8sXJHSvPIjTHDw86GVm55bj27jy8iPye107mIcNXpe9EeivDBax7n+/98k4ff3R7tonHNGXtFt/1/py5I+e5gcV72iL1wN4NmdyAbeB4XVKiho67EJlzxyxW4a5n46Fl8DYkVxNWOEJFpuPaiQ2ZS/b9fd3XJxxUNrTf/Nd600ZGeKQFw21cPAehU1HO/EXpuK/N+n/60YGOM6a1Ub0W9g+vHvTTBupOA19I2ItMvu411qc/PvL8TgGnlBWQHXWZDl+kb3otHaX42pfnZ1LWE2FbXSjAglBfkML7EzYmsbGjl/re30dgWJisYYPHNL1Ocl8WsiiLOO3oOx+85gZufXcuek0o4eFb3c8aNGSlUdchUUJ9x0f849+jZXHBi3+rsvbS2mp0Nrfz20/v1ar9ZFUX85PS9+Nbtb3DnK5u485VNADx5wVHsNraQ8SV5PLp8e7TejTGD5Bng6LhlHwIuBE4G1gDrgTrgTOAKABEpwE1PvSlmvweAC0SkWFX99jNnAc24mltDwvs7GgB382EonatqvEyJ8hFeUwLg0Nljee/Kk2huD7P3kocB1zVoJIoGJYZYZo4xZvhINVPiCuDrIvJH4DjcvMl9ReTHwNdwNSfMEDDDy5R45j0vKDEmn6KY6RuxapvaKcrNIjsYiL6grK5sYFxRDoGARNuKPvLudv79+iY+MGcsL158LKfuM5n6lhBvbqzl27e/zqvrq7ns3mWcddML0WJ56bC+qpG6FnuBM0PPX55bx8wf3E9zW3xNvIFX7/2P/PbxZMlsPatqcNO2Zo4r7PW+p+07hTvOPoRDvM4a+0wtjQZHj543nis+uteQeUNkRidV3amqT8Q+6MhqeFpVV6pqC3A1cLGInCsixwJ34a6TfhNzuBuBVuBuETlORM4GlgDXxbUJHTSRiLKhugkRaA/rkJrnv76qEeh4EzvSZQcDlORls/iwGXzm4OkER+j019J8F2Tyu7oZY0xvpdoS9D/Ap3EBiQdwBZ3+CCwGPqeqD2VqgKZ3ygpyqCjOZeX2enKyAkwqzY/Oze6aKdEx98+/QHhk2XYmlbo55RVeyuHPH1nFxupmFh82k7zsINecsRfXfWIfHv3ukbSHlTN+93z0mK+uT08L0dZQmCN/+gRfvuXltBzPmHT6w9NrAPjXa5v4+t9eHdTg2dZdLf0+RpV3IVnex3neB88ay02fX8TXj+p7toYxQ8DVuIKYPwDuA0qA41U1Ws1VVWuAY3FTPe4FLgN+wRDqQra9voXWUIT9ppUBsHOIFKxeX9XIZfcuY/7EYnYfXzzYwxlQSz6ygCs/tlfPGw5TU8ryKcnL4j9vbB7soRhjhqlUMyVQ1TtVdQZuLuUHgT2B6ap6Z4bGZvpoyakLCIj7mJMViAYl4mtK1Da3R4MRZfkdb0Yu9dpVTRtTwOcP3Y2FU0o4a9E0jttjPAAFOVmcvv9UZlcUcdq+k71tXSBj2670ZEo8v9q1E3x5XXqCHMak00RvatMl97zDA+9s49Hl23vYI3P8oER/khGqG12AMjuY8ktCFyV52Vz4ofl8cPdxfR+IMQNEVW9RVVHVhphlqqpXqupUVc1X1cNV9fUE+y5T1WO8bSap6qUJWokOmvVVrmjtyXtNAuC51VXdbT5g7nplEy3tYf60+EBysvp+rjFDT35OkC9/cBaPr6xkQ9XQa0NrjBn6ev2qoKqrVPU5VV0BZInIF0Xk3QyMzfTRKXtP4o0fncCnD54OQGGyoERTWzQo4W9TlJvFAbu5QkzBgHD5aQu57xuHc83H906Ygv29E+dx/vFzufvrH6AoN6vHu7apFMiMRJS/vbAh+rW1JTVDTfzf+cbq9E1b6q2t3pSpvKyuBSrf39HAVQ8spz0c6fYYVY1tjB3h1fCNGS38KRInLpjI5NI8XlpbPcgjcl5cW8V+08tT7vBjhpcTvNpBb22uHdyBGGOGpW6DEiIyW0QuEpHfish3RWSstzxfRC4A1gF/ArZlfqimN0ryOuZr5mYFyA5KkkwJ90ZkdoWbA/7zT+zTq+eZUJLHN4/dnYriXCaW5rGtm6BEOKKcddML/PDfbydc/+A72/jOHW/wz1c3sTSmON7L66qt24cZMlpDYbbsaub4PTuKN67YNnhTybd4/3OJ7jz+9fl1/P7JNfzikVX8/OGV7EpSGb2qoTXl7hjGmKFtfVUT2UFhUmkeE0rzosUl+yvZ+SNVG6qb+lS3xgwP/mvIUGtDa4wZHpJ23xCRw4EHgTygEhgDnCciZwJ3ADOB+4GPq+rzyY5jBp+IUJibRV3cC8WupnbKvJoSY4tyWXf1Kf16nkmleUkzJTbXNvP5P73I6spGXlpbzacOms6jy3fwxKodXH363sybWMw5f3sVcK3M5k4o4lef3I+FP3qI//v7a4wryuXEBRO4+OQ9olkdxgw0VeWrf30VVfjQgomcc+RsfvHIKpZvrU+6TygcIasf0yJ64k+ZamgNEYkogYBw20sbeG19DQ8vc9NKbnjCFcGsa27nstMWdjlGdWObvVkwZoR4dnUVcycUkxUMMKYgh401Teyoa4l21OqL93c0cNx1T7LHpBL+/X+HkZfdu07wLe1htte1Mq28oM9jMEObX6PM2oKa/moLRcgOihXJHmW6u1K+DNcKdKqqTsQFJZ7FtbzKAY5Q1Q9bQGJ4KMvP5u8vbmDpsu20hyOoaqeaEukwsSRxpkRLe5gbHn+f1ZWN7DmpBIAP/+YZfrF0FW9urOWOlzd2KcL52UN2Iy87yJRyl+a5s6GVv7+4gf+8sSVt4zWmt97atIunVlUya1whh88dxwG7lfOBOeNYu7Mx4TSje9/cwpwfPsDG6vTPsVVV/vlqRxvOcESpbwnx1qZafnD329z16iZ2Nbdz9hGzKPY68NzxykZaQ12nvlc3tjGmMDftYzTGDKw7X97Imxtr+dh+UwBXvHbV9gYO+smj/ToPPbmqEoDlW+t46N3eJcc+tmI7H7vhOaCj/pQZefKyg+RmBSxTwvRLZX0rcy95gL+/uKHnjc2I0l1QYi/gSlXdCuAVg7oQyAe+r6rPDMD4TJr87Mx9mD+xmK/89RV2/+EDXP3ACsIR7VTgsr+mlOezo76lU0uoO1/eyPxLH+TvL27gkwdO47azD2FCSS5nHjCVZy86hqPnjeehd7fxxEp3wXPcHhP44cl78NmDdwPcGy2AO792KLMqCrnHKjubQXTnKxvJzw5yz3kfYHyxu+t42OyxADy/pmsxuR/915XbeWV9+ud0r65s5Ht3vQnAGftPBaC6qY2ly3cQELh58YFcftoCvnXs7jx30THc8Jn9aWmPsGxL56km7eEI1VZTwphhr76lne//6y3AteoFOk3LuuuVjX0+9rubd0U/31TTuxo6X7rlFZZvdeedY+aP7/MYzNBXVpDd72k+ZnTza+Lc2Y/zlRmeugtKjKVrrQj/61WZGY7JlEUzxvDXLx8U/fr3T7mWhqVpzJQ4aeEkIgr/eMlFN1WVXy7t+FM5/4S5lOZn8/xFx/LTM/dhSlk+J+81ic21zZz7j9eYVJrH7z93AF89YhYBr5f3z8/ch1P2nsT+08s4fs8JvL6hhlAPRfuMyYRIRHlk2XaOnl/RqWbLwimllORl8cx7lZ22f3V9DdVegG5FN9M7+mpjjbvr+Y1j5vDhvV2V/Qv/+Ravrq9m/sQSjp4/ns8fOoPC3CyK87LZf7orYPvahtpOx1m+tY6IwvxJo6tFnzEjSWNriKVeF6ALPzSfimKX+VRe0BGUeHVD37tZVTa0ss+0MiaW5LGmsrHH7SMR5cU1VdEMspxggPu+8cFoHSszMoUjLiOvpX3INKMxw4x/3WQTN0afnibn54lI7ARAf/vcuOWoqvUAGuLGF+ex9PwjeeDtrfz8ERcsKE/jBcK8icUs2q2cB97ZyrlHz2HZ1jq27GrhW8fuzkf3mxK9s+wHHABO3Wcy1zy4gh31rXz2kN0IBjqfhg6eNZaDZ7k70bPHFdEeVrbUtjB9rM1LNQPr7c272FHfynF7TOi0PBgQjpw3nkeX7+BLt7xMbVMbc8YX8cDb25hQkktrKMLvn1qDAhefvEfaxrPZu1v5mYN3IyBuHC+tcxkZnztkty7bTyzNY0pZPq9vqMGVBHJeXe/eqPhdd4wxQ9+OuhaK8rIoyHGXZYde9Sh1LSHGFubwhcM6/v+nlndMl3hr4y5UtU/ztCvrW5laXkBhTpDVlQ09bn/7yxu5+N9vc9aiaQD87SsHs3BKaa+f1wwvOxtcEOq51Ts5Zv6EHrY2pqvtdd40cKsnMer0VH3tcaA+5uGH2Z+OW57+24AmI+aML+KzMW9Y0llTAuCAGeWs3FZPaygcnZLx2UN2S1pELycrwF++dBC3fPFAvn7k7G6PvZsXiFhb1fNdGmPS7a1NtQAcNntcl3UfWjCRqsY2Hluxg9c21HLnK5v40MKJ/OVLB3HmAW5qxU1PreHldemZxqGqbKltJisgVBTnMr4kj5cuPrZjPAsnJtxvz8klrNjWcbp+ZNl2Lrt3GZNK85hUanO9jRkOVJWDfvIoX77lleiyuhZXl+nCD82PBioA9p1WFv28vjXE9rrUW2yHwhH+/Mxa3txYy86GNiqKc5hdUcQbG2t7vBP+/g4XuLjjlY3kBAMsnFKS8vOa4evvXzkYoNPrjDGpWl3ZwJJ7lwEQjnTOit5R38K5f38tOr3DjDzdZUp8ccBGYQZUecwcU7/7RrrsPaWM9rBy5yub+NnDK1k4pSSaRprMHpNK2GNSzxcsfmBj3c5GjpxbkZbxGpOqrbtayAoI4xP8PR+7x3g+eeA0Ttl7En95bj1HzauIBv8uOHE+5xw5mwOvXMrT7+3kwBlj+jWONzbW8rEbnmVORRGTyvKi2UVji3I5a9E0AgHhA3O6Bk4A5k0o5pFl27npqdWU5mdz31tbAfjeCfP6NSZjzMDZ4BWsfH5NFTvqWqhs6Ag0nLrP5E7bTi3PZ874IvaYVMK9b27hpXXVHD5nXKfrgGT+9sJ6Lr9vGftPL2NnQyvjinKjHRaOu+5J/nveB9nV3M6k0jw+96cXqWsOcff/HUZhbha1MW1IT1gwoVOgxIxcH5gzjsmleazaVk84ojS1hSjOS+91phm5vnjzy9Facu9sruNLt7zML87al9L8bK7833L+9/ZWdp9QxLePmzvIIzWZkPRVQlX/MpADMYMjnTUlAPby0jMvvecdAM7pIfuhNyqKcynICbLOoqRmEGyra2F8cW6n6Ue+vOwgV5+xNwCH7945YJaTFWBsUS67jy/mbS/boj/ue3MLqvDejgYOntk5wHHNx/fudt+5E13diJ/cvyK67NyjZ3PG/2/vvsOjqtIHjn/f9N5JCAQSAoHQpEtvIgpYsCH2tnZ3bbuyq7v+dNW1rbura8feXcWuoILSpfcaWigBUklCCunn98edDJOQkDbp7+d55iFz75kz5w537tz73nPeY+vNoZRq2YpLy3hgzmb78zOf/MX+9xMX9cPbo+JUnSLCgvvHk5lXxPebj3D3JxvoGuLDklkTT6n7Hz9s542liYyNC+OWsbH2mX3K89D0CPfjjKggnvhhB0mZJxj8+HwA/ji5J2v2Wx1p//b1VrYezmZ3ai7e7q78fXpfzu1Tdc8t1TZ1CPAiI6+IS15ZTlLmCZbMmqhTuasaFRSXcvBYPj3C/Xjg3F7c9sE6ft2Zyoq9GUzp15EEW++bTYeymrehqtHUNHxDtXGBTu4p0SXEm8hAK3fEX6bGc/4ZnWp4Re2JCNGhvuxP16CEanrJ2QV0tO3b9dE/KpAth60x3Q1xwGFav76d6jZGu2eEH2DlnzgrPpxR3UO5dkRMg9qjlGo6ixPSWJ1Y9TCwiIDqj0/Bvh72mYIOVjE16NbD2byxNBGApbvTue7t1Ww/epxxPTvQK8KfuyfFceGATnQL82XXE1Mr9ID81/xd9nOJrzYcZrdt6MZdE7tz+dAuTr/5oVq2AC83dhw9zqakbDLyivhqw8lZ04pKyjicdYJFCal8t0mneFcnJdmSd/9+Yg/O7duR+feNA+D2D9dxySvL7UOCDjTCFOuqZdDQZTv1/R/GsHBnKp5urjUXrgMR4Y3rhvLYd9vt0xQ6U7cwH3Y0wkwGStUk+XgB8R3rP0NFv04BzFmXRGpO4WkvHqrz1YYknpprJYWdPrATj03vh38d7z71DPfntvGxzBzahdgOfnVug1KqeSWkWL9/C+4fx9n/XgKAl7sLwT4e9Ol0+mGQ/71iELd+sI5dyTkYY/jzF5sZ2CWYGUOjOP/Fk7O8dwr04ki2lWzuwanxpwyv9HBz4YFzezHL1mPjvrN70j8qgJtsOS7uPTuO5OwCZg7r6pyNVq2Kv5cb6bknh+98uuagfTjjZa/9xuakk9PLdg3xYYBD3hPVfh3IsIIN5Yns4yL8CfR2J/tEsb231pkxIexIPl5dFaqVaxNBCRFZBIyvYpW3MabAoVxn4CVgMlAAfArMao8zh/TrHNhombD7dQ7ks9tHNkrd0aG+/LwthZLSMtxctaOPajypxwvIKSyhewc/jDEkZxc0KJdJN1sQIDE9r15BifKABsC4uA716uXk4iI8ONV5M4AopZrW3tRcIgO96BHuz/+d34cXf93Nyocm1eoGQ6ifJ2f3jmDdgUySjxfw2dokPlubxFpbAt5J8eE8ckFfwgM8OZx1glBfj2qn8DynTwSzgIemxXPrOGuY5vUjo3lvxQFuHhuLn3bXb7f8PU/+Nt01sTsvL9zL0ewTeLq5VghIgNXL5v2bzqxchWqHyoMS0SEnZ9frGeHHmv2ZBHq78/cL+3I46wSr9x+joLgUL3fn3lRVza8t/WosBB6qtMye/UlE3ICfgCJgJhAE/Nv27zVN0kLVYN1CfSkpMyzYkcKUfpHN3RzVBj01bwc9w/158dfd7M/I57Zxsdx1Vg/yi0rtQ5Pqo1uolaj1QEYeI2zT3NZGcWkZN727huV7MvjdmG48NK33KVPnKqVah71puczbcpSp/ev3+7UnLZfutgDnTWO6cePomDpN8RkRYA27SHCYHeHLDYfp4O/Jf64YSIAtKWH3GnpSBfl4sOOxKXi5n7w58PD5ffjDpDgNSLRzLrZdYtaUXvTuGADsZeRTv1YoE+rrwbCYEHanas/Xtq6szJB8vIBOQaef4evgsXz8PN0IcUjC+8IVg3hvxX7+dE4v3F1d+GzNIcCaoriLQ/BCNY+C4lLmbT1KXLg/32w8zEPTetdryulybemX45gxZuVp1s8AegM9jDGJACJSDHwqIn83xuxuikaqhomxzcBx+4freWhaPNeNjNFoqXKaopIyXl+8z/68a4gPry/ZZ88G3atj/ae16xTkhburkJhet45Z7yxPZOnudACm9Y/UgIRSrVh+USl3fLSe/U+fV+fXGmPYm5rLjKFd7MvqegJY3ktrl20YiJe7CwXFZYzuHmoPSNRW5aSabq4uhPmdfrYt1fblF1nTxYb7ezGyeyguAmUOqZQW/mkC7q7CW8sSWbo7rZlaqZpCZl4Rw5/6haKSMlb/dRId/DxPOWZtPZzNt5uOsPFQFl1DfCqs7xTkXaF3Z3kumwfmbOLTWxunR7aqvbs+Ws8vO1Ptzy8ZHIWXu6t9tsS6qlf/dxHpJyJ3icjvRaR/vd656U0F1pQHJGy+xuo5MaVZWqTqrFdHf0JtUdQn5+7kv79oLEnVrKysdsklHWd2uX5kND/fNw4/TzfeXJaIn6cbI2LrP52nm6sLXUJ86pSo9UjWCZ5fsJuze4ez78lpDIkOrvf7K6Vajs/WHqrza45mF5BXVEr38PrngznZU8JKRnlmN6vXVm2mCFWqNvIKraCEn6crXu6ubH9sCo9P78s/Lu7HV3eOoluYL1HBPnQM8CKvqJScguJmbrFqLHd/uoGikjIAzvzHL/xvTcXjXlFJGbe8v5bZS/ax8VAWPWo4to3sHsqwmGBW7jumSe+b2eGsExUCEgAXv7Kcic8tYsfR+uX9qHNQQkTuAJYAE4BpwGoRubNe7+5c54hIvu3xk4hUnhsvHtjpuMAYUwTsta1TrUCgtzvrHp7M5kfPAbBn+VaqOp+uPsiAx36u1UGy/O7hOzcO49EL++Ll7sq0/tZ0dhcM6NTgxLCxYX7ssnVXNcYwe8leDmZU33Pi7WWJFJWU8cgFfaucilQp1bqUd02uT0C9/K7ygKj654MKt/WU+GK9Nd1nL9uMPB6ao0k5SfksT1HBVvd6L3dXrh0Zw9XDoxnU9WRgvXw2q5TjhadWolqdD1bs58etR+3PjTFsOJhVISH3R6sOVnjNG0v3cTS7gCl9O3LRwE48cG6v076Hl7srD5xrXbLpLBzNa8XejFOWFRRbAagF21PqVWe1wzdExKeaBJB/BkYaYxJs5W4CHgdeqVcLnGMx8B6wB4gG/gosFZEBxpj9tjLBQFYVr820rTuFiNwK3ArQtatmkW5JArzcmRQfziE9KKkafLjqADkFJZz/4jLeun4oE3qFV1t2V0ouLgIjY0PtXQj/dn4fZg7rwoCooAa3ZVDXIBbsSOFYXhGHM0/w5NydfLL6EF/dOeqUhHJFJWV8sT6JyX0idOykUm1EpyBvLhsfy9vLEiksKa1ToHNRQhpRwd70b0CSan9PNzzcXOx3L28c3Q0XEe6Y0L3edSrl6L7JPZnUO6LGZOrlAbqs/KLTllOtw8PfbAPgiYv6EerrQbcOvuQWlvDw+X14/PvtAOw4etyeqP7QsXz++VMCAM9dPqDWuWg6BVnBrKNZJxphK1RtrT+Yib+XGz4erhUCix6uLqw/mFmvOk8XGt8lIldXsVyAMofntesXXQciEigi8TU97A0w5hFjzDvGmKXGmA+BibZ23Vup6qraKtVtgzFmtjFmqDFmaIcO9c+6rxpHlxAfkjJPYIzTd0HVRhSWlLI7JZfz+kfiKsK3m45Uu78YY1ickEpcuH+FPCUBXu4MiQ5xymwvw2Ks4R/rDmSyeJfV7e1w5gnu+ng9JaVl9twVAKsTj5GZX8wljTC1rlKqeQgwICqI4lJTIdlkbRzOOkFsB78GJRITEVwdXh8R4MWD03pXO8uGUnXl7upSq6GG5TNIZeXr8I3WzvG86m9fb+WOj9Yz5fmlAJwRFcj/bh3Bn6fEU1Jm+HL9YX7bm84PW6xeFQ9Oja9TctyIAC9ErOGtqvkcyTpBTKgvj1zQF4DZ1w5h0yPncE7fCBLrObTmdHvBVcB/ROT3wN3GmDW25c8CK0XkF8AHmATMqte7V28G8EYtylX5y2yMSRaR5cBgh8WZWDNtVBZE1T0oVAsXFexNbmEJWfnFOh62BUnKzMcYWsTd/U2HsiksKWP6wE4Ul5bx5frDbDqUxbs3nnlK+9YeyGRTUjZPXNSv0dpzRlQg7q7C2gPHWLs/k36dA7huZAyz5mxm1NO/UlRaxpVnduX6kTH8tC0ZDzcXRveo/UwdSqmW7wzb8IsLX1rO3ien1Tp57ZGsE/Tt1PCpvH09XTlRXMrbNwzVxLmq2QR523pKnKg6KGGMYf3BLNvvpg4vasmOF5RUufyJi/oxNDoYEbEHU2d9sRmwkuwOiArktvF166Xl7upChL8XR7ILGtZo1SAZuUWE+HowrX9khcTNkYFezN+egjHG/n++JzWXE0Wl9K9h6GG133JjzBJgKPA28K2IvC8ikcaYl4GzgGXAz1hDOV5s6MZVeu83jTFS06M2VTn8vZNKuSNExAOIpVKuCdU6lF9UHsrUIRwtgTGGpbvTGPPMQsY+u5CPVh2odYLJxrLxkNWFbHB0MPGR1swZe9PyeMzWldDR/O0peLi6cPGgzo3WHi93V/p3DuSzNYdYdyCT8/p34vKhXZjWvyOpOYVk5Rfz6qK9jHjqFz5YeYCxPcLw8WhLkyQppTo7TI1X2yGIBcWlpOcW0Tmo/tMSlwv3t+ro4NfwupSqr/KeEtnVBCXeWLqPS1/9jdcX723KZql6SMs5GSAYFhNMVLB1jLtiWBf7hWnfTgGc2S3EPrV6QXEZlw2pX0/QyCAv7SnRzI7lFRHqd+oN4chAbwpLyjiWZw3LMsZw50fr+OPnG2us87ShR2N5A+gFpABbROQhYKcx5r+2R83v0sREJAIYDaxzWDwPGCYi0Q7LLgQ8gR+bsHnKSbrYkigdOqYHppbgvd/2c+1bq+3P//rVVpbtSW/GFsHGQ1lEBXsT5ufJFcO6cNmQKC4Z1JnFu9LIK6wY2V+yK40h0cH41qEbYX0MjQkh09ZdtfwHeda58XQJ8eb1a4fw0LR4PN1cuHlMN569rHK+XqVUayciPHOpNXFZbYPqB23Bi/LkgQ3x4lWDmDEkivhI/wbXpVR9+Xu5IQLZ1eSUmLslGYBvNx0BYN6Wo2xOymqq5qk6SM05mVPgokGd+fLOUfx837gKw159Pd347LaRrHhwEpcNieKyIVFceWb98vV1CvKuVVDi0LF80nI0kaqzGWNIzy20z4boqDznx5EsK1C1OvEYu1JyOXgsv8bh9rU6+zbGHAceEJHXgX8BO0XkAWPMnDptRSOwzbLxFPA5cADoCjyIlffieYeic7ASYH4pIg8DgcB/gI+NMTqvZCvUJcSKxCZpT4lmlZ5byBtL9vHmskR8PFy59+w4SsoMz/6YwJbD2Yzr2fT5WDYnZfG3r7eSkJzD5D4RgPUj9tyMAazal8GXGw7z8/ZkLh5kBQVSjxewMzmHWVNOn/nZGcrH2l4zoqt9zu2YMF+WzjrLXuam0d2cksNCKdUyjY2zjosHK/WUyMgt5Ob31zK5TwR3TuhhX14+M1BcRP2nAy3XvYMf/5wxoMH1KNUQLi5CgJd7lcM3CopL2XI4G7C+Iyv3ZXDHR+sB+Pqu0XQJ9ubHbcnEhvkxsrsOcWxu5Rf+C+4fR49wK9hZ3iOrKs818PjTOcib+dtTyD5RzN2fbOD+yT0Z0CWoQhljDNNfXs6xvCIW/mkC3cJ8G/SeylJaZnhq7g4KS8oI9fM8ZX35EMN/z09gWv9IHphjDdcpKC6z9a449TXlTjv7BvAQMBnwANYAjxljpovI2Vj5Jv6AlW9iU723ruEysHJLPAWEAjnAIuAiY4x97hljTLGITAFeAj4DCoFPgQeausHKOfy93AnycdfhG83shQW7+WDlAQA+v32k/YD02ZpDbEnKbpY2fbzqILtTcjm7TwQ3jo6psG5YTAjdwny573+bWLY7g+LSMubbpi8aF9f4AZTJvSN454ZhjI0Lq7aMBiSUch4RmQFcCwzBuiGRADxnjPnEoYxg3dC4AwjDOue5u3JvUBHpA7wIjMTKR/Um8HdjTGld2hQR4IW7q3A48+TdvqTMfKY+v5ScwhI2HMzitnHdcXUR9qXl8qfPrdOs7h0aHpRQqqXoGuLDkl1pFJeW4e7qQlmZocwYkjJPUFpmOCMqkM1J2Vzn0AvzopeX2//2cHNh1YOTNK9YMysPSjTVkLAuIT4UlZTxysI9LN6VxpLdafzzsgHEhPow1JZQ/LmfE+xDCO74cB1z7x6rU6s7wadrDvLmskQAelTxe9QlxIeze0ewYEcKCxOsaayjgr1JyjzBkayC0wYlTnfm+xZwAVbPiIeBjsB8ERFjzAJgIFbvhPkiMrs+G+YMxpjDxphpxphIY4yHMSbUGHOpMeaUPBHGmCRjzEXGGD9bubuqmfZUtRJRwd46fKMZlZYZftpmdbH83ZhuFZKw9esc2CxdLcvKDAt2pHJW73BevmowQ6JDKqx3cRFuHx8LwBfrk/h20xFOFFvXE31seScak4uLMDE+XAMPSjWd+4Fc4D6sYZsLgY9tN1bK/QXrXOcZrHOfXGCBiHQsLyAiwcACrHxV04HHgD8Cf69rg1xdhFBfzwpdiy94cRk5hSUMsCUDK++efN//NuLu6sJ9Z/esMDOQUq3dzWO7sT8jn622XhE3vruGYf9YwLLd1sXM8G7W73dRaRnPXnZGhWD+uJ4dKCopY29abq3fb/aSvZz/4lIKiusUQ1Q1SMspxMPNhQDvpsmBNcHWA/f1JfsAMAb+9Pkm7vxoPbmFJXy94TAvL7Rykdw+vjs7k3PYkXzcKe/99++2cfcnG9rlPlRSWsbT83bi5iLcMymOSb3Dqyz32jWDmRRvrXvy4v68cMVAAA5nnf6S+3R7z1RghjFmPoBtNosMoDuwx3ZX4CUR+Qh4tA7bpJTTdAn2ISGlbtOqKedZsTeD1JxCXrl6MNP6R1ZYNyQ6mO83HyUpM98p46Bra/GuNNJzCzm3b8dqy8wc1pWLBnXm0LF8wgO8eODzTcSE+WoUXam26QJjjGOCm19FpBNWsOJFEfHCCko8ZYx5CUBEVgD7gd8Df7O97nbAG7jENqx1vogEAI+KyLO2ZbUW5u/BgYx8kjLzCfPzJDO/mPiO/jw0rTczZ68kMT2P8ABPNiVlc/ekOO45O64hn4FSLU750Is1+48R5OPB4l1WMOLR76xk1BN7hfPG0kS6hfly6eAoxvfswK6UHMbGdWBn8nGW7Eoj+XjtZmHILSzhybnW/crJ/1nMvZN6cuHATjqzhxOk5RTSwc+zQdMV14Xj7GmvXD2YO21De1JzCun3yE+ANcRj3r1jySss4bXFeznvv8s4p08Er1w9uN43hW7/YB0/2m7EjYkL4/KhXRq4Ja3L5sPZ5BSU8PJVgznvjMhqy7m5uvD6tUNIyjxBTJgvWba8MUmZp7+JfLr/lZ3AtSISYhvKcRuQByQ5FjLGZBpj7qnd5ijlXF1DfEjKPFFt9mbVOIpLy/h20xE+X3cIf083zoo/NVo6ItY62Vi171ijteNgRj4xf/mB3/amk1NQjDGGVxbtITLQiymnCUoAeLq50iPcnwAvd16/digPTu3daO1USjWfSgGJchuA8gPXKCAAa2hn+WvygO+wbtCUmwr8VCn48ClWoGJ8XdsV6uvJ6v3HGPPMQg5kWHeQ7pjQnZ4R1pjs9QczSbZNe1eezV6ptiTc34vOQd5sPXzc3rPS18PqDXRmTAgju4ey4P7x/HjvWFxdhIgAL3s+lo4B1lCBlOOF7E/P453liRzOOsGihFRKq5j565WFewDoEe7HoWMn+OPnm3RmDydJPl5AeED13fIbg0/5ftIthCcvthIHl0+hHuTjzg93jyHAy53IQG8m9LL2mZ+3pzB3a3K93q+guNQekIgK9uYfP+ygqKSsoZvRqqzbb81oNzw2pIaSVmAixpbHI9DbHV8PVw7XkJz0dD0lrgfeBdKxuiomYvWc0IlhVYtxwYBOvLF0Hze/t4ZXrxlC2GnGKinn+XJ9En/+YgsAVw3vWmWX4l4R/gT5uLNyXwaX1nPap5r8tte61vjLF1vIyC0kr8jqTvfkxf3xcNO7H0qpao0CyucGjgdKgcpJr3cAMx2exwO/OhYwxhwUkXzbuu/q0oD03JNDN1bYjmUxob4E+3oQ4OXG8wt288PmowBEBWlQQrVNvTr6s/VwNlHB3ri5CLOmxPPIt9t48pJ+iAg9wqvOoxLo7Y6HmwvrDhzjzaX7OJpdwN+/Ozndd9cQH1KOF/Dkxf3JKSjmlUV7uXhQZ/59+QBKygyXvvobP29P4fdnaQ+khjDGsDM5h8m9I5r0fT+7bSTL9qQT5ufJVcO7csngzriIkJSZT6cg7wrnpa9fO4SM3CIuenk587YcZWh0MN9sPMI1I7ri7+Veq/dbf9C6IH/zuqEcyyti1hebOZJ1wn7h3R7sOHqciADPOl9riQgd/D15Z/l+rhsZU225as/ajTEJxpiRgD8QZozpYYzRqTNVi9KvcyB/v7Ava/Zn8t5v+5u7Oe3Gsj0Z9r9vHtOtyjIuLsLwbiGsTMyocr0zHLBlrj94LN8ekDi7dwRXDGtfXeqUUrUnIpOwckK8bFsUDORWkawyE/AREQ+HcllVVJlpW1fd+90qImtFZG1aWpp9uePJ7C87UwHoGGjd/X34/D4A7E61xss35RA4pZpS304B7EvP45VFe4kJ8+W6kdFseHiyfRaH6ogI3Tv4MXdLMqk5hTw0LZ4xPcK4YVQMI2ND6RTkRbcwX/74+SYe/W47AV5uPHBuL0QEd1cXRsSGsvNoDsWl7etut7MdPJbPsbwi+nZu/Jxcjvp1DuT28d3tz73cXfFwcyG2g98pN8o83VzpFOTN8NhQth7J5rXFe3nmx5088Plmltdy6vrle9JxdRGGx4YQHWodj6tLtJ+RW0hKLYcVlatpusyWYNuR4/SuZ+618uDfBysOVFumxowkti6MefVqgVJN4NqRMbz7234SkjW3RFMoKS1jcUIqI2JDuHlMLLGnyQY/IjaUn7alsPFQFgO7BPHxqoPM357Mq9cMcUrCNsf/89evHYKHmwtje4RpbgilVJVEJAb4GPjGGPOuw6qqzgilinXVlav2jNIYMxuYDTB06FB7uacu6c8d47tz8SvLWbrbOjEO9rHiHzOGduGHLUdZlJDG4K5BdA3VoIRqm24ZF8tXGw6TlHmCqGBvRKTWs2k8cVFf3lqWyG3jujOgSxC3juteYX1ydgGPfb+NCb3CuWxwVIVzgz6RARSVlpGYnmcfMqXqxhjD49/vwNPNhQk9q0562JLEhvny3aYjzN1i9UD7cVsyP25LZni3EB65oC99OlV9wV1QXMqcdUmMiA3B38vdntOiqkT7xhgm/HMROYUl7HtyWrXnoyv2ZtAzwo9QP08+XHmA/8zfxSMX9qWopIyoYG8GdQ3C061lJDYuKC7lurdXk5CSw8WDO9erjsuGRPHGkn0knWbGxKZJk6pUI+vV0Z/tR5yTWVed3vqDWRwvKOG6kTGc3ef03fXKk1hd9PJyBncNYv3BLAA+WX2QG0dX3cOiLnYePc4FAzrx6AV9TjvNkFJKiUgIMA84CFzjsCoT8BcR10q9JYKAfGNMsUO5oCqqDqTqHhSnFeDlTr/Ogbbu68cJ8HKrMOzswam9ST1eyGvXDqlr1Uq1GgFe7swY0oX/LNhlD8rV1pDokFNm2HLUMdCLV66u+vvTzdZTab8GJTiQkUdkoHedh70eyMhnwY4UHji3V6sInHa3DQVKzy1iQJcgNh3KIi7cj1WJx7jjo3X8fN84eyCgtMywal8G4QGezNuSTMrxQv57xSDg5JTOB229dY0x9iSfS3ank1NYAsDUF5ZyZrcQHr2wL6624MSRrBM8++NOvt54BFcXoW+nADYnWbPP3P3JBntbw/09GdYthL9Mia+Q2LM5zF6yj9WJx/B0c2Fav+oTXNbE38uNnIKSatdrUEK1CT0j/Jm3NZkTRaV4e7SMyGJbtWBHCm4uwhiHqbmqE98xgFevHszbyxPZevg4N46OYXNSNi8v3MvMYV3w8aj/IehgRj5Hsgu4LTpYAxJKqdOyJez+HvAAzrP1Ai23E3AFegAJDsvjbescy8VXqrcL4FupXJ3Ehvmx9fDxU8bp9uroz9x7xta3WqVajdgOVoAgp6DpkpbHhFrv+c2mI0zqHWG/aGxv9qTmcPa/lwAw756xFbrnO15sV1ZYUso2283AsbU4H2wJzooP57bxsYT5enLj6BhcRHBxEX7YfJS7Pl7PpkPZrE7MYN7WZMb37MAri04mQp3aryPDbQncXV2EzkHeHMrMxxjDtW+tpqSsjCvP7MqbSxPtAYUfNh8lISWHriE+XDsymqLSMj5fm8TXG48wqGsQBcVlbE7KZmxcGA+c24uftiUTF+7PzuQcZi/Za70+OYdv7hqNr2fzXLK/vSyRf8/fxdi4MD743fAG1eXv5UaaQy6lyjQoodqEPpEBGAMbD2XZ784r5/ttTzpvLUtkUnw4AbVMDjS1fyRT+0dSVmZwcRHW7j/GZa+t4P0VByqMB6yrZbZxgLUJjiil2i8RcQM+B+KA0caY1EpFfgOOAzOAJ2yv8QEuwDbswmYe8ICI+BtjyseOzQROAIvr275QP+vucEgtu6wr1db07xwIwIReTTcEINDHnRBfD37YfJRlu9PZ+H+Tm2xKy5agoLiUxPQ8Nh7Ksi9bvied3pEBfLk+ied+SiD5eAGxHfz44HdnEhl4MtluWZnhjEd/prCkDBGIqyH/R0vh5+lW5UxrQ6KtlECzl+xjwY4UAHvA5fKhUYT7e3HL2NgKr+kS4sPSXWl0e3CufdlK22xz/3d+H24a043/XF7GBS8u4x9zd/DkvB34uLsSEehFbAdfvrpzNMYYygz2gNgZUUH2uu4Y3533V+znX/N38fyCXfz1vD7O+yCqcKKolMe+386Ufh0Z39OareTHrck89v12hsUE88Z1Qxv8Hv5e7uxLrz4jhAYlVJswJi4Mb3dXvtt8RIMSjejj1QcJ9nHn3zMH1vm15ePqhsaEMKFXB2ve6P6Rde6WlplXxG0frGP1/mN0DvImth1lPlZK1csrwDTgHiBEREY4rNtgjCkQkaeBh0UkE6vXw/1YycBfdCj7GnA38KWIPAPEAo8C/640TWidlPeQCKpj13Wl2oqYMF82PDyZIJ/a3exwlk9uGcG5zy8h+0QxmfnF7Sow+Oi32/h0zSH7TGne7q58s/EI/l5u9tnVAPak5vLl+sPcNbEHALmFJWw+lEWhbTrMSfHhrb6HcvmMEgt2pBAT6sOdE3uwNzWX8T07MKpH1Te+YkJ97bmAvN1dWfnQJDYczGRXSg43jIoBwMPNhe/+MIZ3lieycl8GCxPS2JeWx/SBnQArWatrNXGwQB937pzYg/k7Upi3NblRgxKFJaXc+sFalu5O55PVB/HxcOX9m87k/77ZSp/IAD6+ZQTurg2f0U6Hb6h2wcfDjbP7RPDztmT+cVE/e7S7uLTMKV+k9sQYw6w5m5nUO5wpDmPHCopLWZSQxgUDIvFrYDeyP0+J5/LXVjDhuUU8emFfrh0RXevX/nv+Llbvt6LRfz2vd7u6s6GUqpdzbP++UMW6bsB+4GmsIMSDQCiwFphsjEkpL2iMybTN3PES1vSfWcB/sAIT9Rbg7W77V0/JVPtV2+SWztSroz9vXDeUW95fy8Fj+e0qKLH2gDXFZUJKDo9c0IfSMsMTP+ywByQ+/N1wBnYN4ub31vDir7u5enhXjuUVce7zSygutfL13nt2HDdX6kHQGokI7900jC1J2ZzTt2Ot9oPbxseSkVfIGVFBXD8yBm8PVyb0Cj+lt4+Hmwu3je/ObeO7M/SJ+aTnFjGxlj2CXF2ECwd04okfdpCeW1jnqThra/bifSzdnU5EgCcebi4cOnaCy15bAcDzVwx02nWUv5f7aYdo6S+gajOGxQTz3aYjHM0uoFOQNz9vS+aOj9bTt1MAb10/jA7+mnegNg5k5PP5uiQ+X5fEOzcOo7C4jIe/2Yqnmwu5hSVcOKB+mXcd9Y4MYO49Y7nqzZU8PXcHriJcMaxLjbNmlJUZvtl4mAsHdOLuSXHVzl+ulFLljDExtShjgH/YHqcrtx04yzkts+TbkqLVdkicUsp5utp6ax48ls/ALkFOq/eVRXv4ZUcqL145iE5B3jW/oA5KywylZabOiSkdeblbr31oWrw98fjkPhEczjyBh5sLQ2OsBKL3nt2TK2avZNTTv5Jvm3o9zM+T/7ugDxcO6NTALWk5+nYKpG+nwFqXjwr2qTaJanU+vHk4n64+xDl9T58k3lF5jo+dR3MY3cODhQmpBHq7nzbBa12V3+j79NaRdAvzZf72FB78cgsTenVgZKzzep/7e7nZA1pV0aCEajP62cYkfr3xMB6uLjw9byfe7q4kJOdwx4fr+ORW53Q/auuWOszZfOM7a+x/+3u68cyl/Z02PKZLiA+/G92NR7/bzkNfbSGvsIRbxsVSUlrG60v2cXbvCHp1tMYplpUZRGBXag7HC0oY37ODBiSUUm3CJYOjmL89hVvGtf47jkq1Nl1CrIDBoWPVT1VYV0t3p/Hsj1bO3FFP/8rj0/ty7cgYp9SdnF3A6Gd+5dLBnXn2sgH1qqO0zJCYlscNo2IqTKMaHepLdGjFIbHlgZr8olK83F145tIzuHBAJ+2lWg/xHQN49MK+dXpNn8gA3F2F1xbvZXViBv/9dQ8A90yKY2T3UDYdyiK/qJRbx8XWKxlmSWkZGw5mcc2IrvYZaSb3iWByDbPr1Ud5r8DqaFBCtRm9O1rRxPIfggFRgbx1wzAW7kzlgTmb6fm3ebxy1WCm9q//dDZt3boDmby6cA9Rwd78fN84rn5zFSWlhteuHUKYn4fT50ye3LcjT/ywg5Iywz/m7mBfeh4nikr4euMR/vVzAj/dO464CH9mfbGZ5XvSKf8JHBbjvAixUko1pw7+nsy5Y1RzN0OpdsnHw40wP08OZtQvKJFfVMJVb6zi4fP7MCQ6mILiUm77YB0xoT7cMi6Wv361lQ9WHmhwUCI7v5gr3lhJem4hpWWGz9Ym1SsoUVxaxnu/7SevqJQzomruGeDl7sr3fxhDgJc77m5SIeGlanzBvh48eXF/HpizmWV70pnQqwNZ+cW88MtuXvhlt73cnHVJDI8N4ZoR0QzuGnzaOsvKDD9vT8bfy51nftxJbmEJZ3Zr/Hx8oTUMi9GghGozvD1cuWxIFHPWJQFw7+SehPl5ctmQKFxEeHNZInd+vJ7nZw5k+sDaD0HIzCvC092lQdNXtgZJmflc9cZKIgK8eP6Kgfh4uPHF7aMQodEi4p2DvNnx+BRKywxPzt3Bx6sOUlJmGBsXxs7kHG55fy0f3TLC/n/q7iqM6RFmv7OhlFJKKdUQXUO8OVjPnhJbkrLZeCiLR77dyitXDWHpnjTyi0p54Nx4zjsjkr2peXy8+oB9BrL6+nzdIXYctaYOPiMqkM1J2aw7cIy4CH/8Pd1YlJCGm6swqGswfp5uPDl3B7/tTeecPh2JDvUhJtQXPy83/vrVFvssETVdvJYr74msmseMoV1YmJBK6vFC3rhuKO6uLiSm57HpUBbDuoWw8+hxnp63k282HuH7TUf59g+jie8YUG19zy/YZe9xARAT6sPoJpgkoKacGG37Kku1O8/NGMCt42L5ZPVBxtoy5ooIlw6JYlr/SK54YyX3fLqRYB8PBkQFEeDtVuMF96DH59O/cyDf/WFMU2xCkyotM/apiD5ZfZDi0jI+unm4fUaMhvyA1pa7qwvurvDY9H7cNr47ydkFDO4axIp9GVz1xipGP/0rAC9fNZgxcWEE1tD9SymllFKqtrqF+TFv61G2Hs6u8wX40ewCAIyB3723ht2puQD062xdFMZF+FFQXMaBY/n27vH1seFgFtGhPix+YCLrDlhTq1/66gr8PN0Y0yOMH7clA9a0lzOGRvHO8v0AbD186sRA14zoysWDOhOjs5e1Gi9dORg4eV7eLczXvj91DvJmUu8I0nIKGfHUL3y/6SjxHQNYmJBKjw5+dAnx4ZuNhzmaXUCQtzuvLNrLkOhgXEW4YECk04YW1STMT3tKqHamZ4Q/j1xw6pgtbw9XZp3bi6vfXMV1b68GrPmHT9f9rXyM4ZbD2RhjEBESknNITM9lZPfWfYH8n/m7eH/Ffm4eG0u4vyfv/XaAs+LD6zxFpzN1DvKmsy0h1KjuYdwzKY4XftnNdSOjOe8MHXajlFJKKef63ZhufLE+ifv+t5H594+v02sT0/MA2HbEuvgP8nHnupEx9gSa5cNN312eyIRe4QyODq7XuWNCSg49I6w8W0OiQ/jp3nFsO5LNcz/tsgckXr16MO/+tp93f9tPmJ8nX905ig7+nmw7ks2OoznM23qU+87uaU9iqVqP2twk7OBv9aJ5aeEeVu8/xurEY4T4ejA2LoxvNh6xlxvcNYh3bxyGfxMnVw7VnhJKnTS6Rxhf3jmKWXM2syc1l8/WJnHFmV2r7cK2Yl+G/e81+zNJTM+1T5cU5ufBPy8bwMT42k3t0xSyTxTz6eqDrE48xvkDIrl4UFSV5easS7KPRfvnT1YOjqhgbx6b3q/J2lob903uycxhXYgM9GrupiillFKqDerTKYD7J/fk3/N3sTslhzjbxX9t7M/Iq/D8mUvP4Ny+He3Pu3fwJTbMl/dWHOC9FQcI8/OkZ4Qfs6bE1zjbR+rxAr7ddISkzBPsSc1lmkNOtJ4R/vSM8Gdw12CmvrCUZy49g6n9I5naP5LcwhLcXAQvdysP2JDoEIZEW/kGVNt2w6gYNhzcyOHME8wYEsXXGw/zzcYjnNMngosGdWb7kePcPqE7fvVIitlQAV5ueJxmwgGxZsFSNRk6dKhZu3ZtczdDOUlxaRm5BSUMf/IXrhsZzd/O73NKmYLiUi56eTk7k3MqLB/TI4xbx8Xyjx92kJCSw/ieHXhwWjw9w/2bZLhDdQqKS5k5eyWbDmUB1tQ7P947zt7zoNyy3elc9/YqRnUP47HpfcnIKyIjt5CxcR3qlblXKdU+iMg6Y8zQ5m5Ha6bnEkq1THvTcpn0r8VMig8nJsyX7zcfYVLvCO6dFEd4QPU3Rqa/tAx/L3emD+zE4l1pPHlJ/1Om980+UcwVs1ey4+hxfDxc7VNr9o4MYGh0MDOHdTll2MiLv+zmX/N32Z+fERXI+zedSZDPqV3gHYfiKpWRW0iIrwciwqFj+RSWlBEb5tus1yjlPlp1gGtGxFR5LqFBiVrSE4m26cZ3VrM7NZelsyaeklviw5UH+NvXW3n7hqF08PPi2Z92klNQwoc3D8fP042C4lLeWpbIcz8nYAyM6h7Km9cPdXpCzIUJqfSJDCDC9qNYPoyknDGG2Uv28erivWTlF/PaNYPp3sGPC19ajsEQE+pLbmEJceF+xEX4M2ddEmF+Hnx91+g2n7xTKeU8GpRoOD2XUKrlmjVnE5+tTaqw7Oze4bx6zZAqp5T/cn0S93+2iZlDu/DMZWfU6j2MMexMzuGJH7aTllPIntRcQnw9WPngJNxcXTDGYAyMfPoXUo4X8sHvzmR097AWcUGplDNUdy6hVySqXZvSryMLv9jCtiPHK0SpcwqKeWd5IvEd/ZnYKxwR4YPfDa8QEPByd+WuiT0YERvC4oQ0Xly4hwe/3MLzMwc6bbaKeVuOcsdH6+kR7sek+HB+3JZMyvECOgV6M7J7KH89rzc/bk3mqXk76RXhz5/O6cWUflb3vp/uHcfspXtJzi7A082VHUePszAhjRBfD169ZogGJJRSSimlbIZEB9uDEq9fO4S1+4/xxtJEXl+8l9+fFVehbH5RCX//bjtAnXJeiQi9IwP46OYRAMzdcpQ7P1pPj7/OQwQ83VwoKTWUlBmenzmQsXEdnLR1SrVselWi2rWze0fgIlv4Yn0SJ4pLEeCHLUeZsy6JnIISnr30jAoBhqqCDeVj9TzcXHju510E+3jwt/N64+YQVd+fnsf3m49w2/ju9mh7YUkpnm6u1batpLSMf8zdAcCe1Fz22DI6W68t46NVB/ly/WFOFJfSOzKAuXePqdC+rqE+PHFRf/tzYwy7UnKJCvbWYRpKKaWUUg4uHhRF6vFCth05zlnx4ZzbtyN70/J497f93D6+e4Xzui/XHyb7RDFzbh/ZoMSRE3uFM7xbCBl5RQR5uxMZ5M13m44QEeDJ1P4da65AqTZCr0xUuxbq58mUfh15Z/l++/RJAB5uLrx/05mM61n7CPWdE3qQcryQd3/bT5/IAC4f1sW+7o+fb2LdgUxmL9nHH86KI6+ohFcW7mVMXBjTB3ZicNfgCrNePPrtNtYdyCQp8wT/vOwMth05zrT+kXQM8KJTkBduri4s35POF+uSKCot49oR0TX2zhARenWsffImpZRSSqn2wsPNhT9MqtgjYsaQKH7dmcp7Kw5wwYBIwv2tobS/7kyla4gPQ6KrTpReW94ervzvtpEVlt05oTuRgV6nvXGlVFujQQnV7v3zsgFEBnoTF+5HgLc7g7oG4eHqUuPUNZW5uAiPTe/L6sRjzPpiM99sOsyDU3tzLK+IdQcy7Qkny3s/jI0LY9W+DH7dmYq7q/D+TcOJ7+jPK4v28O5v+wG4aXQ3LhkcxYyhpwYcRvcIY3SPsIZtvFJKKaWUqtKwblYviMe/387j32/n/DMiuerMrizelcbNY7o5bbiuo96RAU6vU6mWToMSqt3z9XTj4Spm36gPEeEv0+J5e1kiGw9lceFLy3B3daFXhD9f3zUaEfhpWzKdg7wZGhNCRm4hCSk5/OWLLVz/zmrcXYS8olKCfdxZ+uezmmXKHqWUUkopBWF+nnQL8yX1eAEd/D35fvNRvt98FH8vN24a0625m6dUm6FXPEo52cRe4UzsFc7Ww9k88+NOOgV6c9/knnh7WN3wpg/sbC8b6ufJKD9Pnr9iIE/P20mnQC+uGh5NTKiPBiSUUkoppZrZD3ePwd3VBXfb0NmXft3DPWfH2WdFU0o1nE4JWks6jZdSSqn2TKcEbTg9l1BKKdWeVXcuceqkuy2MiMwUkS9F5KiIGBG5oZpynUXkKxHJFZF0EXlJRHyqKHeLiOwWkQIRWScikxp9I5RSSimllFJKKXWKFh+UAC4DYoDvqysgIm7AT0A0MBO4B5gBzK5U7grgNeB9YCqwDfheRPo1RsOVUkoppZRSSilVvdYwaH2mMaZMRPyAm6spMwPoDfQwxiQCiEgx8KmI/N0Ys9tW7u/Ae8aYx21lFgODgL8A1zTmRiillFJKKaWUUqqiFt9TwhhTVotiU4E15QEJm6+BImAKgIjEAj2BzyrV/bnt9UoppZRSSimllGpCLT4oUUvxwE7HBcaYImCvbR0O/1YoB+wAQkSkQ6O2UCmllFJKKaWUUhW0laBEMJBVxfJM2zoc/q1cLrPSejsRuVVE1orI2rS0NCc0UymllFJKKaWUUuWaPKeEiAQCkTWVM8ZU7tFQ40uqersqlld+LtW93hgzG1uyzKFDh+rcqUoppZRSSimllBM1R6LLGcAbtSgnNRexywSCqlgexMmeEZkOy7IrlYGqe1oopZRSSimllFKqkTT58A1jzJvGGKnpUcdqd3IyZwQAIuIBxHIyh0T5vxXK2Z4fM8bo+AyllFJKKaWUUqoJtYYpQWtjHnCViEQbYw7Yll0IeAI/Ahhj9onILqyeGj8BiIiL7fm8mt5g3bp1uSKS0BiNBwKp2HujpdcbBqQ3Qr2t7XOA1vNZ6GfQ+PW2ts+hMetubZ9Fa/scoHHaXFOdvZz8fu1OA84l6vv/3dZfV9/vWH3erym3rSHf75a+bQ15re6XznmNvq79vq4l7JtVn0sYY1r0A+gDXAZcg5X34SXb8/EOZdyBrcA6YBpwJZAMfFipriuBUuBvwETgXeAE0K8W7VjbiNs4u5XV2yifRWv7HFrTZ6GfQZPU26o+B/0sWu/n0FhtrqnOxtye9vKo72dY3//vdvC6Jvs8m3LbGvL9bunb1praqfulvq4Nvq7Z983q2tAaekpcDjzi8Pwu22MxMAHAGFMsIlOwAhafAYXAp8ADjhUZYz4RET/gz8DDwDbgfGPM1kbehpp818rqbSz6OZzk7DbrZ9D49TaWxmyvfhaNW29jaow2t8bPob2o7/9NW39dfdXn/Zpy2xryebT0bWvIa3W/dM5r9HXt93X11ej7ptgiFqoGIrLWGDO0udvREuhncZJ+FvoZlNPP4ST9LCxt7XNoa9vTHPQzdC79PFVLpPulaqlawr5ZXRuaPNFlKza7uRvQguhncZJ+FvoZlNPP4ST9LCxt7XNoa9vTHPQzdC79PFVLpPulaqlawr5ZZRu0p4RSSimllFJKKaWahfaUUEoppZRSSimlVLPQoIRSSimllFJtlIg8KiJ1mgZQRBaJyJzGapNSoPumOkmDEg70iwEicoOIrBKRPBE5LiKLReTCOtZxjojc20hNbHT12Q/aIrEkiogRkR7N3Z7mpscHPT6U02OEqo4eJxpOv1+qpdJ9U7VUbWHf1KCEshORV4E3gVXARcBMYD/wjYj8uQ5VnQPc6+TmqaY3Eoix/X1FM7ZDtQB6fFBKKaWUUo1BgxIKABG5CLgd+L0x5m5jzHxjzDxjzPXAs8CTIjK4WRupmtqVQB7WReiVzqhQRNxFxNUZdammo8cHpZRqG2w93oyI+FVavl9Enmuudiml+2b7pkGJarTDL8Y9wB7gjSrWPQnkAL8vXyAiF4vIahE5ISIZIjJXRKJF5FHgj0C07fMzIvJuE7S/UYiIr4i8JCIJIpJvG87wsogEVCpnROQeEXlSRNJEJNVWzrO52t4QtsDBDOBb4G2gj4ic4bC+/PsxTESW2vaDXSJycaV6FonIHBG5VUT2AgVAp6bclsagx4cK2u3xAdrvMULVrB0eJ5xOv1+qpdJ9U7VUrXXf1KCEQkTcsLrqf2eMKa283hiTDSwExtnKXwt8CewFLgduBHYBHbC6d38MJNvqHAk83vhb0Wh8AFfgr8BU4GHgLODzKsr+EeuC+xrgn8BtWBdzrdFZQATwKTAHKKbq3hL/A74BLgG2AJ+LyIBKZUYDdwB/Bi4AshupzaoR6PGhRu31GKFUU9Dvl2qpdN9ULVWr3DfdmuNNVYsTBngCB05T5gAwRURcgKeBr4wxjhep35b/ISJHgUJjzMrGaGxTMsakYV1QA/YLtERgmYh0NcYcdCi+3xhzg+3vn0RkNNbF+rNN1V4nuhLIAn40xhSJyHzgChF5yBhjHMq9aYx5DkBEfgK2Aw9SMQdFEDDIGJPcJC1XzqbHh9Nox8cIpRqdfr9US6X7pmqpWuu+qT0lVF31woqovdPcDWkqInKtiGwQkVysHgPLbKt6Vir6c6Xn24Goxm6fs9m6bV2MdWFZZFv8CVbSyxGVin9V/ocxpgyr18SZlcqs04BEu9Hujg/Q/o4RSjUl/X6plkr3TdVStcZ9U4MSCiAdKASiT1MmGjgMhNqeH23sRrUEthwJ7wMrsHIsjMC6YAfwqlQ8q9LzoirKtAZTsXo3zBWRIBEJAhZh7SOVh3CkVvE8stKyFOc3UTUhPT6cRjs9RijVJPT71SgKbP96VFoe3NQNac1032wUum86QWvdNzUoUb1288UwxpRg7bjn2bpfV2BLjDIBWAJk2BZXvvBsq2YAq4wxd9pmG1gFZDZ3oxpZeeDhc6xtzQQOYXXhv1wqzp4RXum14Zx6QWpoe/T4YNPOjw/QPo8RqnbazXGiEen3y/mSbP/2Ll8gIsOBgKqLq2rovul8um86R6vcNzUoUb329sV4AatLz81VrPsL1na/BCRg3RG9/jR1taUIsDfWXWJHVzdHQ5qCLUv8+VjDNSZWetyPlfxyosNLLnZ4rQswHVjdVO1tRnp8OKk9Hx+gnR0jVJ20t+NEY9Dvl/OU3yBYjXWc/q+ITBORa7BmVjrebC1rnXTfdB7dN52rVe6bmujyVFV9MR4GQoBZtNEvhjHmaxF5DXhZRPoA32PtHzOBG4AHjTHrAURkFvCRiHyEdfFqsLK6fmKMWQvsBCJE5AZgK5BujNnftFvUYOX7wXysz+SvwCpgGjCp2VrV+KZjZe19wRZZtROR5ViZfK8EltoW3ywiRVj/z7cAPah6lo62Qo8Penwo116PEapm7fI44WT6/XIub6yAMLbk1RcDr2DNrpWAlRTvo+ZrXqui+6Zz6b7pPK1639SgREXt/YtxJ9bOewfWBWYZsB6YboyxZ883xnwsIgVYF6hzgDxgJZBmK/IZ1t30Z7GmAXwP68KltbDvB8DrQCzW9DheWF/0q7C2ty26EthdOSABYIwpFpHPbGXKe0NcAfwHeALrruBMY8yGpmpsE9Pjgx4fyrXnY4Q6vfZ+nHAG/X45X3fAnnHfGLMGGFapTIzjE2PMhEZvVeuj+6bz6b7pHK1+35SKs/u1byIyB+hsjBnZ3G1RzUf3g5rZ7nK/A/gbY3KbuTlNQvcLVU73BVUd3TcaTj9D5xGRvlhB4OeAR4wxzzRzk1o13TedR/dN52oL+6b2lKDCF+N84JFmbo5qJrofqKrofqHK6b6gqqP7RsPpZ9goXsK6E/0C8O9mbkurpftmo9B90wna0r6pPSUAEVmI9cX4BPibMaa4mZukmoHuB7XXnnpK6H6hyum+oKqj+0bD6WeoWirdN1VL1Zb2TQ1KKKWUUkoppZRSqlnolKBKKaWUUkoppZRqFhqUUEoppZRSSimlVLPQoIRql0Rkhoh8KyKHRSRXRNaJyJWVyoiIPCQih0TkhIgsEZGBlcr0EJHXRWSTiJSKyKJq3i9IRN4WkWO295snIj0abwuVUvXlxONDjfXUti6l2pJm+A2OFJF3HN5vg4hc3XhbqFojPTdULVV7OC/RoIRqr+4HcoH7gAuBhcDHIvIHhzJ/AR4GngEusJVfICIdHcr0BaYBu2yP6vwPOBdrzuCrgFDgFxEJcMrWKKWcyVnHh9rUU9u6lGpLmuw3WERcgG+B8cAsYDqwEvhQRC524jap1k/PDVVL1fbPS4wx+tBHu3sAYVUs+xhItP3tBWQD/+ew3hdIA55wWObi8PccYFEV9Y4EDHCWw7IIIB/4U3N/FvrQhz4qPpx4fDhtPXWpSx/6aEuPJv4Njrf9Bl9Qafl64H/N/Vnoo+U89NxQHy310R7OS7SnhGqXjDHpVSzeAITb/h4FBACfObwmD/gOmOqwrKwWbzcQKAEWO7wuBdgMnFfHpiulGpkTjw811VPrupRqS5r4N9jd9m92peVZgNSuxao90HND1VK1h/MSDUooddIoYLvt73igFNhdqcwO27q68AJKjDGllZYXAr3r2kilVLNw1vHBsZ6G1qVUW9JYv8FbgVXAYyISJyIBInIDMBp4rf7NVe2EnhuqlqpNnZdoUEIpQEQmYY0zfdm2KBjIreLHIhPwERGPOlS/B/ASkf4O7+cN9ANC6t9qpVRTcNbxoYp66l2XUm1JY/4GG6vv8VSsc95dWD0mZgM3GWN+bWjbVdul54aqpWqL5yUalFDtnojEYI2n+sYY867DKlNV8dOsq85PQCLwuoj0EpFIrLszgViRSKVUC+Ws48Np6qlzXUq1JY39G2xLdPkBVhLBmcBE4HngLRGZUvcWq/ZAzw1VS9VWz0s0KKHaNREJAeYBB4FrHFZlAv4i4lrpJUFAvjGmuLbvYYwpAq7ASmC0EzgCxALvAyn1brxSqlE56/hwmnrqXJdSbUlT/AYD52ON0b/IGPOZMWaRMWYW8BXwbL0br9osPTdULVVbPi/RoIRqt0TEB/ge8ADOsyVxKbcTcAUqzxcdb1tXJ8aY1ba64oEexpixWEllVtaj6UqpRuas40MN9dSpLqXakib8DY7HOpGuPD56A9C9jnWpNk7PDVVL1dbPSzQoodolEXEDPgfigKnGmNRKRX4DjgMzHF7jgzVX77z6vKexJBhj9opIHHA28FZ96lJKNR5nHR9qUU+t61KqLWni3+ADWOOge1VaPgTYX8e6VBum54aqpWoP5yVujVWxUi3cK8A04B4gRERGOKzbYIwpEJGngYdFJBMrMng/ViDvxfKCti/pNNvTzkCAiFxmez7XGJNvK/ewrY50oD/wMPCpMWZ+Y22gUqrenHJ8qEU9hXWoS6m2pCl/g+didVH+WkQeA9KwhnNcDtzVWBuoWiU9N1QtVZs/LxErKbFS7YuI7Aeiq1ndzRizX0QEeAi4AytB1lrgbmPMBod6YrASFVVbj63c81gRxzDgEPAG8C9jTElDt0Up5VxOPD7UWI+tXI11KdWWNMNvcA/gKaxpQAOAvVgn57ONnggrGz03VC1Vezgv0aCEUkoppZRSSimlmoXmlFBKKaWUUkoppVSz0KCEUkoppZRSSimlmoUGJZRSSimllFJKKdUsNCihlFJKKaWUUkqpZqFBCaWUUkoppZRSSjULDUoopZRSSimllFKqWWhQQinVJETkURExtkeZiGSKyBoR+YeIdKxHfbNEZILzW6qUUkqp1kRE+tnOLybU4TW3ishFjdYopVStaVBCKdWUsoGRwCjgCuBL4Fpgi4gMqWNds4AJTm2dUkoppdqLW4GLmrsRSilwa+4GKKXalRJjzEqH5z+JyKvAEuB/ItLLGFPaTG1TSimllFJKNTHtKaGUalbGmCysXg/dgckAIvK0iGwRkVwRSRKRjxyHeIjIfiAUeMRhSMgE2zoXEfmLiOwRkUIR2SUi1zfxZimllFKqkYjInSJySETyROQ7ILLS+j/ahohmi0iKiHwnIj0c1i8ChgDXO5xH3OCw/mYR2WY7jzggIrOaaNOUapc0KKGUagkWAiXACNvzcOBJ4DzgXiAW+FVEXG3rL8YaCvIW1nCQkcB627oXgb8Bs22v/wp4W0TOb/StUEoppVSjEpHpwMvA98AlwBbg7UrFooCXgOnALYArsFxEAm3r7wR2AnM5eR7xg63+B4BXga+B821/Py4iv2+0jVKqnRNjTHO3QSnVDojIo8DvjTFh1aw/CnxtjLmj0nJXoCOQBIw3xiyxLU8HXjLGPOpQtgewC7jRGPOew/L3gd7GmGFO3SillFJKNSkRWQ1kGGOmOix7A7gZmGiMWVSpvCvgAaQCdxlj3rctXwtsNcbc4FA2ADgC/NMY83eH5Y9h5aDorMNMlXI+7SmhlGopxP6HyFQR+U1EsrF6UCTZVvWsoY5JQBnwlYi4lT+AX4CBDj0tlFJKKdXK2H7HBwHfVFr1ZaVyI0RkvohkYJ1H5AN+1HweMRLwBT6vdB7xKxCB1QNDKeVkmuhSKdXsRMQLK0dEiogMA77FGnbxNNadDQOsBLxqqCoMq4tmdjXrIzkZ4FBKKaVU69IB6/oltdJy+3MR6Qr8DKwGbsPq+VCENTyjNucRANuqWd8FOFC3JiulaqJBCaVUSzAR63i0AitfRBow09jGl4lIdC3rOYZ1R2Q0Vo+JyiqfxCillFKq9UjD+p0Pr7Tc8fkUwAeYbozJA7D1dgipRf3HbP+eD6RUsT6hTq1VStWKBiWUUs1KRIKAZ4A9wAKsk4liUzHhzdVVvLSIU+94/IrVUyLQGDPf+a1VSimlVHMxxpSKyEasBJavOay6xOFvb6wbEyUOyy7n1Oueqs4jVgAngE7GmB+c0WalVM00KKGUakpuIlI+w4Y/1nRcd2Dd0ZhiO9mYD9wrIs8D3wGjgGuqqGsncJ6I/AjkAgnGmAQReQ34VESeBdZinXD0BXoaY25uxG1TSimlVON7EvhSRF7FGuo5HuuGRrnyGxTviMhbWOcAfwKyKtWzEzhXRM4FMoBEY0yGLTH3C7ZemkuwcvD1xEqieXGjbZVS7ZgmulRKNaVArLsQvwGfA5cBHwL9jTHrAIwxc4E/A5di5ZYYj9WNsrIHgDysMaJrsAIcAHcBjwPXYU319S7W1KBLGmODlFJKKdV0jDFfAX8ALsCatnMQ8DuH9VuAG4HhWNOGXgXM4NR8U08AO4DPsM4jLrC9/lmsmTamYiXU/ASrx+bSRtokpdo9nRJUKaWUUkoppZRSzUJ7SiillFJKKaWUUqpZaFBCKaWUUkoppZRSzUKDEkoppZRSSimllGoWGpRQSimllFJKKaVUs9CghFJKKaWUUkoppZqFBiWUUkoppZRSSinVLDQooZRSSimllFJKqWahQQmllFJKKaWUUko1i/8HBHhdWdKe3UwAAAAASUVORK5CYII=\n",
      "text/plain": [
       "<Figure size 1080x360 with 2 Axes>"
      ]
     },
     "metadata": {
      "needs_background": "light"
     },
     "output_type": "display_data"
    }
   ],
   "source": [
    "plt.figure(figsize=(15,5))\n",
    "\n",
    "plt.subplot(121)\n",
    "roi_series.dropna().plot()\n",
    "plt.axhline(0, color = 'grey')\n",
    "plt.ylabel('% Return on Investment')\n",
    "plt.xlabel('Date')\n",
    "plt.title('If You Bought ETH 1 Year Ago, What Is Your ROI Today?')\n",
    "\n",
    "plt.subplot(122)\n",
    "daily_df.close.plot()\n",
    "plt.title('Price of ETH')\n",
    "plt.ylabel('Price of ETH')\n",
    "plt.tight_layout()\n",
    "plt.show()"
   ]
  },
  {
   "cell_type": "markdown",
   "id": "dfdcb969",
   "metadata": {},
   "source": [
    "We can alter the way we frame our discussion of ROI. Instead of being backwards looking, we can make it forward looking by changing the direction of our `.shift()` and changing the order of our variables in our formula:"
   ]
  },
  {
   "cell_type": "code",
<<<<<<< HEAD
   "execution_count": 71,
   "id": "851656c5",
=======
   "execution_count": 82,
   "id": "98443d72",
>>>>>>> 373b953267b28adbd845fecc534482013c65f095
   "metadata": {},
   "outputs": [
    {
     "data": {
      "text/plain": [
       "date\n",
       "2017-07-01    69.895045\n",
       "2017-07-02    70.799317\n",
       "2017-07-03    69.273155\n",
       "2017-07-04    68.515502\n",
       "2017-07-05    77.076606\n",
       "                ...    \n",
       "2020-03-09          NaN\n",
       "2020-03-10          NaN\n",
       "2020-03-11          NaN\n",
       "2020-03-12          NaN\n",
       "2020-03-13          NaN\n",
       "Freq: D, Name: close, Length: 987, dtype: float64"
      ]
     },
<<<<<<< HEAD
     "execution_count": 71,
=======
     "execution_count": 82,
>>>>>>> 373b953267b28adbd845fecc534482013c65f095
     "metadata": {},
     "output_type": "execute_result"
    }
   ],
   "source": [
    "where_we_were_a_year_ago = daily_df.close.shift(-365)\n",
    "where_we_are_today = daily_df.close\n",
    "\n",
    "roi_series = ((where_we_were_a_year_ago - where_we_are_today) / where_we_are_today) * 100\n",
    "roi_series"
   ]
  },
  {
   "cell_type": "code",
<<<<<<< HEAD
   "execution_count": 72,
   "id": "283f2ce0",
=======
   "execution_count": 83,
   "id": "c21d9c68",
>>>>>>> 373b953267b28adbd845fecc534482013c65f095
   "metadata": {},
   "outputs": [
    {
     "data": {
      "image/png": "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\n",
      "text/plain": [
       "<Figure size 1080x360 with 2 Axes>"
      ]
     },
     "metadata": {
      "needs_background": "light"
     },
     "output_type": "display_data"
    }
   ],
   "source": [
    "plt.figure(figsize=(15,5))\n",
    "\n",
    "plt.subplot(121)\n",
    "roi_series.dropna().plot()\n",
    "plt.axhline(0, color = 'grey')\n",
    "plt.ylabel('% Return on Investment')\n",
    "plt.xlabel('Date')\n",
    "plt.title('I bought ETH today, what does my future look like?')\n",
    "\n",
    "plt.subplot(122)\n",
    "daily_df.close.plot()\n",
    "plt.title('Price of ETH')\n",
    "plt.ylabel('Price of ETH')\n",
    "plt.tight_layout()\n",
    "plt.show()"
   ]
  },
  {
   "cell_type": "markdown",
   "id": "ac160240-29f5-4834-acd0-ac7c9f1563ea",
   "metadata": {},
   "source": [
    "### Time Zones\n",
    "\n",
    "#### Timestamp with no timezone"
   ]
  },
  {
   "cell_type": "code",
<<<<<<< HEAD
   "execution_count": 73,
=======
   "execution_count": 84,
>>>>>>> 373b953267b28adbd845fecc534482013c65f095
   "id": "574e5167-c222-447c-85eb-2fa3088f3b0f",
   "metadata": {},
   "outputs": [
    {
     "data": {
      "text/plain": [
       "Timestamp('2020-04-14 10:25:25')"
      ]
     },
<<<<<<< HEAD
     "execution_count": 73,
=======
     "execution_count": 84,
>>>>>>> 373b953267b28adbd845fecc534482013c65f095
     "metadata": {},
     "output_type": "execute_result"
    }
   ],
   "source": [
    "t = pd.Timestamp('2020-04-14 10:25:25')\n",
    "t"
   ]
  },
  {
   "cell_type": "markdown",
   "id": "7fedb21f-37c7-4a64-bd1c-b173f8114e36",
   "metadata": {},
   "source": [
    "#### Specifying the timezone"
   ]
  },
  {
   "cell_type": "code",
<<<<<<< HEAD
   "execution_count": 74,
=======
   "execution_count": 85,
>>>>>>> 373b953267b28adbd845fecc534482013c65f095
   "id": "925765ac-fbcd-4819-b5b8-bef2a5c7e018",
   "metadata": {},
   "outputs": [
    {
     "data": {
      "text/plain": [
       "Timestamp('2020-04-14 10:25:25-0500', tz='US/Central')"
      ]
     },
<<<<<<< HEAD
     "execution_count": 74,
=======
     "execution_count": 85,
>>>>>>> 373b953267b28adbd845fecc534482013c65f095
     "metadata": {},
     "output_type": "execute_result"
    }
   ],
   "source": [
    "t1 = pd.Timestamp('2020-04-14 10:25:25', tz='Us/Central')\n",
    "t1"
   ]
  },
  {
   "cell_type": "markdown",
   "id": "e3e9f4be-8db1-484e-9aa3-0f066e0de1e9",
   "metadata": {},
   "source": [
    "#### Convert to a different timezone"
   ]
  },
  {
   "cell_type": "code",
<<<<<<< HEAD
   "execution_count": 75,
=======
   "execution_count": 86,
>>>>>>> 373b953267b28adbd845fecc534482013c65f095
   "id": "91749708-53ad-4e9b-8bd7-b223ba9fbe2d",
   "metadata": {},
   "outputs": [
    {
     "data": {
      "text/plain": [
       "Timestamp('2020-04-15 00:25:25+0900', tz='Asia/Tokyo')"
      ]
     },
<<<<<<< HEAD
     "execution_count": 75,
=======
     "execution_count": 86,
>>>>>>> 373b953267b28adbd845fecc534482013c65f095
     "metadata": {},
     "output_type": "execute_result"
    }
   ],
   "source": [
    "t1 = t1.tz_convert(tz='Asia/tokyo')\n",
    "t1"
   ]
  },
  {
   "cell_type": "markdown",
   "id": "75c8ce86-63cb-4757-b372-f11916658408",
   "metadata": {},
   "source": [
    "### Timedelta"
   ]
  },
  {
   "cell_type": "code",
<<<<<<< HEAD
   "execution_count": 76,
=======
   "execution_count": 87,
>>>>>>> 373b953267b28adbd845fecc534482013c65f095
   "id": "c84da6b7-284d-40e1-b70a-bc7193119f85",
   "metadata": {},
   "outputs": [
    {
     "data": {
      "text/plain": [
       "Timestamp('2020-04-14 10:25:25')"
      ]
     },
<<<<<<< HEAD
     "execution_count": 76,
=======
     "execution_count": 87,
>>>>>>> 373b953267b28adbd845fecc534482013c65f095
     "metadata": {},
     "output_type": "execute_result"
    }
   ],
   "source": [
    "t"
   ]
  },
  {
   "cell_type": "code",
<<<<<<< HEAD
   "execution_count": 77,
=======
   "execution_count": 88,
>>>>>>> 373b953267b28adbd845fecc534482013c65f095
   "id": "dd99aa60",
   "metadata": {},
   "outputs": [
    {
     "data": {
      "text/plain": [
       "Timestamp('2020-04-15 10:25:25')"
      ]
     },
<<<<<<< HEAD
     "execution_count": 77,
=======
     "execution_count": 88,
>>>>>>> 373b953267b28adbd845fecc534482013c65f095
     "metadata": {},
     "output_type": "execute_result"
    }
   ],
   "source": [
    "t + pd.Timedelta('1d')"
   ]
  },
  {
   "cell_type": "markdown",
   "id": "93cdd0d9-86e3-4454-9190-a123d3f859c5",
   "metadata": {},
   "source": [
    "#### What if I need the time right `now`?"
   ]
  },
  {
   "cell_type": "code",
<<<<<<< HEAD
   "execution_count": 78,
=======
   "execution_count": 89,
>>>>>>> 373b953267b28adbd845fecc534482013c65f095
   "id": "7dc8c3d1-c8ae-4292-bd4d-f161b93e1550",
   "metadata": {},
   "outputs": [
    {
     "data": {
      "text/plain": [
<<<<<<< HEAD
       "Timestamp('2022-12-05 11:54:16.230968')"
      ]
     },
     "execution_count": 78,
=======
       "Timestamp('2022-12-05 12:00:13.173725')"
      ]
     },
     "execution_count": 89,
>>>>>>> 373b953267b28adbd845fecc534482013c65f095
     "metadata": {},
     "output_type": "execute_result"
    }
   ],
   "source": [
    "now = pd.Timestamp.now()\n",
    "now"
   ]
  },
  {
   "cell_type": "markdown",
   "id": "271522cd-f153-41f8-b291-4afdf23c27ce",
   "metadata": {},
   "source": [
    "#### Now let's to some time math!"
   ]
  },
  {
   "cell_type": "code",
<<<<<<< HEAD
   "execution_count": 79,
=======
   "execution_count": 90,
>>>>>>> 373b953267b28adbd845fecc534482013c65f095
   "id": "32ffed1f-cfd2-4855-a2d4-451631d89577",
   "metadata": {},
   "outputs": [
    {
     "data": {
      "text/plain": [
<<<<<<< HEAD
       "Timedelta('965 days 01:28:51.230968')"
      ]
     },
     "execution_count": 79,
=======
       "Timedelta('965 days 01:34:48.173725')"
      ]
     },
     "execution_count": 90,
>>>>>>> 373b953267b28adbd845fecc534482013c65f095
     "metadata": {},
     "output_type": "execute_result"
    }
   ],
   "source": [
    "time_since_t = now - t\n",
    "time_since_t"
   ]
  },
  {
   "cell_type": "markdown",
   "id": "7a8e364e-4496-440f-af0c-c46c238c2be6",
   "metadata": {},
   "source": [
    "### What if we just want to return the days?"
   ]
  },
  {
   "cell_type": "code",
<<<<<<< HEAD
   "execution_count": 80,
=======
   "execution_count": 91,
>>>>>>> 373b953267b28adbd845fecc534482013c65f095
   "id": "8bd8bf43-86d7-4887-8af5-93650d2f3572",
   "metadata": {},
   "outputs": [
    {
     "data": {
      "text/plain": [
       "Timedelta('1 days 00:00:00')"
      ]
     },
<<<<<<< HEAD
     "execution_count": 80,
=======
     "execution_count": 91,
>>>>>>> 373b953267b28adbd845fecc534482013c65f095
     "metadata": {},
     "output_type": "execute_result"
    }
   ],
   "source": [
    "pd.Timedelta('1d')"
   ]
  },
  {
   "cell_type": "code",
<<<<<<< HEAD
   "execution_count": 81,
=======
   "execution_count": 92,
>>>>>>> 373b953267b28adbd845fecc534482013c65f095
   "id": "c03a3de4-11e5-4313-80db-f80560781487",
   "metadata": {},
   "outputs": [
    {
     "data": {
      "text/plain": [
       "965"
      ]
     },
<<<<<<< HEAD
     "execution_count": 81,
=======
     "execution_count": 92,
>>>>>>> 373b953267b28adbd845fecc534482013c65f095
     "metadata": {},
     "output_type": "execute_result"
    }
   ],
   "source": [
    "time_since_t // pd.Timedelta('1d')"
   ]
  },
  {
   "cell_type": "markdown",
   "id": "63ae00a4-b522-421f-9e27-6fe960bbb79c",
   "metadata": {},
   "source": [
    "#### Simpler way"
   ]
  },
  {
   "cell_type": "code",
<<<<<<< HEAD
   "execution_count": 82,
=======
   "execution_count": 93,
>>>>>>> 373b953267b28adbd845fecc534482013c65f095
   "id": "bb27e6f5-260b-4cd3-b874-e62bbd420c07",
   "metadata": {},
   "outputs": [
    {
     "data": {
      "text/plain": [
       "965"
      ]
     },
<<<<<<< HEAD
     "execution_count": 82,
=======
     "execution_count": 93,
>>>>>>> 373b953267b28adbd845fecc534482013c65f095
     "metadata": {},
     "output_type": "execute_result"
    }
   ],
   "source": [
    "time_since_t.days"
   ]
  },
  {
   "cell_type": "markdown",
   "id": "a1d8f125-369a-4bf7-b8ca-bf46f4940ee2",
   "metadata": {},
   "source": [
    "#### but if we want total seconds then we need to do the math"
   ]
  },
  {
   "cell_type": "code",
<<<<<<< HEAD
   "execution_count": 83,
=======
   "execution_count": 94,
>>>>>>> 373b953267b28adbd845fecc534482013c65f095
   "id": "e452acd8-541e-4f19-8fbb-8b4d02ae2978",
   "metadata": {},
   "outputs": [
    {
     "data": {
      "text/plain": [
<<<<<<< HEAD
       "83381331"
      ]
     },
     "execution_count": 83,
=======
       "83381688"
      ]
     },
     "execution_count": 94,
>>>>>>> 373b953267b28adbd845fecc534482013c65f095
     "metadata": {},
     "output_type": "execute_result"
    }
   ],
   "source": [
    "days_in_seconds = time_since_t.days * 24 * 60 * 60\n",
    "\n",
    "seconds_in_timepart = time_since_t.seconds\n",
    "\n",
    "days_in_seconds + seconds_in_timepart"
   ]
  },
  {
   "cell_type": "markdown",
   "id": "6ca191ca-a055-48f4-a2a8-ad6f3314e9d6",
   "metadata": {},
   "source": [
    "#### So know timedelta math becomes the simplier way"
   ]
  },
  {
   "cell_type": "code",
<<<<<<< HEAD
   "execution_count": 84,
=======
   "execution_count": 95,
>>>>>>> 373b953267b28adbd845fecc534482013c65f095
   "id": "ef5c9184-c430-4854-ad18-f4f4f75ce033",
   "metadata": {},
   "outputs": [
    {
     "data": {
      "text/plain": [
<<<<<<< HEAD
       "83381331"
      ]
     },
     "execution_count": 84,
=======
       "83381688"
      ]
     },
     "execution_count": 95,
>>>>>>> 373b953267b28adbd845fecc534482013c65f095
     "metadata": {},
     "output_type": "execute_result"
    }
   ],
   "source": [
    "time_since_t // pd.Timedelta('1s')"
   ]
  },
  {
   "cell_type": "markdown",
   "id": "0aefc00d-afe1-428e-a00f-f1a0b828789d",
   "metadata": {},
   "source": [
    "#### Takeaway: Use whichever method gets you answer for you"
   ]
  },
  {
   "cell_type": "markdown",
   "id": "4bcff727",
   "metadata": {},
   "source": [
    "## Summary\n",
    "- Preparing a dataframe to use datetime objects\n",
    "    - Using `pd.to_datetime()` to convert a date-like string into a datetime datatype\n",
    "        - Difficult strings may need specific formatting\n",
    "    - Setting our date column to be our new index\n",
    "        - This allows for easy plotting \n",
    "\n",
    "\n",
    "- We can extract components of a date (month, year, day of week, etc.) from a datetime index or column\n",
    "    - This allows us to create categorical columns that we can explore\n",
    "        - Filtering by components\n",
    "        - Grouping by components\n",
    "    \n",
    "    \n",
    "- We can get specific time periods of our data by \"slicing\" our index\n",
    "    - `df[date]` will give us all observations that can reasonably match that request\n",
    "    - `df[date1:date2]` sets a starting and ending point and is inclusive\n",
    "    - Less specific slices return more data\n",
    "    \n",
    "    \n",
    "- We can change the period of our data by `.asfreq()` or `.resample()`\n",
    "    - `.asfreq()` will bluntly change the frequency of our data\n",
    "        - We can add arguments to make our request more specific (i.e. show me the weekly frequency on Wednesdays)\n",
    "        - If we \"upsample\" our data and increase the frequency, we may create null values\n",
    "            - These can be filled by the `method='bfill'` or `method='ffill'` argument\n",
    "    - `.resample()` will aggregate our data for us (like a groupby for dates)\n",
    "        - We will set the period we want to aggregate against (daily, weekly, etc.) and the aggregator we want to use (mean, min, max, etc.)\n",
    "        \n",
    "        \n",
    "- We covered the additional methods `.rolling()`, `.shift()`, and `.diff()`\n",
    "    - `.rolling()` can be used to create a \"rolling average\" (any aggregator can be used) that looks at the last `n` observations to aggregate on\n",
    "    - `.shift()` can be used to ask the questions:\n",
    "        - \"What was the value `n` periods ago?\" `.shift(n)`\n",
    "        - \"What will the value be `n` periods in the future?\" `.shift(-n)`\n",
    "    - `.diff()` can be used to ask:\n",
    "        - \"What is the difference between the current value and `n` periods ago?\" `.diff(n)`\n",
    "\n",
    "\n",
    "- Finally, we talked about Time Zones and Timedeltas\n",
    "    - Time zones can be added through the use of `pd.Timestamp()`\n",
    "    - Time deltas represent an amount of time between two observations, or can be used to add time or substract time from an observation\n",
    "        - Functionality is accessed via `.Timedelta()`\n",
    "        - Floor division can be an easy way to break down a timedelta into a simpler component. "
   ]
  },
  {
   "cell_type": "code",
   "execution_count": null,
   "id": "fd4ae6dc",
   "metadata": {},
   "outputs": [],
   "source": []
  }
 ],
 "metadata": {
  "kernelspec": {
   "display_name": "Python 3 (ipykernel)",
   "language": "python",
   "name": "python3"
  },
  "language_info": {
   "codemirror_mode": {
    "name": "ipython",
    "version": 3
   },
   "file_extension": ".py",
   "mimetype": "text/x-python",
   "name": "python",
   "nbconvert_exporter": "python",
   "pygments_lexer": "ipython3",
   "version": "3.9.12"
  }
 },
 "nbformat": 4,
 "nbformat_minor": 5
}
